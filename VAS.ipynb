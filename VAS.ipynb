{
  "cells": [
    {
      "cell_type": "code",
      "source": [
        "# Parameter Cell\r\n",
        "object_name=\"VAS\"\r\n",
        "instance_name=\"czpoh_2\"\r\n",
        "\r\n",
        "config_path = 'abfss://development@dscglblceedadlstpldnsazr.dfs.core.windows.net/config'\r\n",
        "bronze_path = f'abfss://production@dscglblceedadlsppldnsazr.dfs.core.windows.net/bronze/blueyonder_wms/{instance_name}'\r\n",
        "silver_path = f'abfss://development@dscglblceedadlstpldnsazr.dfs.core.windows.net/silver/{instance_name}'\r\n",
        "gold_path = f'abfss://development@dscglblceedadlstpldnsazr.dfs.core.windows.net/gold/{instance_name}'"
      ],
      "outputs": [
        {
          "output_type": "display_data",
          "data": {
            "application/vnd.livy.statement-meta+json": {
              "spark_pool": "dscglceedaspt",
              "session_id": 1894,
              "statement_id": 104,
              "state": "finished",
              "livy_statement_state": "available",
              "queued_time": "2022-04-25T07:35:50.6990592Z",
              "session_start_time": null,
              "execution_start_time": "2022-04-25T07:35:51.0910128Z",
              "execution_finish_time": "2022-04-25T07:35:51.5712523Z"
            },
            "text/plain": "StatementMeta(dscglceedaspt, 1894, 104, Finished, Available)"
          },
          "metadata": {}
        }
      ],
      "execution_count": 103,
      "metadata": {}
    },
    {
      "cell_type": "code",
      "source": [
        "columns = ['LODNUM',\r\n",
        "           'TRNDTE',\r\n",
        "           'ACTCOD',\r\n",
        "           'SUBNUM',\r\n",
        "           'PRTNUM',\r\n",
        "           'TRNQTY',\r\n",
        "           'FR_ARECOD',\r\n",
        "           'TO_ARECOD',\r\n",
        "           'TOSTOL',\r\n",
        "           'USR_ID',\r\n",
        "           'EXPQTY',\r\n",
        "           'RPTQTY']\r\n",
        "\r\n",
        "           \r\n",
        "ACTCOD = ['CS_XRF',\r\n",
        "          'GENMOV'\r\n",
        "          'PL_XFR'\r\n",
        "          'FL_XFR'\r\n",
        "          'ASN_REMOVE']"
      ],
      "outputs": [
        {
          "output_type": "display_data",
          "data": {
            "application/vnd.livy.statement-meta+json": {
              "spark_pool": "dscglceedaspt",
              "session_id": 1894,
              "statement_id": 105,
              "state": "finished",
              "livy_statement_state": "available",
              "queued_time": "2022-04-25T07:35:52.4067133Z",
              "session_start_time": null,
              "execution_start_time": "2022-04-25T07:35:52.8121519Z",
              "execution_finish_time": "2022-04-25T07:35:52.8124884Z"
            },
            "text/plain": "StatementMeta(dscglceedaspt, 1894, 105, Finished, Available)"
          },
          "metadata": {}
        }
      ],
      "execution_count": 104,
      "metadata": {
        "jupyter": {
          "source_hidden": false,
          "outputs_hidden": false
        },
        "nteract": {
          "transient": {
            "deleting": false
          }
        }
      }
    },
    {
      "cell_type": "markdown",
      "source": [
        "## Imports\r\n"
      ],
      "metadata": {
        "nteract": {
          "transient": {
            "deleting": false
          }
        }
      }
    },
    {
      "cell_type": "code",
      "source": [
        "import numpy as np\r\n",
        "import delta.tables as DT\r\n",
        "import pyspark.sql.functions as F\r\n",
        "import pyspark.sql.types as T\r\n",
        "from datetime import datetime"
      ],
      "outputs": [
        {
          "output_type": "display_data",
          "data": {
            "application/vnd.livy.statement-meta+json": {
              "spark_pool": "dscglceedaspt",
              "session_id": 1894,
              "statement_id": 106,
              "state": "finished",
              "livy_statement_state": "available",
              "queued_time": "2022-04-25T07:35:54.1906315Z",
              "session_start_time": null,
              "execution_start_time": "2022-04-25T07:35:54.6197691Z",
              "execution_finish_time": "2022-04-25T07:35:55.0853396Z"
            },
            "text/plain": "StatementMeta(dscglceedaspt, 1894, 106, Finished, Available)"
          },
          "metadata": {}
        }
      ],
      "execution_count": 105,
      "metadata": {
        "jupyter": {
          "source_hidden": false,
          "outputs_hidden": false
        },
        "nteract": {
          "transient": {
            "deleting": false
          }
        }
      }
    },
    {
      "cell_type": "markdown",
      "source": [
        "## Loading Data"
      ],
      "metadata": {
        "nteract": {
          "transient": {
            "deleting": false
          }
        }
      }
    },
    {
      "cell_type": "code",
      "source": [
        "df_DLYTRN= (spark\r\n",
        ".read\r\n",
        ".format(\"delta\")\r\n",
        ".load(f\"{bronze_path}/DLYTRN\")\r\n",
        ".select(columns)\r\n",
        ".where(\"ACTCOD = 'CS_XRF' OR ACTCOD = 'GENMOV' OR ACTCOD = 'PL_XFR' OR ACTCOD = 'FL_XFR' OR ACTCOD = 'ASN_REMOVE' \"))\r\n",
        "\r\n",
        "df_CALMST= (\r\n",
        "spark\r\n",
        ".read\r\n",
        ".format(\"delta\")\r\n",
        ".load(f\"{bronze_path}/CALMST\").select(F.col('DCSDTE'), F.col('WH_ID'), F.col('WRKFLG'))\r\n",
        ".where(\"DW_VALID_FLAG = TRUE\"))\r\n"
      ],
      "outputs": [
        {
          "output_type": "display_data",
          "data": {
            "application/vnd.livy.statement-meta+json": {
              "spark_pool": "dscglceedaspt",
              "session_id": 1894,
              "statement_id": 107,
              "state": "finished",
              "livy_statement_state": "available",
              "queued_time": "2022-04-25T07:35:55.6575577Z",
              "session_start_time": null,
              "execution_start_time": "2022-04-25T07:35:56.1319908Z",
              "execution_finish_time": "2022-04-25T07:35:56.6213294Z"
            },
            "text/plain": "StatementMeta(dscglceedaspt, 1894, 107, Finished, Available)"
          },
          "metadata": {}
        }
      ],
      "execution_count": 106,
      "metadata": {
        "jupyter": {
          "source_hidden": false,
          "outputs_hidden": false
        },
        "nteract": {
          "transient": {
            "deleting": false
          }
        }
      }
    },
    {
      "cell_type": "markdown",
      "source": [
        "## PHOTOSHOP_IN\r\n",
        "#### Geting start date, number of items and other needed columns\r\n",
        " \r\n",
        "\r\n"
      ],
      "metadata": {
        "nteract": {
          "transient": {
            "deleting": false
          }
        }
      }
    },
    {
      "cell_type": "code",
      "source": [
        "df_DLYTRN_IN = (df_DLYTRN\r\n",
        ".filter((F.col('TOSTOL') == 'PHOTOSHOP-IN'))\r\n",
        ".groupBy('LODNUM')\r\n",
        ".agg(\r\n",
        "     F.min(F.col(\"TRNDTE\")).alias('DW_START_DATE'),\r\n",
        "     F.sum('TRNQTY').astype(T.LongType()).alias('DW_MOVED_QNTY'),\r\n",
        "     F.count(\"PRTNUM\").astype(T.LongType()).alias('DW_NBR_ITEMS'),\r\n",
        "     F.collect_list('SUBNUM').alias(\"DW_SUBNUM_SET\")))\r\n",
        "     #3659"
      ],
      "outputs": [
        {
          "output_type": "display_data",
          "data": {
            "application/vnd.livy.statement-meta+json": {
              "spark_pool": "dscglceedaspt",
              "session_id": 1894,
              "statement_id": 108,
              "state": "finished",
              "livy_statement_state": "available",
              "queued_time": "2022-04-25T07:35:57.3100232Z",
              "session_start_time": null,
              "execution_start_time": "2022-04-25T07:35:57.728263Z",
              "execution_finish_time": "2022-04-25T07:35:58.209279Z"
            },
            "text/plain": "StatementMeta(dscglceedaspt, 1894, 108, Finished, Available)"
          },
          "metadata": {}
        }
      ],
      "execution_count": 107,
      "metadata": {
        "jupyter": {
          "source_hidden": false,
          "outputs_hidden": false
        },
        "nteract": {
          "transient": {
            "deleting": false
          }
        }
      }
    },
    {
      "cell_type": "markdown",
      "source": [
        "## PHOTOSHOP-OUT\r\n",
        "#### Geting end date and reference date\r\n"
      ],
      "metadata": {
        "nteract": {
          "transient": {
            "deleting": false
          }
        }
      }
    },
    {
      "cell_type": "code",
      "source": [
        "df_DLYTRN_OUT = (df_DLYTRN\r\n",
        ".filter((F.col('TOSTOL') == 'PHOTOSHOP-OUT-OPEN')|(F.col('TOSTOL') == 'PHOTOSHOP-OUT-LOT'))\r\n",
        ".groupBy('LODNUM')\r\n",
        ".agg( \r\n",
        "    F.min(F.col(\"TRNDTE\")).alias('DW_END_DATE'),\r\n",
        "    F.min(F.col(\"TRNDTE\")).alias('REFERRENCE_DTE')))\r\n",
        "    #12479"
      ],
      "outputs": [
        {
          "output_type": "display_data",
          "data": {
            "application/vnd.livy.statement-meta+json": {
              "spark_pool": "dscglceedaspt",
              "session_id": 1894,
              "statement_id": 109,
              "state": "finished",
              "livy_statement_state": "available",
              "queued_time": "2022-04-25T07:35:59.0481501Z",
              "session_start_time": null,
              "execution_start_time": "2022-04-25T07:35:59.4258928Z",
              "execution_finish_time": "2022-04-25T07:35:59.9000095Z"
            },
            "text/plain": "StatementMeta(dscglceedaspt, 1894, 109, Finished, Available)"
          },
          "metadata": {}
        }
      ],
      "execution_count": 108,
      "metadata": {
        "jupyter": {
          "source_hidden": false,
          "outputs_hidden": false
        },
        "nteract": {
          "transient": {
            "deleting": false
          }
        }
      }
    },
    {
      "cell_type": "markdown",
      "source": [
        "## Joins and calculations\r\n",
        "#### adding the original dataset to get additional columns"
      ],
      "metadata": {
        "nteract": {
          "transient": {
            "deleting": false
          }
        }
      }
    },
    {
      "cell_type": "code",
      "source": [
        "df_DLYTRN_All = (df_DLYTRN_OUT\r\n",
        ".join(df_DLYTRN_IN,['LODNUM'],'inner')\r\n",
        ".withColumn('REFERRENCE_DTE',F.to_date(F.col(\"REFERRENCE_DTE\"),\"MM-dd-yyyy\"))\r\n",
        ".withColumn('DW_DURATION', (F.col('DW_END_DATE').cast(\"long\")-F.col('DW_START_DATE').cast(\"long\"))/3600))"
      ],
      "outputs": [
        {
          "output_type": "display_data",
          "data": {
            "application/vnd.livy.statement-meta+json": {
              "spark_pool": "dscglceedaspt",
              "session_id": 1894,
              "statement_id": 110,
              "state": "finished",
              "livy_statement_state": "available",
              "queued_time": "2022-04-25T07:36:00.5624657Z",
              "session_start_time": null,
              "execution_start_time": "2022-04-25T07:36:00.9950719Z",
              "execution_finish_time": "2022-04-25T07:36:01.539113Z"
            },
            "text/plain": "StatementMeta(dscglceedaspt, 1894, 110, Finished, Available)"
          },
          "metadata": {}
        }
      ],
      "execution_count": 109,
      "metadata": {
        "jupyter": {
          "source_hidden": false,
          "outputs_hidden": false
        },
        "nteract": {
          "transient": {
            "deleting": false
          }
        }
      }
    },
    {
      "cell_type": "markdown",
      "source": [
        "#####  CALMST EXCLUDED DURATION"
      ],
      "metadata": {
        "nteract": {
          "transient": {
            "deleting": false
          }
        }
      }
    },
    {
      "cell_type": "code",
      "source": [
        "#Creating a joinable CALMST\r\n",
        "CALMST_list = list(df_CALMST.select(F.date_format(F.col('DCSDTE'), \"yyyy-MM-dd\").alias(\"DCSDTE\")).toPandas() ['DCSDTE'])\r\n",
        "CALMST_list = str(CALMST_list)[1:-1] #list of dates without square brackets\r\n",
        "\r\n",
        "joinable_CALMST = (df_DLYTRN_All\r\n",
        ".select(\r\n",
        "    F.col('DW_START_DATE').cast(T.DateType()),\r\n",
        "    F.col('DW_END_DATE').cast(T.DateType()),\r\n",
        "    F.col('LODNUM'),\r\n",
        "F.explode(F.when(F.col('DW_START_DATE')<F.col('DW_END_DATE'),F.expr('sequence(DW_START_DATE, DW_END_DATE, interval 1 day)'))))\\\r\n",
        ".groupBy('DW_START_DATE', 'DW_END_DATE','LODNUM')\r\n",
        "     .agg(F.collect_set(F.date_format(F.col('col'), \"yyyy-MM-dd\")).alias(\"DW_list_dates\"))\\\r\n",
        ".withColumn('DW_EXCLUDE_DURATION', F.when(F.col('DW_START_DATE')>=F.col('DW_END_DATE'),0)\\\r\n",
        ".otherwise(F.size(F.array_intersect(F.col('DW_list_dates'),F.expr(f\"array({CALMST_list})\")))*24))\r\n",
        ".select('LODNUM','DW_EXCLUDE_DURATION'))\r\n"
      ],
      "outputs": [
        {
          "output_type": "display_data",
          "data": {
            "application/vnd.livy.statement-meta+json": {
              "spark_pool": "dscglceedaspt",
              "session_id": 1894,
              "statement_id": 111,
              "state": "finished",
              "livy_statement_state": "available",
              "queued_time": "2022-04-25T07:36:03.4672547Z",
              "session_start_time": null,
              "execution_start_time": "2022-04-25T07:36:03.8472116Z",
              "execution_finish_time": "2022-04-25T07:36:05.738926Z"
            },
            "text/plain": "StatementMeta(dscglceedaspt, 1894, 111, Finished, Available)"
          },
          "metadata": {}
        }
      ],
      "execution_count": 110,
      "metadata": {
        "jupyter": {
          "source_hidden": false,
          "outputs_hidden": false
        },
        "nteract": {
          "transient": {
            "deleting": false
          }
        }
      }
    },
    {
      "cell_type": "code",
      "source": [
        "df_DLYTRN_All = (df_DLYTRN_All\r\n",
        ".join(joinable_CALMST,['LODNUM'],'left')\r\n",
        ".withColumn('DW_ADJ_DURATION', (F.col('DW_DURATION')-F.col('DW_EXCLUDE_DURATION')))\r\n",
        ".select( 'LODNUM',\r\n",
        "         'DW_SUBNUM_SET',\r\n",
        "         'DW_START_DATE',\r\n",
        "         'DW_END_DATE',\r\n",
        "         'DW_DURATION',\r\n",
        "         'DW_EXCLUDE_DURATION',\r\n",
        "         'DW_ADJ_DURATION',\r\n",
        "         'DW_NBR_ITEMS',\r\n",
        "         'DW_MOVED_QNTY',\r\n",
        "         'REFERRENCE_DTE'))"
      ],
      "outputs": [
        {
          "output_type": "display_data",
          "data": {
            "application/vnd.livy.statement-meta+json": {
              "spark_pool": "dscglceedaspt",
              "session_id": 1894,
              "statement_id": 113,
              "state": "finished",
              "livy_statement_state": "available",
              "queued_time": "2022-04-25T07:36:15.6838796Z",
              "session_start_time": null,
              "execution_start_time": "2022-04-25T07:36:16.1463609Z",
              "execution_finish_time": "2022-04-25T07:36:16.6055147Z"
            },
            "text/plain": "StatementMeta(dscglceedaspt, 1894, 113, Finished, Available)"
          },
          "metadata": {}
        }
      ],
      "execution_count": 112,
      "metadata": {
        "jupyter": {
          "source_hidden": false,
          "outputs_hidden": false
        },
        "nteract": {
          "transient": {
            "deleting": false
          }
        }
      }
    },
    {
      "cell_type": "code",
      "source": [
        "#display(df_DLYTRN_All)"
      ],
      "outputs": [
        {
          "output_type": "display_data",
          "data": {
            "application/vnd.livy.statement-meta+json": {
              "spark_pool": "dscglceedaspt",
              "session_id": 1894,
              "statement_id": 97,
              "state": "finished",
              "livy_statement_state": "available",
              "queued_time": "2022-04-25T07:32:44.2745032Z",
              "session_start_time": null,
              "execution_start_time": "2022-04-25T07:32:44.7107028Z",
              "execution_finish_time": "2022-04-25T07:33:12.8763628Z"
            },
            "text/plain": "StatementMeta(dscglceedaspt, 1894, 97, Finished, Available)"
          },
          "metadata": {}
        },
        {
          "output_type": "display_data",
          "data": {
            "application/vnd.synapse.widget-view+json": {
              "widget_id": "63fa8e26-27ff-486b-bc40-3a370058832f",
              "widget_type": "Synapse.DataFrame"
            },
            "text/plain": "SynapseWidget(Synapse.DataFrame, 63fa8e26-27ff-486b-bc40-3a370058832f)"
          },
          "metadata": {}
        }
      ],
      "execution_count": 96,
      "metadata": {
        "jupyter": {
          "source_hidden": false,
          "outputs_hidden": false
        },
        "nteract": {
          "transient": {
            "deleting": false
          }
        },
        "collapsed": false
      }
    },
    {
      "cell_type": "markdown",
      "source": [
        "## Duplication check\r\n"
      ],
      "metadata": {
        "nteract": {
          "transient": {
            "deleting": false
          }
        }
      }
    },
    {
      "cell_type": "code",
      "source": [
        "#df_DLYTRN_All.select('LODNUM').distinct().count()#8870"
      ],
      "outputs": [
        {
          "output_type": "display_data",
          "data": {
            "application/vnd.livy.statement-meta+json": {
              "spark_pool": "dscglceedaspt",
              "session_id": 1894,
              "statement_id": 100,
              "state": "finished",
              "livy_statement_state": "available",
              "queued_time": "2022-04-25T07:35:06.3042889Z",
              "session_start_time": null,
              "execution_start_time": "2022-04-25T07:35:06.7051653Z",
              "execution_finish_time": "2022-04-25T07:35:06.7054547Z"
            },
            "text/plain": "StatementMeta(dscglceedaspt, 1894, 100, Finished, Available)"
          },
          "metadata": {}
        }
      ],
      "execution_count": 99,
      "metadata": {
        "jupyter": {
          "source_hidden": false,
          "outputs_hidden": false
        },
        "nteract": {
          "transient": {
            "deleting": false
          }
        }
      }
    },
    {
      "cell_type": "code",
      "source": [
        "#df_DLYTRN_All.select('LODNUM').count()#8870"
      ],
      "outputs": [
        {
          "output_type": "display_data",
          "data": {
            "application/vnd.livy.statement-meta+json": {
              "spark_pool": "dscglceedaspt",
              "session_id": 1894,
              "statement_id": 101,
              "state": "finished",
              "livy_statement_state": "available",
              "queued_time": "2022-04-25T07:35:08.3561549Z",
              "session_start_time": null,
              "execution_start_time": "2022-04-25T07:35:08.7377781Z",
              "execution_finish_time": "2022-04-25T07:35:09.1690483Z"
            },
            "text/plain": "StatementMeta(dscglceedaspt, 1894, 101, Finished, Available)"
          },
          "metadata": {}
        }
      ],
      "execution_count": 100,
      "metadata": {
        "jupyter": {
          "source_hidden": false,
          "outputs_hidden": false
        },
        "nteract": {
          "transient": {
            "deleting": false
          }
        }
      }
    },
    {
      "cell_type": "code",
      "source": [
        "#print(df_DLYTRN_All.count()== df_DLYTRN_All.distinct().count())#True"
      ],
      "outputs": [
        {
          "output_type": "display_data",
          "data": {
            "application/vnd.livy.statement-meta+json": {
              "spark_pool": "dscglceedaspt",
              "session_id": 1894,
              "statement_id": 102,
              "state": "finished",
              "livy_statement_state": "available",
              "queued_time": "2022-04-25T07:35:09.9188248Z",
              "session_start_time": null,
              "execution_start_time": "2022-04-25T07:35:10.3346896Z",
              "execution_finish_time": "2022-04-25T07:35:10.7656892Z"
            },
            "text/plain": "StatementMeta(dscglceedaspt, 1894, 102, Finished, Available)"
          },
          "metadata": {}
        }
      ],
      "execution_count": 101,
      "metadata": {
        "jupyter": {
          "source_hidden": false,
          "outputs_hidden": false
        },
        "nteract": {
          "transient": {
            "deleting": false
          }
        },
        "collapsed": false
      }
    },
    {
      "cell_type": "markdown",
      "source": [
        "## Saving to Silver\r\n"
      ],
      "metadata": {
        "nteract": {
          "transient": {
            "deleting": false
          }
        }
      }
    },
    {
      "cell_type": "code",
      "source": [
        "df_DLYTRN_All\\\r\n",
        ".write\\\r\n",
        ".format(\"delta\")\\\r\n",
        ".mode(\"overwrite\")\\\r\n",
        ".option(\"overwriteSchema\", \"true\")\\\r\n",
        ".save(f\"{silver_path}/{object_name}\")"
      ],
      "outputs": [
        {
          "output_type": "display_data",
          "data": {
            "application/vnd.livy.statement-meta+json": {
              "spark_pool": "dscglceedaspt",
              "session_id": 1894,
              "statement_id": 114,
              "state": "finished",
              "livy_statement_state": "available",
              "queued_time": "2022-04-25T07:36:20.8343209Z",
              "session_start_time": null,
              "execution_start_time": "2022-04-25T07:36:21.2246214Z",
              "execution_finish_time": "2022-04-25T07:36:56.3841574Z"
            },
            "text/plain": "StatementMeta(dscglceedaspt, 1894, 114, Finished, Available)"
          },
          "metadata": {}
        }
      ],
      "execution_count": 113,
      "metadata": {
        "jupyter": {
          "source_hidden": false,
          "outputs_hidden": false
        },
        "nteract": {
          "transient": {
            "deleting": false
          }
        }
      }
    }
  ],
  "metadata": {
    "kernelspec": {
      "name": "synapse_pyspark",
      "language": "Python",
      "display_name": "Synapse PySpark"
    },
    "language_info": {
      "name": "python"
    },
    "kernel_info": {
      "name": "synapse_pyspark"
    },
    "save_output": true,
    "synapse_widget": {
      "version": "0.1",
      "state": {
        "63fa8e26-27ff-486b-bc40-3a370058832f": {
          "type": "Synapse.DataFrame",
          "sync_state": {
            "table": {
              "rows": [
                {
                  "0": "FOT00004794",
                  "1": [
                    "S00000099C6M"
                  ],
                  "2": "2022-04-01 13:56:10",
                  "3": "2022-04-04 13:34:19",
                  "4": "48",
                  "5": "23.635833333333338",
                  "6": "1",
                  "7": "1",
                  "8": "2022-04-04"
                },
                {
                  "0": "FOT00042208",
                  "1": [
                    "S0000001KEL6"
                  ],
                  "2": "2019-09-16 13:26:00",
                  "3": "2019-09-17 11:23:30",
                  "4": "0",
                  "5": "21.958333333333332",
                  "6": "1",
                  "7": "1",
                  "8": "2019-09-17"
                },
                {
                  "0": "FOT00042380",
                  "1": [
                    "S0000002RBBY"
                  ],
                  "2": "2020-08-06 13:21:26",
                  "3": "2020-08-07 09:47:32",
                  "4": "0",
                  "5": "20.435",
                  "6": "1",
                  "7": "1",
                  "8": "2020-08-07"
                },
                {
                  "0": "FOT00042462",
                  "1": [
                    "S00000023UF7"
                  ],
                  "2": "2020-02-05 22:18:21",
                  "3": "2020-02-06 09:19:11",
                  "4": "0",
                  "5": "11.01388888888889",
                  "6": "1",
                  "7": "1",
                  "8": "2020-02-06"
                },
                {
                  "0": "FOT00042555",
                  "1": [
                    "S00000024UIG"
                  ],
                  "2": "2020-02-10 22:11:28",
                  "3": "2020-02-12 08:00:12",
                  "4": "0",
                  "5": "33.812222222222225",
                  "6": "1",
                  "7": "1",
                  "8": "2020-02-12"
                },
                {
                  "0": "FOT00043375",
                  "1": [
                    "S0000001WSM5"
                  ],
                  "2": "2019-12-03 19:46:04",
                  "3": "2019-12-04 13:36:25",
                  "4": "0",
                  "5": "17.839166666666667",
                  "6": "1",
                  "7": "1",
                  "8": "2019-12-04"
                },
                {
                  "0": "FOT00043383",
                  "1": [
                    "S0000001WR2H"
                  ],
                  "2": "2019-12-03 12:57:23",
                  "3": "2019-12-06 10:08:49",
                  "4": "0",
                  "5": "69.19055555555556",
                  "6": "1",
                  "7": "1",
                  "8": "2019-12-06"
                },
                {
                  "0": "FOT00043889",
                  "1": [
                    "S00000020LFN",
                    "S00000020LFN"
                  ],
                  "2": "2020-01-17 07:27:29",
                  "3": "2020-01-20 14:37:48",
                  "4": "0",
                  "5": "79.17194444444445",
                  "6": "2",
                  "7": "2",
                  "8": "2020-01-20"
                },
                {
                  "0": "FOT00044312",
                  "1": [
                    "S000000700N1"
                  ],
                  "2": "2021-09-21 22:07:33",
                  "3": "2021-09-23 09:35:37",
                  "4": "0",
                  "5": "35.467777777777776",
                  "6": "1",
                  "7": "1",
                  "8": "2021-09-23"
                },
                {
                  "0": "FOT00044653",
                  "1": [
                    "S00000089X7G"
                  ],
                  "2": "2022-01-11 09:50:31",
                  "3": "2022-01-12 07:16:05",
                  "4": "0",
                  "5": "21.426111111111112",
                  "6": "1",
                  "7": "1",
                  "8": "2022-01-12"
                },
                {
                  "0": "FOT00044871",
                  "1": [
                    "S0000008BB54",
                    "S0000008BB54"
                  ],
                  "2": "2022-01-15 07:54:59",
                  "3": "2022-01-18 11:01:30",
                  "4": "48",
                  "5": "27.108611111111117",
                  "6": "2",
                  "7": "2",
                  "8": "2022-01-18"
                },
                {
                  "0": "FOT00044947",
                  "1": [
                    "S0000007F6ZA"
                  ],
                  "2": "2021-10-20 18:18:50",
                  "3": "2021-10-22 11:46:08",
                  "4": "0",
                  "5": "41.455",
                  "6": "1",
                  "7": "1",
                  "8": "2021-10-22"
                },
                {
                  "0": "FOT00045022",
                  "1": [
                    "S0000007Q7H4"
                  ],
                  "2": "2021-11-10 08:19:58",
                  "3": "2021-11-18 10:31:22",
                  "4": "0",
                  "5": "194.19",
                  "6": "1",
                  "7": "1",
                  "8": "2021-11-18"
                },
                {
                  "0": "FOT00045204",
                  "1": [
                    "S0000008J29D"
                  ],
                  "2": "2022-02-09 12:34:32",
                  "3": "2022-02-10 08:21:32",
                  "4": "0",
                  "5": "19.783333333333335",
                  "6": "1",
                  "7": "1",
                  "8": "2022-02-10"
                },
                {
                  "0": "FOT00045260",
                  "1": [
                    "S0000007SWO6"
                  ],
                  "2": "2021-11-15 19:33:01",
                  "3": "2021-11-18 08:19:45",
                  "4": "0",
                  "5": "60.778888888888886",
                  "6": "1",
                  "7": "1",
                  "8": "2021-11-18"
                },
                {
                  "0": "FOT00046524",
                  "1": [
                    "S000000212GW"
                  ],
                  "2": "2020-01-20 13:30:03",
                  "3": "2020-01-21 18:52:35",
                  "4": "0",
                  "5": "29.375555555555554",
                  "6": "1",
                  "7": "1",
                  "8": "2020-01-21"
                },
                {
                  "0": "FOT00046652",
                  "1": [
                    "S0000001N7U3"
                  ],
                  "2": "2019-10-05 13:57:50",
                  "3": "2019-10-10 13:48:32",
                  "4": "0",
                  "5": "119.845",
                  "6": "1",
                  "7": "1",
                  "8": "2019-10-10"
                },
                {
                  "0": "FOT00046729",
                  "1": [
                    "S0000006GL6D"
                  ],
                  "2": "2021-08-03 09:52:15",
                  "3": "2021-08-03 13:14:17",
                  "4": "0",
                  "5": "3.3672222222222223",
                  "6": "1",
                  "7": "1",
                  "8": "2021-08-03"
                },
                {
                  "0": "FOT00047672",
                  "1": [
                    "S0000001BBLP"
                  ],
                  "2": "2019-07-26 13:50:29",
                  "3": "2019-07-31 08:32:19",
                  "4": "0",
                  "5": "114.69722222222222",
                  "6": "1",
                  "7": "1",
                  "8": "2019-07-31"
                },
                {
                  "0": "FOT00048142",
                  "1": [
                    "S0000001JW0B"
                  ],
                  "2": "2019-09-12 22:16:21",
                  "3": "2019-09-13 11:25:40",
                  "4": "0",
                  "5": "13.155277777777778",
                  "6": "1",
                  "7": "1",
                  "8": "2019-09-13"
                },
                {
                  "0": "FOT00048151",
                  "1": [
                    "S0000001JQFN"
                  ],
                  "2": "2019-09-11 20:20:51",
                  "3": "2019-09-13 11:25:45",
                  "4": "0",
                  "5": "39.08166666666666",
                  "6": "1",
                  "7": "1",
                  "8": "2019-09-13"
                },
                {
                  "0": "FOT00061722",
                  "1": [
                    "S0000008XLSQ"
                  ],
                  "2": "2022-03-10 22:16:20",
                  "3": "2022-03-11 07:18:05",
                  "4": "0",
                  "5": "9.029166666666667",
                  "6": "1",
                  "7": "1",
                  "8": "2022-03-11"
                },
                {
                  "0": "FOT00061751",
                  "1": [
                    "S0000008XNHT"
                  ],
                  "2": "2022-03-10 22:17:20",
                  "3": "2022-03-11 07:28:35",
                  "4": "0",
                  "5": "9.1875",
                  "6": "1",
                  "7": "1",
                  "8": "2022-03-11"
                },
                {
                  "0": "FOT00061785",
                  "1": [
                    "S00000090WRL"
                  ],
                  "2": "2022-03-17 13:49:16",
                  "3": "2022-03-18 09:26:45",
                  "4": "0",
                  "5": "19.62472222222222",
                  "6": "1",
                  "7": "1",
                  "8": "2022-03-18"
                },
                {
                  "0": "FOT00061902",
                  "1": [
                    "S0000008SP3M"
                  ],
                  "2": "2022-02-28 21:24:11",
                  "3": "2022-03-01 10:12:12",
                  "4": "0",
                  "5": "12.800277777777778",
                  "6": "1",
                  "7": "1",
                  "8": "2022-03-01"
                },
                {
                  "0": "FOT00062376",
                  "1": [
                    "S0000008HRWH"
                  ],
                  "2": "2022-02-04 13:53:01",
                  "3": "2022-02-07 07:46:17",
                  "4": "48",
                  "5": "17.88777777777777",
                  "6": "1",
                  "7": "1",
                  "8": "2022-02-07"
                },
                {
                  "0": "FOT00062841",
                  "1": [
                    "S00000052FWJ"
                  ],
                  "2": "2021-04-14 13:38:31",
                  "3": "2021-04-15 13:44:21",
                  "4": "0",
                  "5": "24.09722222222222",
                  "6": "1",
                  "7": "1",
                  "8": "2021-04-15"
                },
                {
                  "0": "FOT00062939",
                  "1": [
                    "S00000057LZL"
                  ],
                  "2": "2021-04-28 13:56:53",
                  "3": "2021-05-03 07:47:28",
                  "4": "0",
                  "5": "113.84305555555555",
                  "6": "1",
                  "7": "1",
                  "8": "2021-05-03"
                },
                {
                  "0": "FOT00063021",
                  "1": [
                    "S0000005OB1U"
                  ],
                  "2": "2021-06-01 21:10:54",
                  "3": "2021-06-07 07:28:14",
                  "4": "0",
                  "5": "130.2888888888889",
                  "6": "1",
                  "7": "1",
                  "8": "2021-06-07"
                },
                {
                  "0": "FOT00063130",
                  "1": [
                    "S00000067LEF"
                  ],
                  "2": "2021-07-15 13:40:30",
                  "3": "2021-07-16 10:26:43",
                  "4": "0",
                  "5": "20.77027777777778",
                  "6": "1",
                  "7": "1",
                  "8": "2021-07-16"
                },
                {
                  "0": "FOT00063445",
                  "1": [
                    "S0000005RH1F"
                  ],
                  "2": "2021-06-07 15:46:59",
                  "3": "2021-06-11 13:09:04",
                  "4": "0",
                  "5": "93.36805555555556",
                  "6": "1",
                  "7": "1",
                  "8": "2021-06-11"
                },
                {
                  "0": "FOT00064932",
                  "1": [
                    "S0000006OVAF"
                  ],
                  "2": "2021-08-26 16:54:53",
                  "3": "2021-08-27 13:41:17",
                  "4": "0",
                  "5": "20.773333333333333",
                  "6": "1",
                  "7": "1",
                  "8": "2021-08-27"
                },
                {
                  "0": "FOT00064946",
                  "1": [
                    "S0000006VQM6"
                  ],
                  "2": "2021-09-10 21:52:26",
                  "3": "2021-09-14 11:35:20",
                  "4": "0",
                  "5": "85.715",
                  "6": "1",
                  "7": "1",
                  "8": "2021-09-14"
                },
                {
                  "0": "FOT00065043",
                  "1": [
                    "S0000006NJFX"
                  ],
                  "2": "2021-08-23 21:16:27",
                  "3": "2021-08-24 09:53:05",
                  "4": "0",
                  "5": "12.610555555555555",
                  "6": "1",
                  "7": "1",
                  "8": "2021-08-24"
                },
                {
                  "0": "FOT00065076",
                  "1": [
                    "S0000006NBUD"
                  ],
                  "2": "2021-08-23 15:25:05",
                  "3": "2021-08-26 06:37:42",
                  "4": "0",
                  "5": "63.210277777777776",
                  "6": "1",
                  "7": "1",
                  "8": "2021-08-26"
                },
                {
                  "0": "FOT00069657",
                  "1": [
                    "S00000045FC8"
                  ],
                  "2": "2021-01-20 21:38:26",
                  "3": "2021-01-22 06:47:04",
                  "4": "0",
                  "5": "33.14388888888889",
                  "6": "1",
                  "7": "1",
                  "8": "2021-01-22"
                },
                {
                  "0": "FOT00069712",
                  "1": [
                    "S0000003JHHY"
                  ],
                  "2": "2020-10-26 13:38:50",
                  "3": "2020-10-26 14:44:51",
                  "4": "0",
                  "5": "1.1002777777777777",
                  "6": "1",
                  "7": "1",
                  "8": "2020-10-26"
                },
                {
                  "0": "FOT00069887",
                  "1": [
                    "S0000004ZLQ9"
                  ],
                  "2": "2021-04-09 22:11:27",
                  "3": "2021-04-12 11:14:54",
                  "4": "0",
                  "5": "61.0575",
                  "6": "1",
                  "7": "1",
                  "8": "2021-04-12"
                },
                {
                  "0": "FOT00070147",
                  "1": [
                    "S00000044LCI"
                  ],
                  "2": "2021-01-19 13:36:18",
                  "3": "2021-01-20 09:37:39",
                  "4": "0",
                  "5": "20.0225",
                  "6": "1",
                  "7": "1",
                  "8": "2021-01-20"
                },
                {
                  "0": "FOT00071107",
                  "1": [
                    "S000000482L3"
                  ],
                  "2": "2021-02-01 13:38:56",
                  "3": "2021-02-03 08:28:29",
                  "4": "0",
                  "5": "42.825833333333335",
                  "6": "1",
                  "7": "1",
                  "8": "2021-02-03"
                },
                {
                  "0": "FOT00071265",
                  "1": [
                    "S0000004EGHA"
                  ],
                  "2": "2021-02-19 10:26:53",
                  "3": "2021-02-22 10:30:47",
                  "4": "0",
                  "5": "72.065",
                  "6": "1",
                  "7": "1",
                  "8": "2021-02-22"
                },
                {
                  "0": "FOT00071342",
                  "1": [
                    "S00000052UVO"
                  ],
                  "2": "2021-04-15 21:39:27",
                  "3": "2021-04-16 09:48:09",
                  "4": "0",
                  "5": "12.145",
                  "6": "1",
                  "7": "1",
                  "8": "2021-04-16"
                },
                {
                  "0": "IP00700843",
                  "1": [
                    "00390078710131487092"
                  ],
                  "2": "2020-02-04 22:11:21",
                  "3": "2020-02-07 11:30:43",
                  "4": "0",
                  "5": "61.32277777777778",
                  "6": "1",
                  "7": "1",
                  "8": "2020-02-07"
                },
                {
                  "0": "L0000000EHLH",
                  "1": [
                    "00390078720577932025"
                  ],
                  "2": "2019-08-28 15:12:38",
                  "3": "2019-08-30 14:18:26",
                  "4": "0",
                  "5": "47.096666666666664",
                  "6": "1",
                  "7": "1",
                  "8": "2019-08-30"
                },
                {
                  "0": "L0000000EN77",
                  "1": [
                    "00390078720578181279"
                  ],
                  "2": "2019-08-31 09:49:47",
                  "3": "2019-09-03 08:50:48",
                  "4": "0",
                  "5": "71.01694444444445",
                  "6": "1",
                  "7": "1",
                  "8": "2019-09-03"
                },
                {
                  "0": "L0000000GRGV",
                  "1": [
                    "00390078710127279427"
                  ],
                  "2": "2019-10-10 17:35:58",
                  "3": "2019-10-15 10:43:04",
                  "4": "0",
                  "5": "113.11833333333334",
                  "6": "1",
                  "7": "1",
                  "8": "2019-10-15"
                },
                {
                  "0": "L0000000HB9U",
                  "1": [
                    "00390078720579880973"
                  ],
                  "2": "2019-10-21 08:58:14",
                  "3": "2019-10-21 10:31:42",
                  "4": "0",
                  "5": "1.5577777777777777",
                  "6": "1",
                  "7": "1",
                  "8": "2019-10-21"
                },
                {
                  "0": "L0000000LN8T",
                  "1": [
                    "00390078710131867016"
                  ],
                  "2": "2020-01-16 20:16:15",
                  "3": "2020-01-21 08:24:56",
                  "4": "0",
                  "5": "108.14472222222223",
                  "6": "1",
                  "7": "1",
                  "8": "2020-01-21"
                },
                {
                  "0": "L0000000SNZR",
                  "1": [
                    "00390078710133707341"
                  ],
                  "2": "2020-07-02 06:11:08",
                  "3": "2020-07-03 10:09:24",
                  "4": "0",
                  "5": "27.97111111111111",
                  "6": "1",
                  "7": "1",
                  "8": "2020-07-03"
                },
                {
                  "0": "L0000000T8LI",
                  "1": [
                    "00390078720586342426"
                  ],
                  "2": "2020-07-14 22:26:04",
                  "3": "2020-07-24 10:33:30",
                  "4": "0",
                  "5": "228.1238888888889",
                  "6": "1",
                  "7": "1",
                  "8": "2020-07-24"
                },
                {
                  "0": "L0000000XKCE",
                  "1": [
                    "00390078710134405086",
                    "00390078710134405086"
                  ],
                  "2": "2020-10-23 08:37:35",
                  "3": "2020-10-27 08:43:38",
                  "4": "0",
                  "5": "96.10083333333333",
                  "6": "2",
                  "7": "2",
                  "8": "2020-10-27"
                },
                {
                  "0": "L0000001NZKR",
                  "1": [
                    "00390078720600986377"
                  ],
                  "2": "2022-02-14 06:09:40",
                  "3": "2022-02-14 08:26:33",
                  "4": "0",
                  "5": "2.281388888888889",
                  "6": "1",
                  "7": "1",
                  "8": "2022-02-14"
                },
                {
                  "0": "L0000001P1Z1",
                  "1": [
                    "00390078720601522772"
                  ],
                  "2": "2022-03-10 21:58:16",
                  "3": "2022-03-11 09:27:21",
                  "4": "0",
                  "5": "11.484722222222222",
                  "6": "1",
                  "7": "1",
                  "8": "2022-03-11"
                },
                {
                  "0": "FOT00012416",
                  "1": [
                    "S0000009FU3P"
                  ],
                  "2": "2022-04-14 13:12:23",
                  "3": "2022-04-20 07:26:47",
                  "4": "96",
                  "5": "42.24000000000001",
                  "6": "1",
                  "7": "1",
                  "8": "2022-04-20"
                },
                {
                  "0": "FOT00020882",
                  "1": [
                    "S0000001GQLU"
                  ],
                  "2": "2019-08-16 21:42:24",
                  "3": "2019-08-20 08:25:54",
                  "4": "0",
                  "5": "82.725",
                  "6": "1",
                  "7": "1",
                  "8": "2019-08-20"
                },
                {
                  "0": "FOT00037118",
                  "1": [
                    "S00000028A7F"
                  ],
                  "2": "2020-02-29 12:21:42",
                  "3": "2020-03-02 09:26:31",
                  "4": "0",
                  "5": "45.08027777777778",
                  "6": "1",
                  "7": "1",
                  "8": "2020-03-02"
                },
                {
                  "0": "FOT00037666",
                  "1": [
                    "S0000002NC1O"
                  ],
                  "2": "2020-07-09 19:48:51",
                  "3": "2020-07-13 08:14:12",
                  "4": "0",
                  "5": "84.4225",
                  "6": "1",
                  "7": "1",
                  "8": "2020-07-13"
                },
                {
                  "0": "FOT00037819",
                  "1": [
                    "S0000002NDNW"
                  ],
                  "2": "2020-07-10 17:53:05",
                  "3": "2020-07-13 10:49:30",
                  "4": "0",
                  "5": "64.94027777777778",
                  "6": "1",
                  "7": "1",
                  "8": "2020-07-13"
                },
                {
                  "0": "FOT00038213",
                  "1": [
                    "S000000264D5"
                  ],
                  "2": "2020-02-18 13:55:03",
                  "3": "2020-02-20 08:03:31",
                  "4": "0",
                  "5": "42.14111111111111",
                  "6": "1",
                  "7": "1",
                  "8": "2020-02-20"
                },
                {
                  "0": "FOT00038320",
                  "1": [
                    "S000000262HP"
                  ],
                  "2": "2020-02-18 13:54:07",
                  "3": "2020-02-20 08:03:04",
                  "4": "0",
                  "5": "42.149166666666666",
                  "6": "1",
                  "7": "1",
                  "8": "2020-02-20"
                },
                {
                  "0": "FOT00038476",
                  "1": [
                    "S0000002OIYM"
                  ],
                  "2": "2020-07-18 10:37:19",
                  "3": "2020-07-22 12:40:21",
                  "4": "0",
                  "5": "98.05055555555556",
                  "6": "1",
                  "7": "1",
                  "8": "2020-07-22"
                },
                {
                  "0": "FOT00038678",
                  "1": [
                    "S000000421U9"
                  ],
                  "2": "2021-01-08 10:19:38",
                  "3": "2021-01-11 09:46:10",
                  "4": "0",
                  "5": "71.44222222222223",
                  "6": "1",
                  "7": "1",
                  "8": "2021-01-11"
                },
                {
                  "0": "FOT00038890",
                  "1": [
                    "S00000032OJM"
                  ],
                  "2": "2020-09-15 22:03:31",
                  "3": "2020-09-16 13:45:07",
                  "4": "0",
                  "5": "15.693333333333333",
                  "6": "1",
                  "7": "1",
                  "8": "2020-09-16"
                },
                {
                  "0": "FOT00041653",
                  "1": [
                    "S0000004WDI2"
                  ],
                  "2": "2021-03-31 14:44:58",
                  "3": "2021-04-01 09:56:52",
                  "4": "0",
                  "5": "19.198333333333334",
                  "6": "1",
                  "7": "1",
                  "8": "2021-04-01"
                },
                {
                  "0": "FOT00042361",
                  "1": [
                    "S0000002T81D"
                  ],
                  "2": "2020-08-19 13:06:29",
                  "3": "2020-08-21 08:12:31",
                  "4": "0",
                  "5": "43.10055555555556",
                  "6": "1",
                  "7": "1",
                  "8": "2020-08-21"
                },
                {
                  "0": "FOT00042761",
                  "1": [
                    "S00000024244"
                  ],
                  "2": "2020-02-06 13:57:42",
                  "3": "2020-02-11 16:21:24",
                  "4": "0",
                  "5": "122.395",
                  "6": "1",
                  "7": "1",
                  "8": "2020-02-11"
                },
                {
                  "0": "FOT00043759",
                  "1": [
                    "S0000001ZMZU"
                  ],
                  "2": "2020-01-10 18:23:34",
                  "3": "2020-01-15 08:06:19",
                  "4": "0",
                  "5": "109.7125",
                  "6": "1",
                  "7": "1",
                  "8": "2020-01-15"
                },
                {
                  "0": "FOT00043948",
                  "1": [
                    "S0000008WRY4"
                  ],
                  "2": "2022-03-09 12:27:35",
                  "3": "2022-03-09 14:21:02",
                  "4": "0",
                  "5": "1.8908333333333334",
                  "6": "1",
                  "7": "1",
                  "8": "2022-03-09"
                },
                {
                  "0": "FOT00045509",
                  "1": [
                    "S0000008E6J0"
                  ],
                  "2": "2022-01-24 19:44:01",
                  "3": "2022-01-25 08:31:40",
                  "4": "0",
                  "5": "12.794166666666667",
                  "6": "1",
                  "7": "1",
                  "8": "2022-01-25"
                },
                {
                  "0": "FOT00046340",
                  "1": [
                    "S0000001E5CM"
                  ],
                  "2": "2019-08-02 09:20:19",
                  "3": "2019-08-13 09:58:17",
                  "4": "0",
                  "5": "264.6327777777778",
                  "6": "1",
                  "7": "1",
                  "8": "2019-08-13"
                },
                {
                  "0": "FOT00046952",
                  "1": [
                    "S0000004NX0V"
                  ],
                  "2": "2021-03-15 13:43:17",
                  "3": "2021-03-17 06:44:11",
                  "4": "0",
                  "5": "41.015",
                  "6": "1",
                  "7": "1",
                  "8": "2021-03-17"
                },
                {
                  "0": "FOT00062380",
                  "1": [
                    "S0000008HPV6"
                  ],
                  "2": "2022-02-04 13:52:53",
                  "3": "2022-02-07 07:46:28",
                  "4": "48",
                  "5": "17.89305555555555",
                  "6": "1",
                  "7": "1",
                  "8": "2022-02-07"
                },
                {
                  "0": "FOT00062716",
                  "1": [
                    "S00000050YMA"
                  ],
                  "2": "2021-04-10 13:46:40",
                  "3": "2021-04-13 08:44:01",
                  "4": "0",
                  "5": "66.95583333333333",
                  "6": "1",
                  "7": "1",
                  "8": "2021-04-13"
                },
                {
                  "0": "FOT00063027",
                  "1": [
                    "S0000007P9HP"
                  ],
                  "2": "2021-11-08 18:18:21",
                  "3": "2021-11-10 09:42:03",
                  "4": "0",
                  "5": "39.395",
                  "6": "1",
                  "7": "1",
                  "8": "2021-11-10"
                },
                {
                  "0": "FOT00063496",
                  "1": [
                    "S0000005CAAV"
                  ],
                  "2": "2021-05-10 15:37:58",
                  "3": "2021-05-14 13:38:03",
                  "4": "0",
                  "5": "94.00138888888888",
                  "6": "1",
                  "7": "1",
                  "8": "2021-05-14"
                },
                {
                  "0": "FOT00063805",
                  "1": [
                    "S0000004QWCR"
                  ],
                  "2": "2021-03-19 13:44:35",
                  "3": "2021-03-22 08:02:04",
                  "4": "0",
                  "5": "66.29138888888889",
                  "6": "1",
                  "7": "1",
                  "8": "2021-03-22"
                },
                {
                  "0": "FOT00063938",
                  "1": [
                    "S0000004S5D3"
                  ],
                  "2": "2021-03-25 06:14:51",
                  "3": "2021-03-25 08:49:11",
                  "4": "0",
                  "5": "2.5722222222222224",
                  "6": "1",
                  "7": "1",
                  "8": "2021-03-25"
                },
                {
                  "0": "FOT00064354",
                  "1": [
                    "S0000006RXBC"
                  ],
                  "2": "2021-09-02 12:42:50",
                  "3": "2021-09-09 07:48:34",
                  "4": "0",
                  "5": "163.09555555555556",
                  "6": "1",
                  "7": "1",
                  "8": "2021-09-09"
                },
                {
                  "0": "FOT00064410",
                  "1": [
                    "S0000006U935"
                  ],
                  "2": "2021-09-08 12:07:36",
                  "3": "2021-09-20 11:15:30",
                  "4": "0",
                  "5": "287.13166666666666",
                  "6": "1",
                  "7": "1",
                  "8": "2021-09-20"
                },
                {
                  "0": "FOT00064426",
                  "1": [
                    "S0000006RYNH"
                  ],
                  "2": "2021-09-02 13:07:46",
                  "3": "2021-09-03 11:54:23",
                  "4": "0",
                  "5": "22.776944444444446",
                  "6": "1",
                  "7": "1",
                  "8": "2021-09-03"
                },
                {
                  "0": "FOT00064714",
                  "1": [
                    "S0000008LXAG"
                  ],
                  "2": "2022-02-15 14:00:17",
                  "3": "2022-02-16 07:59:48",
                  "4": "0",
                  "5": "17.991944444444446",
                  "6": "1",
                  "7": "1",
                  "8": "2022-02-16"
                },
                {
                  "0": "FOT00065103",
                  "1": [
                    "S0000006K1LJ"
                  ],
                  "2": "2021-08-12 16:56:19",
                  "3": "2021-08-17 10:03:48",
                  "4": "0",
                  "5": "113.12472222222222",
                  "6": "1",
                  "7": "1",
                  "8": "2021-08-17"
                },
                {
                  "0": "FOT00065352",
                  "1": [
                    "S000000669QF"
                  ],
                  "2": "2021-07-13 10:04:28",
                  "3": "2021-07-15 10:33:16",
                  "4": "0",
                  "5": "48.48",
                  "6": "1",
                  "7": "1",
                  "8": "2021-07-15"
                },
                {
                  "0": "FOT00065560",
                  "1": [
                    "S0000005YRQ2"
                  ],
                  "2": "2021-06-22 12:07:14",
                  "3": "2021-06-28 08:40:51",
                  "4": "0",
                  "5": "140.56027777777777",
                  "6": "1",
                  "7": "1",
                  "8": "2021-06-28"
                },
                {
                  "0": "FOT00069456",
                  "1": [
                    "S000000323BC"
                  ],
                  "2": "2020-09-14 18:01:55",
                  "3": "2020-09-23 07:59:39",
                  "4": "0",
                  "5": "205.9622222222222",
                  "6": "1",
                  "7": "1",
                  "8": "2020-09-23"
                },
                {
                  "0": "FOT00069474",
                  "1": [
                    "S000000310FF"
                  ],
                  "2": "2020-09-10 21:55:33",
                  "3": "2020-09-22 10:11:58",
                  "4": "0",
                  "5": "276.2736111111111",
                  "6": "1",
                  "7": "1",
                  "8": "2020-09-22"
                },
                {
                  "0": "FOT00069520",
                  "1": [
                    "S0000003TR9F"
                  ],
                  "2": "2020-11-26 10:51:48",
                  "3": "2020-11-26 11:33:19",
                  "4": "0",
                  "5": "0.6919444444444445",
                  "6": "1",
                  "7": "1",
                  "8": "2020-11-26"
                },
                {
                  "0": "FOT00070023",
                  "1": [
                    "S00000046FOQ"
                  ],
                  "2": "2021-01-25 21:49:00",
                  "3": "2021-01-26 09:48:46",
                  "4": "0",
                  "5": "11.99611111111111",
                  "6": "1",
                  "7": "1",
                  "8": "2021-01-26"
                },
                {
                  "0": "FOT00070433",
                  "1": [
                    "S00000037683",
                    "S00000037683"
                  ],
                  "2": "2020-09-28 14:19:06",
                  "3": "2020-09-29 11:22:53",
                  "4": "0",
                  "5": "21.063055555555554",
                  "6": "2",
                  "7": "2",
                  "8": "2020-09-29"
                },
                {
                  "0": "FOT00071367",
                  "1": [
                    "S0000004J8GV"
                  ],
                  "2": "2021-03-03 21:15:11",
                  "3": "2021-03-05 13:05:56",
                  "4": "0",
                  "5": "39.84583333333333",
                  "6": "1",
                  "7": "1",
                  "8": "2021-03-05"
                },
                {
                  "0": "FOT00071442",
                  "1": [
                    "S0000004K7T5"
                  ],
                  "2": "2021-03-05 12:49:02",
                  "3": "2021-03-10 08:55:48",
                  "4": "0",
                  "5": "116.11277777777778",
                  "6": "1",
                  "7": "1",
                  "8": "2021-03-10"
                },
                {
                  "0": "L0000000D25V",
                  "1": [
                    "00390078710128989929"
                  ],
                  "2": "2019-08-07 13:23:47",
                  "3": "2019-08-09 10:34:02",
                  "4": "0",
                  "5": "45.170833333333334",
                  "6": "1",
                  "7": "1",
                  "8": "2019-08-09"
                },
                {
                  "0": "L0000000DJ42",
                  "1": [
                    "00390078710127654958"
                  ],
                  "2": "2019-08-13 21:45:16",
                  "3": "2019-08-15 09:25:25",
                  "4": "0",
                  "5": "35.66916666666667",
                  "6": "1",
                  "7": "1",
                  "8": "2019-08-15"
                },
                {
                  "0": "L0000000GKT3",
                  "1": [
                    "00390078710127847916"
                  ],
                  "2": "2019-10-02 10:07:05",
                  "3": "2019-10-03 10:44:37",
                  "4": "0",
                  "5": "24.625555555555554",
                  "6": "1",
                  "7": "1",
                  "8": "2019-10-03"
                },
                {
                  "0": "L0000001BZ9G",
                  "1": [
                    "00390078720596206350"
                  ],
                  "2": "2021-08-16 13:02:09",
                  "3": "2021-08-17 14:34:08",
                  "4": "0",
                  "5": "25.533055555555556",
                  "6": "1",
                  "7": "1",
                  "8": "2021-08-17"
                },
                {
                  "0": "L0000001P0KL",
                  "1": [
                    "00390078710141467169"
                  ],
                  "2": "2022-03-10 21:58:38",
                  "3": "2022-03-11 09:26:46",
                  "4": "0",
                  "5": "11.46888888888889",
                  "6": "1",
                  "7": "1",
                  "8": "2022-03-11"
                },
                {
                  "0": "L0000001QU9F",
                  "1": [
                    "00390078710139599841"
                  ],
                  "2": "2022-04-20 22:38:26",
                  "3": "2022-04-22 08:24:35",
                  "4": "0",
                  "5": "33.76916666666666",
                  "6": "1",
                  "7": "1",
                  "8": "2022-04-22"
                },
                {
                  "0": "FOT00037200",
                  "1": [
                    "S0000002R007"
                  ],
                  "2": "2020-08-04 19:46:58",
                  "3": "2020-08-05 09:13:05",
                  "4": "0",
                  "5": "13.435277777777777",
                  "6": "1",
                  "7": "1",
                  "8": "2020-08-05"
                },
                {
                  "0": "FOT00037293",
                  "1": [
                    "S0000002QRCC"
                  ],
                  "2": "2020-08-03 17:26:46",
                  "3": "2020-08-04 12:54:43",
                  "4": "0",
                  "5": "19.465833333333332",
                  "6": "1",
                  "7": "1",
                  "8": "2020-08-04"
                },
                {
                  "0": "FOT00037409",
                  "1": [
                    "S0000002QWGA"
                  ],
                  "2": "2020-08-04 13:45:54",
                  "3": "2020-08-05 09:18:56",
                  "4": "0",
                  "5": "19.550555555555555",
                  "6": "1",
                  "7": "1",
                  "8": "2020-08-05"
                },
                {
                  "0": "FOT00037654",
                  "1": [
                    "S0000005JM3N"
                  ],
                  "2": "2021-05-25 06:27:47",
                  "3": "2021-05-26 13:38:06",
                  "4": "0",
                  "5": "31.171944444444446",
                  "6": "1",
                  "7": "1",
                  "8": "2021-05-26"
                },
                {
                  "0": "FOT00038075",
                  "1": [
                    "S0000002ZKRZ"
                  ],
                  "2": "2020-09-07 21:49:54",
                  "3": "2020-09-08 09:37:27",
                  "4": "0",
                  "5": "11.7925",
                  "6": "1",
                  "7": "1",
                  "8": "2020-09-08"
                },
                {
                  "0": "FOT00038814",
                  "1": [
                    "S00000028M0R"
                  ],
                  "2": "2020-03-03 17:15:44",
                  "3": "2020-03-05 08:12:15",
                  "4": "0",
                  "5": "38.941944444444445",
                  "6": "1",
                  "7": "1",
                  "8": "2020-03-05"
                },
                {
                  "0": "FOT00038863",
                  "1": [
                    "S0000002ERP5",
                    "S0000002ERP5"
                  ],
                  "2": "2020-05-05 13:49:54",
                  "3": "2020-05-07 15:17:18",
                  "4": "0",
                  "5": "49.45666666666666",
                  "6": "2",
                  "7": "2",
                  "8": "2020-05-07"
                },
                {
                  "0": "FOT00038899",
                  "1": [
                    "S0000002QW81"
                  ],
                  "2": "2020-08-04 13:45:02",
                  "3": "2020-08-05 09:11:34",
                  "4": "0",
                  "5": "19.442222222222224",
                  "6": "1",
                  "7": "1",
                  "8": "2020-08-05"
                },
                {
                  "0": "FOT00039344",
                  "1": [
                    "S00000028JL3"
                  ],
                  "2": "2020-03-03 17:15:54",
                  "3": "2020-03-05 08:12:30",
                  "4": "0",
                  "5": "38.943333333333335",
                  "6": "1",
                  "7": "1",
                  "8": "2020-03-05"
                },
                {
                  "0": "FOT00039490",
                  "1": [
                    "S0000002GTQL"
                  ],
                  "2": "2020-05-20 22:03:47",
                  "3": "2020-05-21 15:23:27",
                  "4": "0",
                  "5": "17.32777777777778",
                  "6": "1",
                  "7": "1",
                  "8": "2020-05-21"
                },
                {
                  "0": "FOT00041983",
                  "1": [
                    "S0000001ZV3Q"
                  ],
                  "2": "2020-01-13 21:01:10",
                  "3": "2020-01-15 08:09:39",
                  "4": "0",
                  "5": "35.14138888888889",
                  "6": "1",
                  "7": "1",
                  "8": "2020-01-15"
                },
                {
                  "0": "FOT00042339",
                  "1": [
                    "S00000024ZX6"
                  ],
                  "2": "2020-02-11 12:23:37",
                  "3": "2020-02-12 13:46:55",
                  "4": "0",
                  "5": "25.388333333333332",
                  "6": "1",
                  "7": "1",
                  "8": "2020-02-12"
                },
                {
                  "0": "FOT00042453",
                  "1": [
                    "S0000002ATEL"
                  ],
                  "2": "2020-03-16 09:22:51",
                  "3": "2020-03-17 13:03:09",
                  "4": "0",
                  "5": "27.671666666666667",
                  "6": "1",
                  "7": "1",
                  "8": "2020-03-17"
                },
                {
                  "0": "FOT00042476",
                  "1": [
                    "S00000022889",
                    "S00000022889"
                  ],
                  "2": "2020-01-27 22:02:28",
                  "3": "2020-01-28 15:21:44",
                  "4": "0",
                  "5": "17.32111111111111",
                  "6": "2",
                  "7": "2",
                  "8": "2020-01-28"
                },
                {
                  "0": "FOT00042770",
                  "1": [
                    "S0000002VA28"
                  ],
                  "2": "2020-08-25 13:56:45",
                  "3": "2020-08-27 07:00:46",
                  "4": "0",
                  "5": "41.066944444444445",
                  "6": "1",
                  "7": "1",
                  "8": "2020-08-27"
                },
                {
                  "0": "FOT00042786",
                  "1": [
                    "S00000024BBV"
                  ],
                  "2": "2020-02-07 13:00:23",
                  "3": "2020-02-10 11:36:26",
                  "4": "0",
                  "5": "70.60083333333333",
                  "6": "1",
                  "7": "1",
                  "8": "2020-02-10"
                },
                {
                  "0": "FOT00042908",
                  "1": [
                    "S0000002STOF"
                  ],
                  "2": "2020-08-18 10:58:16",
                  "3": "2020-08-21 08:16:08",
                  "4": "0",
                  "5": "69.29777777777778",
                  "6": "1",
                  "7": "1",
                  "8": "2020-08-21"
                },
                {
                  "0": "FOT00043253",
                  "1": [
                    "S0000001UU4Y"
                  ],
                  "2": "2019-11-19 13:41:51",
                  "3": "2019-11-22 13:06:33",
                  "4": "0",
                  "5": "71.41166666666666",
                  "6": "1",
                  "7": "1",
                  "8": "2019-11-22"
                },
                {
                  "0": "FOT00043445",
                  "1": [
                    "S00000066BPE"
                  ],
                  "2": "2021-07-13 12:45:08",
                  "3": "2021-07-15 12:36:49",
                  "4": "0",
                  "5": "47.86138888888889",
                  "6": "1",
                  "7": "1",
                  "8": "2021-07-15"
                },
                {
                  "0": "FOT00044900",
                  "1": [
                    "S0000007N3K2"
                  ],
                  "2": "2021-11-04 14:03:16",
                  "3": "2021-11-08 07:52:22",
                  "4": "0",
                  "5": "89.81833333333333",
                  "6": "1",
                  "7": "1",
                  "8": "2021-11-08"
                },
                {
                  "0": "FOT00045194",
                  "1": [
                    "S0000008J1Q6"
                  ],
                  "2": "2022-02-09 12:34:42",
                  "3": "2022-02-10 08:21:26",
                  "4": "0",
                  "5": "19.77888888888889",
                  "6": "1",
                  "7": "1",
                  "8": "2022-02-10"
                },
                {
                  "0": "FOT00045907",
                  "1": [
                    "S0000008SJTH"
                  ],
                  "2": "2022-02-28 21:21:49",
                  "3": "2022-03-01 10:05:59",
                  "4": "0",
                  "5": "12.73611111111111",
                  "6": "1",
                  "7": "1",
                  "8": "2022-03-01"
                },
                {
                  "0": "FOT00046149",
                  "1": [
                    "S0000008DAJX"
                  ],
                  "2": "2022-01-20 22:09:05",
                  "3": "2022-01-21 08:17:25",
                  "4": "0",
                  "5": "10.13888888888889",
                  "6": "1",
                  "7": "1",
                  "8": "2022-01-21"
                },
                {
                  "0": "FOT00046655",
                  "1": [
                    "S0000001LIM1"
                  ],
                  "2": "2019-09-23 12:59:12",
                  "3": "2019-09-24 15:03:52",
                  "4": "0",
                  "5": "26.07777777777778",
                  "6": "1",
                  "7": "1",
                  "8": "2019-09-24"
                },
                {
                  "0": "FOT00046824",
                  "1": [
                    "S0000001IPWC"
                  ],
                  "2": "2019-09-04 13:14:07",
                  "3": "2019-09-10 10:25:24",
                  "4": "0",
                  "5": "141.18805555555556",
                  "6": "1",
                  "7": "1",
                  "8": "2019-09-10"
                },
                {
                  "0": "FOT00047005",
                  "1": [
                    "S0000001HE81"
                  ],
                  "2": "2019-08-23 13:11:27",
                  "3": "2019-08-27 08:13:41",
                  "4": "0",
                  "5": "91.03722222222223",
                  "6": "1",
                  "7": "1",
                  "8": "2019-08-27"
                },
                {
                  "0": "FOT00047471",
                  "1": [
                    "S0000003KM3F"
                  ],
                  "2": "2020-10-29 08:24:15",
                  "3": "2020-10-29 14:17:04",
                  "4": "0",
                  "5": "5.880277777777778",
                  "6": "1",
                  "7": "1",
                  "8": "2020-10-29"
                },
                {
                  "0": "FOT00048376",
                  "1": [
                    "S0000001EOA0"
                  ],
                  "2": "2019-08-05 13:35:52",
                  "3": "2019-08-06 13:20:30",
                  "4": "0",
                  "5": "23.74388888888889",
                  "6": "1",
                  "7": "1",
                  "8": "2019-08-06"
                },
                {
                  "0": "FOT00048382",
                  "1": [
                    "S0000001ENPY",
                    "S0000001ENPY"
                  ],
                  "2": "2019-08-05 13:36:21",
                  "3": "2019-08-12 10:46:33",
                  "4": "0",
                  "5": "165.17",
                  "6": "2",
                  "7": "2",
                  "8": "2019-08-12"
                },
                {
                  "0": "FOT00061854",
                  "1": [
                    "S0000008QT5H"
                  ],
                  "2": "2022-02-23 18:44:57",
                  "3": "2022-02-24 07:52:25",
                  "4": "0",
                  "5": "13.124444444444444",
                  "6": "1",
                  "7": "1",
                  "8": "2022-02-24"
                },
                {
                  "0": "FOT00061879",
                  "1": [
                    "S0000008Y9WM"
                  ],
                  "2": "2022-03-11 21:41:42",
                  "3": "2022-03-14 07:51:54",
                  "4": "48",
                  "5": "10.170000000000002",
                  "6": "1",
                  "7": "1",
                  "8": "2022-03-14"
                },
                {
                  "0": "FOT00062310",
                  "1": [
                    "S00000092UU4"
                  ],
                  "2": "2022-03-21 22:05:12",
                  "3": "2022-03-24 09:26:22",
                  "4": "0",
                  "5": "59.352777777777774",
                  "6": "1",
                  "7": "1",
                  "8": "2022-03-24"
                },
                {
                  "0": "FOT00062837",
                  "1": [
                    "S00000051RVU"
                  ],
                  "2": "2021-04-13 15:29:19",
                  "3": "2021-04-15 18:18:09",
                  "4": "0",
                  "5": "50.81388888888889",
                  "6": "1",
                  "7": "1",
                  "8": "2021-04-15"
                },
                {
                  "0": "FOT00062846",
                  "1": [
                    "S00000052552",
                    "S00000052552"
                  ],
                  "2": "2021-04-13 19:01:15",
                  "3": "2021-04-14 17:28:32",
                  "4": "0",
                  "5": "22.454722222222223",
                  "6": "2",
                  "7": "2",
                  "8": "2021-04-14"
                },
                {
                  "0": "FOT00063428",
                  "1": [
                    "S0000006732M"
                  ],
                  "2": "2021-07-14 14:19:36",
                  "3": "2021-07-19 11:20:42",
                  "4": "0",
                  "5": "117.01833333333333",
                  "6": "1",
                  "7": "1",
                  "8": "2021-07-19"
                },
                {
                  "0": "FOT00064448",
                  "1": [
                    "S0000006RBXX"
                  ],
                  "2": "2021-09-01 12:45:11",
                  "3": "2021-09-06 13:53:12",
                  "4": "0",
                  "5": "121.13361111111111",
                  "6": "1",
                  "7": "1",
                  "8": "2021-09-06"
                },
                {
                  "0": "FOT00064960",
                  "1": [
                    "S0000006U437"
                  ],
                  "2": "2021-09-07 20:07:01",
                  "3": "2021-09-08 09:36:37",
                  "4": "0",
                  "5": "13.493333333333334",
                  "6": "1",
                  "7": "1",
                  "8": "2021-09-08"
                },
                {
                  "0": "FOT00069309",
                  "1": [
                    "S0000003BUP2"
                  ],
                  "2": "2020-10-08 23:59:50",
                  "3": "2020-10-13 10:14:13",
                  "4": "0",
                  "5": "106.23972222222223",
                  "6": "1",
                  "7": "1",
                  "8": "2020-10-13"
                },
                {
                  "0": "FOT00069463",
                  "1": [
                    "S000000322JY"
                  ],
                  "2": "2020-09-14 17:38:23",
                  "3": "2020-09-23 07:59:31",
                  "4": "0",
                  "5": "206.35222222222222",
                  "6": "1",
                  "7": "1",
                  "8": "2020-09-23"
                },
                {
                  "0": "FOT00069783",
                  "1": [
                    "S0000005HKDT"
                  ],
                  "2": "2021-05-20 20:28:38",
                  "3": "2021-05-24 10:34:56",
                  "4": "0",
                  "5": "86.105",
                  "6": "1",
                  "7": "1",
                  "8": "2021-05-24"
                },
                {
                  "0": "FOT00069915",
                  "1": [
                    "S0000003TK66"
                  ],
                  "2": "2020-11-25 11:59:19",
                  "3": "2020-11-26 09:59:48",
                  "4": "0",
                  "5": "22.008055555555554",
                  "6": "1",
                  "7": "1",
                  "8": "2020-11-26"
                },
                {
                  "0": "FOT00070336",
                  "1": [
                    "S00000046E5Y"
                  ],
                  "2": "2021-01-25 13:33:49",
                  "3": "2021-01-26 09:51:11",
                  "4": "0",
                  "5": "20.289444444444445",
                  "6": "1",
                  "7": "1",
                  "8": "2021-01-26"
                },
                {
                  "0": "FOT00070434",
                  "1": [
                    "S00000032AM6"
                  ],
                  "2": "2020-09-15 14:30:57",
                  "3": "2020-09-16 13:41:30",
                  "4": "0",
                  "5": "23.175833333333333",
                  "6": "1",
                  "7": "1",
                  "8": "2020-09-16"
                },
                {
                  "0": "FOT00070562",
                  "1": [
                    "S00000039PQC"
                  ],
                  "2": "2020-10-03 13:40:37",
                  "3": "2020-10-05 11:37:04",
                  "4": "0",
                  "5": "45.94083333333333",
                  "6": "1",
                  "7": "1",
                  "8": "2020-10-05"
                },
                {
                  "0": "FOT00070643",
                  "1": [
                    "S000000388OS"
                  ],
                  "2": "2020-09-30 12:24:27",
                  "3": "2020-10-02 08:54:36",
                  "4": "0",
                  "5": "44.5025",
                  "6": "1",
                  "7": "1",
                  "8": "2020-10-02"
                },
                {
                  "0": "FOT00070676",
                  "1": [
                    "S0000003BDKM"
                  ],
                  "2": "2020-10-07 22:03:09",
                  "3": "2020-10-09 08:30:08",
                  "4": "0",
                  "5": "34.44972222222222",
                  "6": "1",
                  "7": "1",
                  "8": "2020-10-09"
                },
                {
                  "0": "FOT00071045",
                  "1": [
                    "S0000004IO3U"
                  ],
                  "2": "2021-03-03 13:21:02",
                  "3": "2021-03-04 09:54:08",
                  "4": "0",
                  "5": "20.551666666666666",
                  "6": "1",
                  "7": "1",
                  "8": "2021-03-04"
                },
                {
                  "0": "FOT00071049",
                  "1": [
                    "S0000004HIYZ"
                  ],
                  "2": "2021-03-01 13:37:53",
                  "3": "2021-03-04 07:46:23",
                  "4": "0",
                  "5": "66.14166666666667",
                  "6": "1",
                  "7": "1",
                  "8": "2021-03-04"
                },
                {
                  "0": "L0000000NHF5",
                  "1": [
                    "00390078720581929516"
                  ],
                  "2": "2020-02-17 16:41:26",
                  "3": "2020-02-20 08:14:52",
                  "4": "0",
                  "5": "63.55722222222222",
                  "6": "1",
                  "7": "1",
                  "8": "2020-02-20"
                },
                {
                  "0": "L0000000TJRJ",
                  "1": [
                    "00390078710135151739"
                  ],
                  "2": "2020-07-23 21:14:08",
                  "3": "2020-07-29 07:33:40",
                  "4": "0",
                  "5": "130.32555555555555",
                  "6": "1",
                  "7": "1",
                  "8": "2020-07-29"
                },
                {
                  "0": "L0000001AVML",
                  "1": [
                    "00390078720595842832"
                  ],
                  "2": "2021-08-03 21:44:44",
                  "3": "2021-08-04 09:03:55",
                  "4": "0",
                  "5": "11.319722222222222",
                  "6": "1",
                  "7": "1",
                  "8": "2021-08-04"
                },
                {
                  "0": "L0000001OWAK",
                  "1": [
                    "00390078710139560216"
                  ],
                  "2": "2022-03-08 22:19:11",
                  "3": "2022-03-09 10:29:47",
                  "4": "0",
                  "5": "12.176666666666666",
                  "6": "1",
                  "7": "1",
                  "8": "2022-03-09"
                },
                {
                  "0": "FOT00004726",
                  "1": [
                    "S0000009F599"
                  ],
                  "2": "2022-04-13 13:48:13",
                  "3": "2022-04-14 10:41:56",
                  "4": "0",
                  "5": "20.89527777777778",
                  "6": "1",
                  "7": "1",
                  "8": "2022-04-14"
                },
                {
                  "0": "FOT00019859",
                  "1": [
                    "S00000024CVD"
                  ],
                  "2": "2020-02-07 12:38:54",
                  "3": "2020-02-11 08:06:01",
                  "4": "0",
                  "5": "91.45194444444445",
                  "6": "1",
                  "7": "1",
                  "8": "2020-02-11"
                },
                {
                  "0": "FOT00020906",
                  "1": [
                    "S0000001ZVO0"
                  ],
                  "2": "2020-01-14 08:51:01",
                  "3": "2020-01-16 08:28:52",
                  "4": "0",
                  "5": "47.630833333333335",
                  "6": "1",
                  "7": "1",
                  "8": "2020-01-16"
                },
                {
                  "0": "FOT00021726",
                  "1": [
                    "S0000001G131"
                  ],
                  "2": "2019-08-13 22:13:28",
                  "3": "2019-08-15 13:22:31",
                  "4": "0",
                  "5": "39.15083333333333",
                  "6": "1",
                  "7": "1",
                  "8": "2019-08-15"
                },
                {
                  "0": "FOT00030449",
                  "1": [
                    "S00000031ZX4"
                  ],
                  "2": "2020-09-14 20:58:20",
                  "3": "2020-09-16 06:47:48",
                  "4": "0",
                  "5": "33.824444444444445",
                  "6": "1",
                  "7": "1",
                  "8": "2020-09-16"
                },
                {
                  "0": "FOT00037298",
                  "1": [
                    "S0000002QTMR"
                  ],
                  "2": "2020-08-04 13:50:42",
                  "3": "2020-08-05 13:21:07",
                  "4": "0",
                  "5": "23.506944444444443",
                  "6": "1",
                  "7": "1",
                  "8": "2020-08-05"
                },
                {
                  "0": "FOT00038619",
                  "1": [
                    "S000000307DA"
                  ],
                  "2": "2020-09-08 22:37:08",
                  "3": "2020-09-22 08:34:58",
                  "4": "0",
                  "5": "321.9638888888889",
                  "6": "1",
                  "7": "1",
                  "8": "2020-09-22"
                },
                {
                  "0": "FOT00038622",
                  "1": [
                    "S0000002AWJ5"
                  ],
                  "2": "2020-03-16 13:31:52",
                  "3": "2020-03-17 16:23:40",
                  "4": "0",
                  "5": "26.863333333333333",
                  "6": "1",
                  "7": "1",
                  "8": "2020-03-17"
                },
                {
                  "0": "FOT00039111",
                  "1": [
                    "S0000006F2E6"
                  ],
                  "2": "2021-07-29 13:52:03",
                  "3": "2021-08-02 12:41:22",
                  "4": "0",
                  "5": "94.82194444444444",
                  "6": "1",
                  "7": "1",
                  "8": "2021-08-02"
                },
                {
                  "0": "FOT00043225",
                  "1": [
                    "S0000001YK1T"
                  ],
                  "2": "2019-12-19 20:05:30",
                  "3": "2020-01-02 16:03:47",
                  "4": "0",
                  "5": "331.9713888888889",
                  "6": "1",
                  "7": "1",
                  "8": "2020-01-02"
                },
                {
                  "0": "FOT00043465",
                  "1": [
                    "S0000001SQAT"
                  ],
                  "2": "2019-11-05 22:13:04",
                  "3": "2019-11-08 14:57:23",
                  "4": "0",
                  "5": "64.73861111111111",
                  "6": "1",
                  "7": "1",
                  "8": "2019-11-08"
                },
                {
                  "0": "FOT00044985",
                  "1": [
                    "S0000008G1Z8"
                  ],
                  "2": "2022-01-31 10:17:16",
                  "3": "2022-02-01 07:57:38",
                  "4": "0",
                  "5": "21.672777777777778",
                  "6": "1",
                  "7": "1",
                  "8": "2022-02-01"
                },
                {
                  "0": "FOT00045180",
                  "1": [
                    "S00000077MIC"
                  ],
                  "2": "2021-10-05 09:59:18",
                  "3": "2021-10-05 16:21:24",
                  "4": "0",
                  "5": "6.368333333333333",
                  "6": "1",
                  "7": "1",
                  "8": "2021-10-05"
                },
                {
                  "0": "FOT00045782",
                  "1": [
                    "S00000093ORL"
                  ],
                  "2": "2022-03-23 10:25:51",
                  "3": "2022-03-24 09:36:21",
                  "4": "0",
                  "5": "23.175",
                  "6": "1",
                  "7": "1",
                  "8": "2022-03-24"
                },
                {
                  "0": "FOT00046992",
                  "1": [
                    "S0000001IB79"
                  ],
                  "2": "2019-08-30 10:59:39",
                  "3": "2019-09-02 13:16:13",
                  "4": "0",
                  "5": "74.2761111111111",
                  "6": "1",
                  "7": "1",
                  "8": "2019-09-02"
                },
                {
                  "0": "FOT00047083",
                  "1": [
                    "S0000001EPZ5"
                  ],
                  "2": "2019-08-05 17:49:51",
                  "3": "2019-08-12 11:21:46",
                  "4": "0",
                  "5": "161.53194444444443",
                  "6": "1",
                  "7": "1",
                  "8": "2019-08-12"
                },
                {
                  "0": "FOT00049520",
                  "1": [
                    "S0000004LQT9"
                  ],
                  "2": "2021-03-09 17:53:43",
                  "3": "2021-03-10 10:48:54",
                  "4": "0",
                  "5": "16.919722222222223",
                  "6": "1",
                  "7": "1",
                  "8": "2021-03-10"
                },
                {
                  "0": "FOT00062064",
                  "1": [
                    "S0000008I5KM"
                  ],
                  "2": "2022-02-07 22:15:44",
                  "3": "2022-02-08 08:09:41",
                  "4": "0",
                  "5": "9.899166666666666",
                  "6": "1",
                  "7": "1",
                  "8": "2022-02-08"
                },
                {
                  "0": "FOT00062567",
                  "1": [
                    "S0000008VFEK"
                  ],
                  "2": "2022-03-07 22:12:12",
                  "3": "2022-03-08 07:21:12",
                  "4": "0",
                  "5": "9.15",
                  "6": "1",
                  "7": "1",
                  "8": "2022-03-08"
                },
                {
                  "0": "FOT00062764",
                  "1": [
                    "S0000005RIXO"
                  ],
                  "2": "2021-06-07 17:44:23",
                  "3": "2021-06-11 13:12:11",
                  "4": "0",
                  "5": "91.46333333333334",
                  "6": "1",
                  "7": "1",
                  "8": "2021-06-11"
                },
                {
                  "0": "FOT00062803",
                  "1": [
                    "S000000502Z0",
                    "S000000502Z0"
                  ],
                  "2": "2021-04-09 08:24:50",
                  "3": "2021-04-12 11:14:58",
                  "4": "0",
                  "5": "74.83555555555556",
                  "6": "2",
                  "7": "2",
                  "8": "2021-04-12"
                },
                {
                  "0": "FOT00062952",
                  "1": [
                    "S000000585YO"
                  ],
                  "2": "2021-04-30 13:52:51",
                  "3": "2021-05-03 07:44:11",
                  "4": "0",
                  "5": "65.85555555555555",
                  "6": "1",
                  "7": "1",
                  "8": "2021-05-03"
                },
                {
                  "0": "FOT00063986",
                  "1": [
                    "S0000004SH1X"
                  ],
                  "2": "2021-03-23 22:02:15",
                  "3": "2021-03-24 08:26:27",
                  "4": "0",
                  "5": "10.403333333333334",
                  "6": "1",
                  "7": "1",
                  "8": "2021-03-24"
                },
                {
                  "0": "FOT00065079",
                  "1": [
                    "S0000006NYHK"
                  ],
                  "2": "2021-08-24 19:17:25",
                  "3": "2021-08-26 06:36:32",
                  "4": "0",
                  "5": "35.31861111111111",
                  "6": "1",
                  "7": "1",
                  "8": "2021-08-26"
                },
                {
                  "0": "FOT00065105",
                  "1": [
                    "S00000061BW2"
                  ],
                  "2": "2021-06-28 21:59:03",
                  "3": "2021-06-30 10:04:31",
                  "4": "0",
                  "5": "36.09111111111111",
                  "6": "1",
                  "7": "1",
                  "8": "2021-06-30"
                },
                {
                  "0": "FOT00065516",
                  "1": [
                    "S0000006JNSJ"
                  ],
                  "2": "2021-08-11 17:25:50",
                  "3": "2021-08-12 10:17:55",
                  "4": "0",
                  "5": "16.868055555555557",
                  "6": "1",
                  "7": "1",
                  "8": "2021-08-12"
                },
                {
                  "0": "FOT00065520",
                  "1": [
                    "S00000063S2Y"
                  ],
                  "2": "2021-07-07 09:09:43",
                  "3": "2021-07-15 12:44:50",
                  "4": "0",
                  "5": "195.58527777777778",
                  "6": "1",
                  "7": "1",
                  "8": "2021-07-15"
                },
                {
                  "0": "FOT00069358",
                  "1": [
                    "S0000002XY8L"
                  ],
                  "2": "2020-09-02 21:32:13",
                  "3": "2020-09-04 07:51:38",
                  "4": "0",
                  "5": "34.32361111111111",
                  "6": "1",
                  "7": "1",
                  "8": "2020-09-04"
                },
                {
                  "0": "FOT00069647",
                  "1": [
                    "S00000043EIK"
                  ],
                  "2": "2021-01-13 22:09:26",
                  "3": "2021-01-15 09:17:53",
                  "4": "0",
                  "5": "35.14083333333333",
                  "6": "1",
                  "7": "1",
                  "8": "2021-01-15"
                },
                {
                  "0": "FOT00069648",
                  "1": [
                    "S00000043EPR"
                  ],
                  "2": "2021-01-13 22:09:50",
                  "3": "2021-01-15 09:17:44",
                  "4": "0",
                  "5": "35.13166666666667",
                  "6": "1",
                  "7": "1",
                  "8": "2021-01-15"
                },
                {
                  "0": "FOT00069715",
                  "1": [
                    "S0000003I3SX"
                  ],
                  "2": "2020-10-22 22:08:00",
                  "3": "2020-10-23 13:14:17",
                  "4": "0",
                  "5": "15.104722222222222",
                  "6": "1",
                  "7": "1",
                  "8": "2020-10-23"
                },
                {
                  "0": "FOT00069944",
                  "1": [
                    "S00000047FCF"
                  ],
                  "2": "2021-01-28 20:45:52",
                  "3": "2021-01-29 11:56:05",
                  "4": "0",
                  "5": "15.170277777777779",
                  "6": "1",
                  "7": "1",
                  "8": "2021-01-29"
                },
                {
                  "0": "FOT00070056",
                  "1": [
                    "S00000044LZS"
                  ],
                  "2": "2021-01-19 09:26:04",
                  "3": "2021-01-20 07:01:26",
                  "4": "0",
                  "5": "21.589444444444446",
                  "6": "1",
                  "7": "1",
                  "8": "2021-01-20"
                },
                {
                  "0": "FOT00070624",
                  "1": [
                    "S000000312JH"
                  ],
                  "2": "2020-09-10 21:55:05",
                  "3": "2020-09-29 11:24:08",
                  "4": "0",
                  "5": "445.4841666666667",
                  "6": "1",
                  "7": "1",
                  "8": "2020-09-29"
                },
                {
                  "0": "FOT00071029",
                  "1": [
                    "S0000003K7FS"
                  ],
                  "2": "2020-10-27 12:41:14",
                  "3": "2020-10-29 11:45:57",
                  "4": "0",
                  "5": "47.07861111111111",
                  "6": "1",
                  "7": "1",
                  "8": "2020-10-29"
                },
                {
                  "0": "FOT00071061",
                  "1": [
                    "S0000004GEPQ"
                  ],
                  "2": "2021-02-24 22:14:43",
                  "3": "2021-02-26 10:03:43",
                  "4": "0",
                  "5": "35.81666666666667",
                  "6": "1",
                  "7": "1",
                  "8": "2021-02-26"
                },
                {
                  "0": "FOT00071217",
                  "1": [
                    "S0000004MEUV"
                  ],
                  "2": "2021-03-10 21:58:09",
                  "3": "2021-03-12 07:53:44",
                  "4": "0",
                  "5": "33.92638888888889",
                  "6": "1",
                  "7": "1",
                  "8": "2021-03-12"
                },
                {
                  "0": "FOT00071633",
                  "1": [
                    "S0000004FRMG"
                  ],
                  "2": "2021-02-23 22:09:07",
                  "3": "2021-02-25 08:29:11",
                  "4": "0",
                  "5": "34.33444444444444",
                  "6": "1",
                  "7": "1",
                  "8": "2021-02-25"
                },
                {
                  "0": "L0000000CHES",
                  "1": [
                    "00390078710128746416"
                  ],
                  "2": "2019-07-31 14:50:03",
                  "3": "2019-08-02 09:30:40",
                  "4": "0",
                  "5": "42.676944444444445",
                  "6": "1",
                  "7": "1",
                  "8": "2019-08-02"
                },
                {
                  "0": "L0000000EN3E",
                  "1": [
                    "00390078720578181972"
                  ],
                  "2": "2019-08-31 09:49:52",
                  "3": "2019-09-03 08:50:59",
                  "4": "0",
                  "5": "71.01861111111111",
                  "6": "1",
                  "7": "1",
                  "8": "2019-09-03"
                },
                {
                  "0": "L0000000TFIN",
                  "1": [],
                  "2": "2020-07-20 22:34:25",
                  "3": "2020-07-27 06:33:25",
                  "4": "0",
                  "5": "151.98333333333332",
                  "6": "0",
                  "8": "2020-07-27"
                },
                {
                  "0": "L0000001C0AD",
                  "1": [
                    "00390078710137518271"
                  ],
                  "2": "2021-08-16 13:02:37",
                  "3": "2021-08-17 14:35:57",
                  "4": "0",
                  "5": "25.555555555555557",
                  "6": "1",
                  "7": "1",
                  "8": "2021-08-17"
                },
                {
                  "0": "L0000001OWSH",
                  "1": [
                    "00390078720601827532"
                  ],
                  "2": "2022-03-08 22:19:17",
                  "3": "2022-03-09 10:28:00",
                  "4": "0",
                  "5": "12.145277777777778",
                  "6": "1",
                  "7": "1",
                  "8": "2022-03-09"
                },
                {
                  "0": "FOT00004618",
                  "1": [
                    "S0000009BTZA"
                  ],
                  "2": "2022-04-06 20:18:23",
                  "3": "2022-04-07 09:08:44",
                  "4": "0",
                  "5": "12.839166666666667",
                  "6": "1",
                  "7": "1",
                  "8": "2022-04-07"
                },
                {
                  "0": "FOT00020932",
                  "1": [
                    "S0000001IKDB"
                  ],
                  "2": "2019-09-02 20:03:54",
                  "3": "2019-09-03 12:39:58",
                  "4": "0",
                  "5": "16.601111111111113",
                  "6": "1",
                  "7": "1",
                  "8": "2019-09-03"
                },
                {
                  "0": "FOT00029761",
                  "1": [
                    "S0000001K5N9"
                  ],
                  "2": "2019-09-13 21:58:42",
                  "3": "2019-09-19 10:09:18",
                  "4": "0",
                  "5": "132.17666666666668",
                  "6": "1",
                  "7": "1",
                  "8": "2019-09-19"
                },
                {
                  "0": "FOT00037171",
                  "1": [
                    "S00000027OCR"
                  ],
                  "2": "2020-02-27 10:34:32",
                  "3": "2020-03-09 09:09:52",
                  "4": "0",
                  "5": "262.5888888888889",
                  "6": "1",
                  "7": "1",
                  "8": "2020-03-09"
                },
                {
                  "0": "FOT00037176",
                  "1": [
                    "S0000002PK9L"
                  ],
                  "2": "2020-07-24 16:09:21",
                  "3": "2020-07-28 07:48:08",
                  "4": "0",
                  "5": "87.6463888888889",
                  "6": "1",
                  "7": "1",
                  "8": "2020-07-28"
                },
                {
                  "0": "FOT00037383",
                  "1": [
                    "S00000029P36"
                  ],
                  "2": "2020-03-07 13:51:08",
                  "3": "2020-03-20 14:41:12",
                  "4": "0",
                  "5": "312.83444444444444",
                  "6": "1",
                  "7": "1",
                  "8": "2020-03-20"
                },
                {
                  "0": "FOT00037507",
                  "1": [
                    "S0000003MVPI"
                  ],
                  "2": "2020-11-04 11:53:43",
                  "3": "2020-11-06 09:20:17",
                  "4": "0",
                  "5": "45.44277777777778",
                  "6": "1",
                  "7": "1",
                  "8": "2020-11-06"
                },
                {
                  "0": "FOT00037540",
                  "1": [
                    "S0000002KFBG"
                  ],
                  "2": "2020-06-15 21:52:15",
                  "3": "2020-06-19 08:59:09",
                  "4": "0",
                  "5": "83.115",
                  "6": "1",
                  "7": "1",
                  "8": "2020-06-19"
                },
                {
                  "0": "FOT00037599",
                  "1": [
                    "S0000002FJCM"
                  ],
                  "2": "2020-05-12 13:47:03",
                  "3": "2020-05-13 19:47:18",
                  "4": "0",
                  "5": "30.004166666666666",
                  "6": "1",
                  "7": "1",
                  "8": "2020-05-13"
                },
                {
                  "0": "FOT00037625",
                  "1": [
                    "S0000002ETU9"
                  ],
                  "2": "2020-05-05 21:13:54",
                  "3": "2020-05-15 07:46:26",
                  "4": "0",
                  "5": "226.54222222222222",
                  "6": "1",
                  "7": "1",
                  "8": "2020-05-15"
                },
                {
                  "0": "FOT00038529",
                  "1": [
                    "S0000002NJXI"
                  ],
                  "2": "2020-07-11 10:55:18",
                  "3": "2020-07-13 10:48:20",
                  "4": "0",
                  "5": "47.88388888888889",
                  "6": "1",
                  "7": "1",
                  "8": "2020-07-13"
                },
                {
                  "0": "FOT00042139",
                  "1": [
                    "S0000004GBB6"
                  ],
                  "2": "2021-02-24 21:10:16",
                  "3": "2021-02-26 10:06:26",
                  "4": "0",
                  "5": "36.93611111111111",
                  "6": "1",
                  "7": "1",
                  "8": "2021-02-26"
                },
                {
                  "0": "FOT00042533",
                  "1": [
                    "S0000001Z39U"
                  ],
                  "2": "2020-01-07 13:11:52",
                  "3": "2020-01-08 12:49:28",
                  "4": "0",
                  "5": "23.626666666666665",
                  "6": "1",
                  "7": "1",
                  "8": "2020-01-08"
                },
                {
                  "0": "FOT00042665",
                  "1": [
                    "S00000023E5T"
                  ],
                  "2": "2020-02-03 22:17:49",
                  "3": "2020-02-04 11:47:22",
                  "4": "0",
                  "5": "13.4925",
                  "6": "1",
                  "7": "1",
                  "8": "2020-02-04"
                },
                {
                  "0": "FOT00042877",
                  "1": [
                    "S0000001XO0Y"
                  ],
                  "2": "2019-12-12 10:37:17",
                  "3": "2019-12-13 15:23:10",
                  "4": "0",
                  "5": "28.764722222222222",
                  "6": "1",
                  "7": "1",
                  "8": "2019-12-13"
                },
                {
                  "0": "FOT00043167",
                  "1": [
                    "S0000001ZR2O"
                  ],
                  "2": "2020-01-13 09:32:49",
                  "3": "2020-01-15 08:08:39",
                  "4": "0",
                  "5": "46.59722222222222",
                  "6": "1",
                  "7": "1",
                  "8": "2020-01-15"
                },
                {
                  "0": "FOT00043226",
                  "1": [
                    "S0000002QQMV"
                  ],
                  "2": "2020-08-03 15:47:32",
                  "3": "2020-08-04 12:53:16",
                  "4": "0",
                  "5": "21.095555555555556",
                  "6": "1",
                  "7": "1",
                  "8": "2020-08-04"
                },
                {
                  "0": "FOT00043813",
                  "1": [
                    "S00000021PVM"
                  ],
                  "2": "2020-01-23 13:38:58",
                  "3": "2020-01-24 15:50:08",
                  "4": "0",
                  "5": "26.18611111111111",
                  "6": "1",
                  "7": "1",
                  "8": "2020-01-24"
                },
                {
                  "0": "FOT00044281",
                  "1": [
                    "S00000098WMU"
                  ],
                  "2": "2022-03-31 20:38:04",
                  "3": "2022-04-04 09:56:13",
                  "4": "48",
                  "5": "37.302499999999995",
                  "6": "1",
                  "7": "1",
                  "8": "2022-04-04"
                },
                {
                  "0": "FOT00045213",
                  "1": [
                    "S0000008J212"
                  ],
                  "2": "2022-02-09 12:34:47",
                  "3": "2022-02-10 08:21:22",
                  "4": "0",
                  "5": "19.77638888888889",
                  "6": "1",
                  "7": "1",
                  "8": "2022-02-10"
                },
                {
                  "0": "FOT00046025",
                  "1": [
                    "S00000092AA8"
                  ],
                  "2": "2022-03-21 13:03:09",
                  "3": "2022-03-23 10:20:25",
                  "4": "0",
                  "5": "45.28777777777778",
                  "6": "1",
                  "7": "1",
                  "8": "2022-03-23"
                },
                {
                  "0": "FOT00046216",
                  "1": [
                    "S0000003Z8HU"
                  ],
                  "2": "2020-12-22 20:10:53",
                  "3": "2021-01-06 10:33:31",
                  "4": "0",
                  "5": "350.3772222222222",
                  "6": "1",
                  "7": "1",
                  "8": "2021-01-06"
                },
                {
                  "0": "FOT00047103",
                  "1": [
                    "S0000001FLRL"
                  ],
                  "2": "2019-08-09 22:17:57",
                  "3": "2019-08-13 09:14:11",
                  "4": "0",
                  "5": "82.93722222222222",
                  "6": "1",
                  "7": "1",
                  "8": "2019-08-13"
                },
                {
                  "0": "FOT00047877",
                  "1": [
                    "S0000001KBPL"
                  ],
                  "2": "2019-09-14 12:33:12",
                  "3": "2019-09-16 12:12:54",
                  "4": "0",
                  "5": "47.66166666666667",
                  "6": "1",
                  "7": "1",
                  "8": "2019-09-16"
                },
                {
                  "0": "FOT00048310",
                  "1": [
                    "S0000002ZOU2"
                  ],
                  "2": "2020-09-07 21:48:15",
                  "3": "2020-09-09 08:20:43",
                  "4": "0",
                  "5": "34.541111111111114",
                  "6": "1",
                  "7": "1",
                  "8": "2020-09-09"
                },
                {
                  "0": "FOT00049426",
                  "1": [
                    "S0000004NNB2"
                  ],
                  "2": "2021-03-12 22:06:20",
                  "3": "2021-03-15 14:41:20",
                  "4": "0",
                  "5": "64.58333333333333",
                  "6": "1",
                  "7": "1",
                  "8": "2021-03-15"
                },
                {
                  "0": "FOT00049727",
                  "1": [
                    "S0000002RGPA"
                  ],
                  "2": "2020-08-06 13:23:27",
                  "3": "2020-08-07 09:51:39",
                  "4": "0",
                  "5": "20.47",
                  "6": "1",
                  "7": "1",
                  "8": "2020-08-07"
                },
                {
                  "0": "FOT00061832",
                  "1": [
                    "S000000910GD"
                  ],
                  "2": "2022-03-17 13:48:53",
                  "3": "2022-03-18 09:23:55",
                  "4": "0",
                  "5": "19.58388888888889",
                  "6": "1",
                  "7": "1",
                  "8": "2022-03-18"
                },
                {
                  "0": "FOT00063465",
                  "1": [
                    "S0000006SUQX"
                  ],
                  "2": "2021-09-06 07:25:27",
                  "3": "2021-09-08 06:42:58",
                  "4": "0",
                  "5": "47.29194444444445",
                  "6": "1",
                  "7": "1",
                  "8": "2021-09-08"
                },
                {
                  "0": "FOT00063580",
                  "1": [
                    "S0000004P6BJ"
                  ],
                  "2": "2021-03-16 22:07:09",
                  "3": "2021-03-18 06:00:26",
                  "4": "0",
                  "5": "31.888055555555557",
                  "6": "1",
                  "7": "1",
                  "8": "2021-03-18"
                },
                {
                  "0": "FOT00063940",
                  "1": [
                    "S0000004S946"
                  ],
                  "2": "2021-03-25 06:11:29",
                  "3": "2021-03-25 08:49:08",
                  "4": "0",
                  "5": "2.6275",
                  "6": "1",
                  "7": "1",
                  "8": "2021-03-25"
                },
                {
                  "0": "FOT00064423",
                  "1": [
                    "S0000006R9KF"
                  ],
                  "2": "2021-09-01 12:28:46",
                  "3": "2021-09-02 11:05:01",
                  "4": "0",
                  "5": "22.604166666666668",
                  "6": "1",
                  "7": "1",
                  "8": "2021-09-02"
                },
                {
                  "0": "FOT00064619",
                  "1": [
                    "S0000008LSOR"
                  ],
                  "2": "2022-02-15 14:00:27",
                  "3": "2022-02-16 07:57:10",
                  "4": "0",
                  "5": "17.94527777777778",
                  "6": "1",
                  "7": "1",
                  "8": "2022-02-16"
                },
                {
                  "0": "FOT00064873",
                  "1": [
                    "S0000006MZ9V"
                  ],
                  "2": "2021-08-20 20:56:59",
                  "3": "2021-08-24 09:47:29",
                  "4": "0",
                  "5": "84.84166666666667",
                  "6": "1",
                  "7": "1",
                  "8": "2021-08-24"
                },
                {
                  "0": "FOT00065069",
                  "1": [
                    "S0000006MR4S"
                  ],
                  "2": "2021-08-20 12:55:41",
                  "3": "2021-08-27 08:44:34",
                  "4": "0",
                  "5": "163.81472222222223",
                  "6": "1",
                  "7": "1",
                  "8": "2021-08-27"
                },
                {
                  "0": "FOT00065348",
                  "1": [
                    "S0000005X4GI"
                  ],
                  "2": "2021-06-17 21:44:11",
                  "3": "2021-06-23 06:59:15",
                  "4": "0",
                  "5": "129.2511111111111",
                  "6": "1",
                  "7": "1",
                  "8": "2021-06-23"
                },
                {
                  "0": "FOT00065432",
                  "1": [
                    "S0000006GPJX"
                  ],
                  "2": "2021-08-03 12:30:46",
                  "3": "2021-08-09 08:20:45",
                  "4": "0",
                  "5": "139.83305555555555",
                  "6": "1",
                  "7": "1",
                  "8": "2021-08-09"
                },
                {
                  "0": "FOT00065445",
                  "1": [
                    "S0000006K5TJ"
                  ],
                  "2": "2021-08-12 22:01:50",
                  "3": "2021-08-13 10:54:34",
                  "4": "0",
                  "5": "12.87888888888889",
                  "6": "1",
                  "7": "1",
                  "8": "2021-08-13"
                },
                {
                  "0": "FOT00065591",
                  "1": [
                    "S0000006MRO9"
                  ],
                  "2": "2021-08-20 12:55:27",
                  "3": "2021-08-25 11:41:20",
                  "4": "0",
                  "5": "118.76472222222222",
                  "6": "1",
                  "7": "1",
                  "8": "2021-08-25"
                },
                {
                  "0": "FOT00069301",
                  "1": [
                    "S0000003BTQZ"
                  ],
                  "2": "2020-10-08 20:13:33",
                  "3": "2020-10-15 14:39:32",
                  "4": "0",
                  "5": "162.43305555555557",
                  "6": "1",
                  "7": "1",
                  "8": "2020-10-15"
                },
                {
                  "0": "FOT00069401",
                  "1": [
                    "S0000004AYBT"
                  ],
                  "2": "2021-02-09 22:11:18",
                  "3": "2021-02-11 08:41:27",
                  "4": "0",
                  "5": "34.5025",
                  "6": "1",
                  "7": "1",
                  "8": "2021-02-11"
                },
                {
                  "0": "FOT00069421",
                  "1": [
                    "S0000004NSD3"
                  ],
                  "2": "2021-03-12 22:06:38",
                  "3": "2021-03-15 14:39:17",
                  "4": "0",
                  "5": "64.54416666666667",
                  "6": "1",
                  "7": "1",
                  "8": "2021-03-15"
                },
                {
                  "0": "FOT00070098",
                  "1": [
                    "S00000044TFJ"
                  ],
                  "2": "2021-01-19 13:35:56",
                  "3": "2021-01-20 09:16:33",
                  "4": "0",
                  "5": "19.676944444444445",
                  "6": "1",
                  "7": "1",
                  "8": "2021-01-20"
                },
                {
                  "0": "FOT00071030",
                  "1": [
                    "S0000003K7H8"
                  ],
                  "2": "2020-10-27 12:40:05",
                  "3": "2020-10-29 11:45:15",
                  "4": "0",
                  "5": "47.08611111111111",
                  "6": "1",
                  "7": "1",
                  "8": "2020-10-29"
                },
                {
                  "0": "FOT00071170",
                  "1": [
                    "S0000004PH58"
                  ],
                  "2": "2021-03-17 13:07:20",
                  "3": "2021-03-18 10:32:03",
                  "4": "0",
                  "5": "21.411944444444444",
                  "6": "1",
                  "7": "1",
                  "8": "2021-03-18"
                },
                {
                  "0": "FOT00071266",
                  "1": [
                    "S0000003IQYR"
                  ],
                  "2": "2020-10-23 22:04:33",
                  "3": "2020-10-26 11:04:21",
                  "4": "0",
                  "5": "60.99666666666667",
                  "6": "1",
                  "7": "1",
                  "8": "2020-10-26"
                },
                {
                  "0": "FOT00071461",
                  "1": [
                    "S0000004KQ35"
                  ],
                  "2": "2021-03-08 13:10:38",
                  "3": "2021-03-10 07:31:35",
                  "4": "0",
                  "5": "42.34916666666667",
                  "6": "1",
                  "7": "1",
                  "8": "2021-03-10"
                },
                {
                  "0": "FOT00071519",
                  "1": [
                    "S0000004HCDT",
                    "S0000004HCDT"
                  ],
                  "2": "2021-02-27 13:41:06",
                  "3": "2021-03-01 09:06:38",
                  "4": "0",
                  "5": "43.425555555555555",
                  "6": "2",
                  "7": "2",
                  "8": "2021-03-01"
                },
                {
                  "0": "FOT00071602",
                  "1": [
                    "S0000004G7O4",
                    "S0000004G7O4",
                    "S0000004G7O4"
                  ],
                  "2": "2021-02-24 22:11:01",
                  "3": "2021-02-26 10:03:52",
                  "4": "0",
                  "5": "35.880833333333335",
                  "6": "3",
                  "7": "3",
                  "8": "2021-02-26"
                },
                {
                  "0": "L0000000ENCM",
                  "1": [
                    "00390078720577121672"
                  ],
                  "2": "2019-08-31 09:50:22",
                  "3": "2019-09-03 08:50:54",
                  "4": "0",
                  "5": "71.00888888888889",
                  "6": "1",
                  "7": "1",
                  "8": "2019-09-03"
                },
                {
                  "0": "L0000000GNS6",
                  "1": [
                    "00390078720579282807"
                  ],
                  "2": "2019-10-04 17:36:34",
                  "3": "2019-10-10 08:52:09",
                  "4": "0",
                  "5": "135.25972222222222",
                  "6": "1",
                  "7": "1",
                  "8": "2019-10-10"
                },
                {
                  "0": "L0000000NH5D",
                  "1": [
                    "00390078710132259285",
                    "00390078710132259285"
                  ],
                  "2": "2020-02-17 16:40:27",
                  "3": "2020-02-20 08:17:40",
                  "4": "0",
                  "5": "63.62027777777778",
                  "6": "2",
                  "7": "2",
                  "8": "2020-02-20"
                },
                {
                  "0": "L0000001EZC2",
                  "1": [
                    "00390078710138386497"
                  ],
                  "2": "2021-09-13 21:35:54",
                  "3": "2021-09-14 09:05:25",
                  "4": "0",
                  "5": "11.491944444444444",
                  "6": "1",
                  "7": "1",
                  "8": "2021-09-14"
                },
                {
                  "0": "L0000001FBDW",
                  "1": [
                    "00390078710138551215"
                  ],
                  "2": "2021-09-16 22:04:13",
                  "3": "2021-09-23 11:08:29",
                  "4": "0",
                  "5": "157.07111111111112",
                  "6": "1",
                  "7": "1",
                  "8": "2021-09-23"
                },
                {
                  "0": "L0000001GCDD",
                  "1": [
                    "00390078720597275355"
                  ],
                  "2": "2021-10-02 13:29:30",
                  "3": "2021-10-08 09:45:45",
                  "4": "0",
                  "5": "140.27083333333334",
                  "6": "1",
                  "7": "1",
                  "8": "2021-10-08"
                },
                {
                  "0": "L0000001OA7Z",
                  "1": [
                    "00390078710141544761"
                  ],
                  "2": "2022-02-21 21:42:58",
                  "3": "2022-02-22 07:30:06",
                  "4": "0",
                  "5": "9.785555555555556",
                  "6": "1",
                  "7": "1",
                  "8": "2022-02-22"
                },
                {
                  "0": "L0000001OC8P",
                  "1": [
                    "S0000008QI8I"
                  ],
                  "2": "2022-02-23 12:05:52",
                  "3": "2022-02-23 12:01:52",
                  "6": "1",
                  "7": "1",
                  "8": "2022-02-23"
                },
                {
                  "0": "FOT00004097",
                  "1": [
                    "S0000009GSBD"
                  ],
                  "2": "2022-04-19 22:15:16",
                  "3": "2022-04-20 10:10:31",
                  "4": "0",
                  "5": "11.920833333333333",
                  "6": "1",
                  "7": "1",
                  "8": "2022-04-20"
                },
                {
                  "0": "FOT00004849",
                  "1": [
                    "S0000009FY1Y"
                  ],
                  "2": "2022-04-14 15:59:40",
                  "3": "2022-04-19 09:52:16",
                  "4": "96",
                  "5": "17.876666666666665",
                  "6": "1",
                  "7": "1",
                  "8": "2022-04-19"
                },
                {
                  "0": "FOT00020892",
                  "1": [
                    "S0000001HS7M"
                  ],
                  "2": "2019-08-27 21:57:11",
                  "3": "2019-08-29 10:46:08",
                  "4": "0",
                  "5": "36.81583333333333",
                  "6": "1",
                  "7": "1",
                  "8": "2019-08-29"
                },
                {
                  "0": "FOT00021651",
                  "1": [
                    "S0000001G01X"
                  ],
                  "2": "2019-08-13 22:15:38",
                  "3": "2019-08-20 08:25:17",
                  "4": "0",
                  "5": "154.16083333333333",
                  "6": "1",
                  "7": "1",
                  "8": "2019-08-20"
                },
                {
                  "0": "FOT00037179",
                  "1": [
                    "S00000028EDY"
                  ],
                  "2": "2020-03-02 13:52:19",
                  "3": "2020-03-04 09:37:51",
                  "4": "0",
                  "5": "43.75888888888889",
                  "6": "1",
                  "7": "1",
                  "8": "2020-03-04"
                },
                {
                  "0": "FOT00037532",
                  "1": [
                    "S0000002KS1C"
                  ],
                  "2": "2020-06-17 20:57:02",
                  "3": "2020-06-19 08:56:21",
                  "4": "0",
                  "5": "35.98861111111111",
                  "6": "1",
                  "7": "1",
                  "8": "2020-06-19"
                },
                {
                  "0": "FOT00042628",
                  "1": [
                    "S0000001RZKJ"
                  ],
                  "2": "2019-11-01 07:21:24",
                  "3": "2019-11-08 13:09:57",
                  "4": "0",
                  "5": "173.80916666666667",
                  "6": "1",
                  "7": "1",
                  "8": "2019-11-08"
                },
                {
                  "0": "FOT00042775",
                  "1": [
                    "S0000002BR4G"
                  ],
                  "2": "2020-03-20 11:30:26",
                  "3": "2020-03-24 14:25:58",
                  "4": "0",
                  "5": "98.92555555555556",
                  "6": "1",
                  "7": "1",
                  "8": "2020-03-24"
                },
                {
                  "0": "FOT00042825",
                  "1": [
                    "S0000001ZJAK"
                  ],
                  "2": "2020-01-09 19:58:47",
                  "3": "2020-01-21 18:52:17",
                  "4": "0",
                  "5": "286.89166666666665",
                  "6": "1",
                  "7": "1",
                  "8": "2020-01-21"
                },
                {
                  "0": "FOT00043229",
                  "1": [
                    "S0000002TC2I"
                  ],
                  "2": "2020-08-19 13:06:41",
                  "3": "2020-08-21 08:11:12",
                  "4": "0",
                  "5": "43.07527777777778",
                  "6": "1",
                  "7": "1",
                  "8": "2020-08-21"
                },
                {
                  "0": "FOT00044304",
                  "1": [
                    "S0000006ZV6X"
                  ],
                  "2": "2021-09-21 18:42:53",
                  "3": "2021-09-23 09:59:36",
                  "4": "0",
                  "5": "39.27861111111111",
                  "6": "1",
                  "7": "1",
                  "8": "2021-09-23"
                },
                {
                  "0": "FOT00044925",
                  "1": [
                    "S0000008D2LC"
                  ],
                  "2": "2022-01-20 11:20:59",
                  "3": "2022-01-21 07:25:07",
                  "4": "0",
                  "5": "20.06888888888889",
                  "6": "1",
                  "7": "1",
                  "8": "2022-01-21"
                },
                {
                  "0": "FOT00045043",
                  "1": [
                    "S0000007MW6B"
                  ],
                  "2": "2021-11-03 18:19:45",
                  "3": "2021-11-04 10:44:09",
                  "4": "0",
                  "5": "16.406666666666666",
                  "6": "1",
                  "7": "1",
                  "8": "2021-11-04"
                },
                {
                  "0": "FOT00046020",
                  "1": [
                    "S00000092CPR"
                  ],
                  "2": "2022-03-21 13:03:13",
                  "3": "2022-03-23 10:31:26",
                  "4": "0",
                  "5": "45.47027777777778",
                  "6": "1",
                  "7": "1",
                  "8": "2022-03-23"
                },
                {
                  "0": "FOT00046114",
                  "1": [
                    "S0000008FRCG"
                  ],
                  "2": "2022-01-28 13:30:29",
                  "3": "2022-01-28 14:51:19",
                  "4": "0",
                  "5": "1.3472222222222223",
                  "6": "1",
                  "7": "1",
                  "8": "2022-01-28"
                },
                {
                  "0": "FOT00046968",
                  "1": [
                    "S0000001IA0N"
                  ],
                  "2": "2019-08-30 09:18:37",
                  "3": "2019-09-02 13:15:57",
                  "4": "0",
                  "5": "75.95555555555555",
                  "6": "1",
                  "7": "1",
                  "8": "2019-09-02"
                },
                {
                  "0": "FOT00061763",
                  "1": [
                    "S0000008VXMP"
                  ],
                  "2": "2022-03-08 09:10:43",
                  "3": "2022-03-08 12:59:17",
                  "4": "0",
                  "5": "3.8094444444444444",
                  "6": "1",
                  "7": "1",
                  "8": "2022-03-08"
                },
                {
                  "0": "FOT00061882",
                  "1": [
                    "S0000008QPHK"
                  ],
                  "2": "2022-02-23 15:46:09",
                  "3": "2022-02-24 07:51:03",
                  "4": "0",
                  "5": "16.081666666666667",
                  "6": "1",
                  "7": "1",
                  "8": "2022-02-24"
                },
                {
                  "0": "FOT00061916",
                  "1": [
                    "S00000094CZH",
                    "S00000094CZH"
                  ],
                  "2": "2022-03-24 10:41:42",
                  "3": "2022-03-29 09:22:56",
                  "4": "48",
                  "5": "70.68722222222222",
                  "6": "2",
                  "7": "2",
                  "8": "2022-03-29"
                },
                {
                  "0": "FOT00062570",
                  "1": [
                    "S0000008VFT9"
                  ],
                  "2": "2022-03-07 22:12:17",
                  "3": "2022-03-08 07:24:34",
                  "4": "0",
                  "5": "9.204722222222221",
                  "6": "1",
                  "7": "1",
                  "8": "2022-03-08"
                },
                {
                  "0": "FOT00062827",
                  "1": [
                    "S0000004ZZI0"
                  ],
                  "2": "2021-04-08 22:15:28",
                  "3": "2021-04-13 08:41:07",
                  "4": "0",
                  "5": "106.4275",
                  "6": "1",
                  "7": "1",
                  "8": "2021-04-13"
                },
                {
                  "0": "FOT00063177",
                  "1": [
                    "S00000055FGJ"
                  ],
                  "2": "2021-04-22 10:49:09",
                  "3": "2021-04-30 14:00:42",
                  "4": "0",
                  "5": "195.1925",
                  "6": "1",
                  "7": "1",
                  "8": "2021-04-30"
                },
                {
                  "0": "FOT00063215",
                  "1": [
                    "S000000520QM"
                  ],
                  "2": "2021-04-13 15:08:43",
                  "3": "2021-04-14 09:15:46",
                  "4": "0",
                  "5": "18.1175",
                  "6": "1",
                  "7": "1",
                  "8": "2021-04-14"
                },
                {
                  "0": "FOT00063286",
                  "1": [
                    "S00000051FOP",
                    "S00000051FOP"
                  ],
                  "2": "2021-04-12 15:24:13",
                  "3": "2021-04-13 11:46:19",
                  "4": "0",
                  "5": "20.368333333333332",
                  "6": "2",
                  "7": "2",
                  "8": "2021-04-13"
                },
                {
                  "0": "FOT00063507",
                  "1": [
                    "S0000005CI96"
                  ],
                  "2": "2021-05-11 12:34:47",
                  "3": "2021-05-13 08:08:39",
                  "4": "0",
                  "5": "43.56444444444445",
                  "6": "1",
                  "7": "1",
                  "8": "2021-05-13"
                },
                {
                  "0": "FOT00063760",
                  "1": [
                    "S0000004WAYQ"
                  ],
                  "2": "2021-03-31 14:36:59",
                  "3": "2021-04-06 07:50:43",
                  "4": "0",
                  "5": "137.2288888888889",
                  "6": "1",
                  "7": "1",
                  "8": "2021-04-06"
                },
                {
                  "0": "FOT00064739",
                  "1": [
                    "S0000006NZQN"
                  ],
                  "2": "2021-08-24 20:50:07",
                  "3": "2021-08-27 08:44:20",
                  "4": "0",
                  "5": "59.90361111111111",
                  "6": "1",
                  "7": "1",
                  "8": "2021-08-27"
                },
                {
                  "0": "FOT00064926",
                  "1": [
                    "S0000006DK3B"
                  ],
                  "2": "2021-07-27 15:41:23",
                  "3": "2021-07-29 13:23:36",
                  "4": "0",
                  "5": "45.70361111111111",
                  "6": "1",
                  "7": "1",
                  "8": "2021-07-29"
                },
                {
                  "0": "FOT00065485",
                  "1": [
                    "S0000006CWYL"
                  ],
                  "2": "2021-07-26 19:27:43",
                  "3": "2021-07-27 09:40:46",
                  "4": "0",
                  "5": "14.2175",
                  "6": "1",
                  "7": "1",
                  "8": "2021-07-27"
                },
                {
                  "0": "FOT00065607",
                  "1": [
                    "S0000006BYWI"
                  ],
                  "2": "2021-07-23 13:38:20",
                  "3": "2021-07-27 09:14:20",
                  "4": "0",
                  "5": "91.6",
                  "6": "1",
                  "7": "1",
                  "8": "2021-07-27"
                },
                {
                  "0": "FOT00065624",
                  "1": [
                    "S0000006GTUQ"
                  ],
                  "2": "2021-08-03 19:42:33",
                  "3": "2021-08-04 14:33:04",
                  "4": "0",
                  "5": "18.841944444444444",
                  "6": "1",
                  "7": "1",
                  "8": "2021-08-04"
                },
                {
                  "0": "FOT00069279",
                  "1": [
                    "S000000341M9"
                  ],
                  "2": "2020-09-19 13:54:44",
                  "3": "2020-09-22 07:45:32",
                  "4": "0",
                  "5": "65.84666666666666",
                  "6": "1",
                  "7": "1",
                  "8": "2020-09-22"
                },
                {
                  "0": "FOT00069449",
                  "1": [
                    "S0000002YDSN"
                  ],
                  "2": "2020-09-03 17:00:46",
                  "3": "2020-09-07 08:17:00",
                  "4": "0",
                  "5": "87.27055555555556",
                  "6": "1",
                  "7": "1",
                  "8": "2020-09-07"
                },
                {
                  "0": "FOT00069477",
                  "1": [
                    "S00000030XR9"
                  ],
                  "2": "2020-09-10 13:00:27",
                  "3": "2020-09-22 07:52:45",
                  "4": "0",
                  "5": "282.87166666666667",
                  "6": "1",
                  "7": "1",
                  "8": "2020-09-22"
                },
                {
                  "0": "FOT00069729",
                  "1": [
                    "S0000003HWZE"
                  ],
                  "2": "2020-10-22 22:06:59",
                  "3": "2020-10-29 08:29:50",
                  "4": "0",
                  "5": "154.38083333333333",
                  "6": "1",
                  "7": "1",
                  "8": "2020-10-29"
                },
                {
                  "0": "FOT00070656",
                  "1": [
                    "S00000047GTE"
                  ],
                  "2": "2021-01-28 20:45:37",
                  "3": "2021-01-29 11:56:14",
                  "4": "0",
                  "5": "15.176944444444445",
                  "6": "1",
                  "7": "1",
                  "8": "2021-01-29"
                },
                {
                  "0": "FOT00071320",
                  "1": [
                    "S0000004D37M"
                  ],
                  "2": "2021-02-16 13:07:32",
                  "3": "2021-02-17 11:41:43",
                  "4": "0",
                  "5": "22.56972222222222",
                  "6": "1",
                  "7": "1",
                  "8": "2021-02-17"
                },
                {
                  "0": "FOT00071440",
                  "1": [
                    "S0000004JE9E"
                  ],
                  "2": "2021-03-04 13:48:13",
                  "3": "2021-03-08 11:03:28",
                  "4": "0",
                  "5": "93.25416666666666",
                  "6": "1",
                  "7": "1",
                  "8": "2021-03-08"
                },
                {
                  "0": "FOT00071448",
                  "1": [
                    "S0000004KR88"
                  ],
                  "2": "2021-03-08 13:10:35",
                  "3": "2021-03-10 07:37:36",
                  "4": "0",
                  "5": "42.45027777777778",
                  "6": "1",
                  "7": "1",
                  "8": "2021-03-10"
                },
                {
                  "0": "L0000000CINU",
                  "1": [
                    "00390078710128374954"
                  ],
                  "2": "2019-07-31 14:49:53",
                  "3": "2019-08-02 09:30:28",
                  "4": "0",
                  "5": "42.67638888888889",
                  "6": "1",
                  "7": "1",
                  "8": "2019-08-02"
                },
                {
                  "0": "L0000000F7CH",
                  "1": [
                    "00390078710129109593"
                  ],
                  "2": "2019-09-09 21:55:12",
                  "3": "2019-09-10 12:55:21",
                  "4": "0",
                  "5": "15.0025",
                  "6": "1",
                  "7": "1",
                  "8": "2019-09-10"
                },
                {
                  "0": "L0000000H6B6",
                  "1": [
                    "00390078710129563937"
                  ],
                  "2": "2019-10-17 06:09:56",
                  "3": "2019-10-21 10:30:59",
                  "4": "0",
                  "5": "100.35083333333333",
                  "6": "1",
                  "7": "1",
                  "8": "2019-10-21"
                },
                {
                  "0": "L0000000TLAZ",
                  "1": [
                    "00390078710134905579"
                  ],
                  "2": "2020-07-27 13:43:40",
                  "3": "2020-07-29 10:06:48",
                  "4": "0",
                  "5": "44.385555555555555",
                  "6": "1",
                  "7": "1",
                  "8": "2020-07-29"
                },
                {
                  "0": "L0000001FIYV",
                  "1": [
                    "00390078720596667472"
                  ],
                  "2": "2021-09-21 21:20:14",
                  "3": "2021-09-24 12:56:07",
                  "4": "0",
                  "5": "63.598055555555554",
                  "6": "1",
                  "7": "1",
                  "8": "2021-09-24"
                },
                {
                  "0": "L0000001PXSN",
                  "1": [
                    "00390078720602377517"
                  ],
                  "2": "2022-03-30 06:44:49",
                  "3": "2022-03-31 09:25:20",
                  "4": "0",
                  "5": "26.67527777777778",
                  "6": "1",
                  "7": "1",
                  "8": "2022-03-31"
                },
                {
                  "0": "L0000001QL08",
                  "1": [
                    "S0000009ENUS"
                  ],
                  "2": "2022-04-12 13:39:23",
                  "3": "2022-04-13 08:37:57",
                  "4": "0",
                  "5": "18.976111111111113",
                  "6": "1",
                  "7": "1",
                  "8": "2022-04-13"
                },
                {
                  "0": "FOT00004436",
                  "1": [
                    "S0000009D1XH"
                  ],
                  "2": "2022-04-08 19:17:48",
                  "3": "2022-04-12 12:06:43",
                  "4": "48",
                  "5": "40.81527777777778",
                  "6": "1",
                  "7": "1",
                  "8": "2022-04-12"
                },
                {
                  "0": "FOT00020031",
                  "1": [
                    "S0000002M1BR"
                  ],
                  "2": "2020-06-30 22:00:57",
                  "3": "2020-07-01 13:54:00",
                  "4": "0",
                  "5": "15.884166666666667",
                  "6": "1",
                  "7": "1",
                  "8": "2020-07-01"
                },
                {
                  "0": "FOT00020565",
                  "1": [
                    "S0000002EURE"
                  ],
                  "2": "2020-05-06 17:47:53",
                  "3": "2020-05-07 15:30:21",
                  "4": "0",
                  "5": "21.70777777777778",
                  "6": "1",
                  "7": "1",
                  "8": "2020-05-07"
                },
                {
                  "0": "FOT00020878",
                  "1": [
                    "S0000001GQGH"
                  ],
                  "2": "2019-08-16 21:42:15",
                  "3": "2019-08-20 08:25:59",
                  "4": "0",
                  "5": "82.72888888888889",
                  "6": "1",
                  "7": "1",
                  "8": "2019-08-20"
                },
                {
                  "0": "FOT00020898",
                  "1": [
                    "S0000001QH2F"
                  ],
                  "2": "2019-10-23 21:56:31",
                  "3": "2019-10-24 08:51:28",
                  "4": "0",
                  "5": "10.915833333333333",
                  "6": "1",
                  "7": "1",
                  "8": "2019-10-24"
                },
                {
                  "0": "FOT00020904",
                  "1": [
                    "S0000004I4QN"
                  ],
                  "2": "2021-03-02 13:41:29",
                  "3": "2021-03-04 07:49:09",
                  "4": "0",
                  "5": "42.12777777777778",
                  "6": "1",
                  "7": "1",
                  "8": "2021-03-04"
                },
                {
                  "0": "FOT00021657",
                  "1": [
                    "S0000001ESZZ"
                  ],
                  "2": "2019-08-06 12:56:28",
                  "3": "2019-08-15 10:37:42",
                  "4": "0",
                  "5": "213.68722222222223",
                  "6": "1",
                  "7": "1",
                  "8": "2019-08-15"
                },
                {
                  "0": "FOT00037596",
                  "1": [
                    "S0000002FNNV"
                  ],
                  "2": "2020-05-13 10:30:12",
                  "3": "2020-05-13 19:47:49",
                  "4": "0",
                  "5": "9.293611111111112",
                  "6": "1",
                  "7": "1",
                  "8": "2020-05-13"
                },
                {
                  "0": "FOT00037600",
                  "1": [
                    "S0000002FH0E"
                  ],
                  "2": "2020-05-11 13:40:41",
                  "3": "2020-05-11 15:35:20",
                  "4": "0",
                  "5": "1.9108333333333334",
                  "6": "1",
                  "7": "1",
                  "8": "2020-05-11"
                },
                {
                  "0": "FOT00038332",
                  "1": [
                    "S0000002OHB1"
                  ],
                  "2": "2020-07-17 17:55:24",
                  "3": "2020-08-03 15:28:19",
                  "4": "0",
                  "5": "405.5486111111111",
                  "6": "1",
                  "7": "1",
                  "8": "2020-08-03"
                },
                {
                  "0": "FOT00038768",
                  "1": [
                    "S0000004JTNU"
                  ],
                  "2": "2021-03-04 17:38:50",
                  "3": "2021-03-05 13:13:47",
                  "4": "0",
                  "5": "19.5825",
                  "6": "1",
                  "7": "1",
                  "8": "2021-03-05"
                },
                {
                  "0": "FOT00042793",
                  "1": [
                    "S0000002463O"
                  ],
                  "2": "2020-02-06 15:48:43",
                  "3": "2020-02-07 10:39:18",
                  "4": "0",
                  "5": "18.843055555555555",
                  "6": "1",
                  "7": "1",
                  "8": "2020-02-07"
                },
                {
                  "0": "FOT00043170",
                  "1": [
                    "S0000001NVJ1"
                  ],
                  "2": "2019-10-10 09:54:48",
                  "3": "2019-10-11 12:47:40",
                  "4": "0",
                  "5": "26.88111111111111",
                  "6": "1",
                  "7": "1",
                  "8": "2019-10-11"
                },
                {
                  "0": "FOT00043264",
                  "1": [
                    "S0000001WOQI"
                  ],
                  "2": "2019-12-02 20:01:47",
                  "3": "2019-12-04 13:36:00",
                  "4": "0",
                  "5": "41.570277777777775",
                  "6": "1",
                  "7": "1",
                  "8": "2019-12-04"
                },
                {
                  "0": "FOT00044599",
                  "1": [
                    "S0000007ON7J"
                  ],
                  "2": "2021-11-05 21:08:07",
                  "3": "2021-11-08 10:52:31",
                  "4": "0",
                  "5": "61.74",
                  "6": "1",
                  "7": "1",
                  "8": "2021-11-08"
                },
                {
                  "0": "FOT00044850",
                  "1": [
                    "S0000007M1ZO"
                  ],
                  "2": "2021-11-02 20:21:02",
                  "3": "2021-11-03 11:01:34",
                  "4": "0",
                  "5": "14.675555555555556",
                  "6": "1",
                  "7": "1",
                  "8": "2021-11-03"
                },
                {
                  "0": "FOT00045084",
                  "1": [
                    "S0000007AJ3F"
                  ],
                  "2": "2021-10-12 07:26:44",
                  "3": "2021-10-18 09:21:26",
                  "4": "0",
                  "5": "145.91166666666666",
                  "6": "1",
                  "7": "1",
                  "8": "2021-10-18"
                },
                {
                  "0": "FOT00045431",
                  "1": [
                    "S000000861BS",
                    "S000000861BS"
                  ],
                  "2": "2021-12-21 08:23:50",
                  "3": "2021-12-28 07:36:01",
                  "4": "0",
                  "5": "167.20305555555555",
                  "6": "2",
                  "7": "2",
                  "8": "2021-12-28"
                },
                {
                  "0": "FOT00046106",
                  "1": [
                    "S0000008G5WW"
                  ],
                  "2": "2022-01-31 22:08:35",
                  "3": "2022-02-01 07:57:19",
                  "4": "0",
                  "5": "9.812222222222223",
                  "6": "1",
                  "7": "1",
                  "8": "2022-02-01"
                },
                {
                  "0": "FOT00046111",
                  "1": [
                    "S0000008FS3C"
                  ],
                  "2": "2022-01-28 13:50:34",
                  "3": "2022-01-28 14:51:05",
                  "4": "0",
                  "5": "1.0086111111111111",
                  "6": "1",
                  "7": "1",
                  "8": "2022-01-28"
                },
                {
                  "0": "FOT00046802",
                  "1": [
                    "S0000006KXRJ"
                  ],
                  "2": "2021-08-16 17:04:55",
                  "3": "2021-08-18 08:17:59",
                  "4": "0",
                  "5": "39.217777777777776",
                  "6": "1",
                  "7": "1",
                  "8": "2021-08-18"
                },
                {
                  "0": "FOT00046871",
                  "1": [
                    "S0000001F3PB"
                  ],
                  "2": "2019-08-07 16:33:39",
                  "3": "2019-08-14 09:03:06",
                  "4": "0",
                  "5": "160.49083333333334",
                  "6": "1",
                  "7": "1",
                  "8": "2019-08-14"
                },
                {
                  "0": "FOT00047369",
                  "1": [
                    "S0000002OZWL"
                  ],
                  "2": "2020-07-22 16:56:17",
                  "3": "2020-07-24 09:16:47",
                  "4": "0",
                  "5": "40.34166666666667",
                  "6": "1",
                  "7": "1",
                  "8": "2020-07-24"
                },
                {
                  "0": "FOT00048431",
                  "1": [
                    "S0000001G9FG"
                  ],
                  "2": "2019-08-14 22:12:31",
                  "3": "2019-08-15 09:40:00",
                  "4": "0",
                  "5": "11.458055555555555",
                  "6": "1",
                  "7": "1",
                  "8": "2019-08-15"
                },
                {
                  "0": "FOT00049605",
                  "1": [
                    "S00000038SDN"
                  ],
                  "2": "2020-10-01 19:25:29",
                  "3": "2020-10-02 17:33:13",
                  "4": "0",
                  "5": "22.128888888888888",
                  "6": "1",
                  "7": "1",
                  "8": "2020-10-02"
                },
                {
                  "0": "FOT00061634",
                  "1": [
                    "S0000008WYDI"
                  ],
                  "2": "2022-03-10 00:13:32",
                  "3": "2022-03-10 06:25:21",
                  "4": "0",
                  "5": "6.196944444444444",
                  "6": "1",
                  "7": "1",
                  "8": "2022-03-10"
                },
                {
                  "0": "FOT00061766",
                  "1": [
                    "S00000091S3B"
                  ],
                  "2": "2022-03-18 21:56:53",
                  "3": "2022-03-22 10:12:10",
                  "4": "48",
                  "5": "36.25472222222223",
                  "6": "1",
                  "7": "1",
                  "8": "2022-03-22"
                },
                {
                  "0": "FOT00062237",
                  "1": [
                    "S0000009FSRE"
                  ],
                  "2": "2022-04-14 13:12:38",
                  "3": "2022-04-19 12:45:34",
                  "4": "96",
                  "5": "23.548888888888882",
                  "6": "1",
                  "7": "1",
                  "8": "2022-04-19"
                },
                {
                  "0": "FOT00062410",
                  "1": [
                    "S0000008TR9V"
                  ],
                  "2": "2022-03-02 13:57:24",
                  "3": "2022-03-03 07:45:53",
                  "4": "0",
                  "5": "17.808055555555555",
                  "6": "1",
                  "7": "1",
                  "8": "2022-03-03"
                },
                {
                  "0": "FOT00062942",
                  "1": [
                    "S00000057OSG"
                  ],
                  "2": "2021-04-28 13:56:48",
                  "3": "2021-05-03 10:10:31",
                  "4": "0",
                  "5": "116.2286111111111",
                  "6": "1",
                  "7": "1",
                  "8": "2021-05-03"
                },
                {
                  "0": "FOT00063165",
                  "1": [
                    "S00000050BGQ"
                  ],
                  "2": "2021-04-09 21:08:29",
                  "3": "2021-04-12 11:15:13",
                  "4": "0",
                  "5": "62.11222222222222",
                  "6": "1",
                  "7": "1",
                  "8": "2021-04-12"
                },
                {
                  "0": "FOT00063695",
                  "1": [
                    "S0000004TTPC"
                  ],
                  "2": "2021-03-25 21:04:06",
                  "3": "2021-03-26 11:32:37",
                  "4": "0",
                  "5": "14.475277777777778",
                  "6": "1",
                  "7": "1",
                  "8": "2021-03-26"
                },
                {
                  "0": "FOT00063985",
                  "1": [
                    "S0000004SGLI"
                  ],
                  "2": "2021-03-23 22:02:17",
                  "3": "2021-03-24 08:26:37",
                  "4": "0",
                  "5": "10.405555555555555",
                  "6": "1",
                  "7": "1",
                  "8": "2021-03-24"
                },
                {
                  "0": "FOT00064001",
                  "1": [
                    "S0000004R55P"
                  ],
                  "2": "2021-03-20 13:29:23",
                  "3": "2021-03-22 11:16:02",
                  "4": "0",
                  "5": "45.7775",
                  "6": "1",
                  "7": "1",
                  "8": "2021-03-22"
                },
                {
                  "0": "FOT00064294",
                  "1": [
                    "S0000006RYX0"
                  ],
                  "2": "2021-09-02 13:19:01",
                  "3": "2021-09-06 09:32:18",
                  "4": "0",
                  "5": "92.2213888888889",
                  "6": "1",
                  "7": "1",
                  "8": "2021-09-06"
                },
                {
                  "0": "FOT00064526",
                  "1": [
                    "S0000006S257"
                  ],
                  "2": "2021-09-02 20:01:59",
                  "3": "2021-09-07 13:50:56",
                  "4": "0",
                  "5": "113.81583333333333",
                  "6": "1",
                  "7": "1",
                  "8": "2021-09-07"
                },
                {
                  "0": "FOT00064542",
                  "1": [
                    "S0000006QENB"
                  ],
                  "2": "2021-08-31 08:29:37",
                  "3": "2021-09-01 15:17:20",
                  "4": "0",
                  "5": "30.795277777777777",
                  "6": "1",
                  "7": "1",
                  "8": "2021-09-01"
                },
                {
                  "0": "FOT00064580",
                  "1": [
                    "S0000008WDTA"
                  ],
                  "2": "2022-03-08 20:26:39",
                  "3": "2022-03-09 06:32:44",
                  "4": "0",
                  "5": "10.10138888888889",
                  "6": "1",
                  "7": "1",
                  "8": "2022-03-09"
                },
                {
                  "0": "FOT00065308",
                  "1": [
                    "S000000660V1"
                  ],
                  "2": "2021-07-12 22:22:18",
                  "3": "2021-07-13 19:01:53",
                  "4": "0",
                  "5": "20.65972222222222",
                  "6": "1",
                  "7": "1",
                  "8": "2021-07-13"
                },
                {
                  "0": "FOT00065488",
                  "1": [
                    "S0000006KSUL"
                  ],
                  "2": "2021-08-16 10:05:59",
                  "3": "2021-08-17 11:25:46",
                  "4": "0",
                  "5": "25.329722222222223",
                  "6": "1",
                  "7": "1",
                  "8": "2021-08-17"
                },
                {
                  "0": "FOT00065598",
                  "1": [
                    "S0000006OQE7"
                  ],
                  "2": "2021-08-26 12:17:27",
                  "3": "2021-08-27 13:34:50",
                  "4": "0",
                  "5": "25.289722222222224",
                  "6": "1",
                  "7": "1",
                  "8": "2021-08-27"
                },
                {
                  "0": "FOT00065616",
                  "1": [
                    "S0000006AXQ6"
                  ],
                  "2": "2021-07-22 07:18:27",
                  "3": "2021-07-23 10:47:53",
                  "4": "0",
                  "5": "27.490555555555556",
                  "6": "1",
                  "7": "1",
                  "8": "2021-07-23"
                },
                {
                  "0": "FOT00069326",
                  "1": [
                    "S000000491MH"
                  ],
                  "2": "2021-02-03 13:34:53",
                  "3": "2021-02-04 13:48:12",
                  "4": "0",
                  "5": "24.221944444444443",
                  "6": "1",
                  "7": "1",
                  "8": "2021-02-04"
                },
                {
                  "0": "FOT00069423",
                  "1": [
                    "S0000002V61E"
                  ],
                  "2": "2020-08-25 10:26:46",
                  "3": "2020-08-27 07:00:20",
                  "4": "0",
                  "5": "44.559444444444445",
                  "6": "1",
                  "7": "1",
                  "8": "2020-08-27"
                },
                {
                  "0": "FOT00069516",
                  "1": [
                    "S00000045W93"
                  ],
                  "2": "2021-01-22 12:42:38",
                  "3": "2021-01-28 08:06:05",
                  "4": "0",
                  "5": "139.39083333333335",
                  "6": "1",
                  "7": "1",
                  "8": "2021-01-28"
                },
                {
                  "0": "FOT00069590",
                  "1": [
                    "S0000002WM7Z"
                  ],
                  "2": "2020-08-29 13:59:13",
                  "3": "2020-08-31 17:30:53",
                  "4": "0",
                  "5": "51.52777777777778",
                  "6": "1",
                  "7": "1",
                  "8": "2020-08-31"
                },
                {
                  "0": "FOT00069771",
                  "1": [
                    "S0000004FMOF"
                  ],
                  "2": "2021-02-23 13:36:59",
                  "3": "2021-02-24 14:59:33",
                  "4": "0",
                  "5": "25.37611111111111",
                  "6": "1",
                  "7": "1",
                  "8": "2021-02-24"
                },
                {
                  "0": "FOT00069855",
                  "1": [
                    "S0000006PME2",
                    "S0000006PME2"
                  ],
                  "2": "2021-08-27 21:22:48",
                  "3": "2021-09-01 15:17:02",
                  "4": "0",
                  "5": "113.90388888888889",
                  "6": "2",
                  "7": "2",
                  "8": "2021-09-01"
                },
                {
                  "0": "FOT00070345",
                  "1": [
                    "S0000003Q9YV"
                  ],
                  "2": "2020-11-11 20:12:04",
                  "3": "2020-11-12 10:15:48",
                  "4": "0",
                  "5": "14.062222222222223",
                  "6": "1",
                  "7": "1",
                  "8": "2020-11-12"
                },
                {
                  "0": "FOT00070495",
                  "1": [
                    "S00000037IG1"
                  ],
                  "2": "2020-09-29 14:00:27",
                  "3": "2020-09-29 16:39:06",
                  "4": "0",
                  "5": "2.6441666666666666",
                  "6": "1",
                  "7": "1",
                  "8": "2020-09-29"
                },
                {
                  "0": "FOT00070657",
                  "1": [
                    "S0000003BDO5"
                  ],
                  "2": "2020-10-07 22:03:03",
                  "3": "2020-10-09 08:30:13",
                  "4": "0",
                  "5": "34.452777777777776",
                  "6": "1",
                  "7": "1",
                  "8": "2020-10-09"
                },
                {
                  "0": "FOT00071101",
                  "1": [
                    "S00000047YK0"
                  ],
                  "2": "2021-02-01 13:39:53",
                  "3": "2021-02-02 09:51:33",
                  "4": "0",
                  "5": "20.194444444444443",
                  "6": "1",
                  "7": "1",
                  "8": "2021-02-02"
                },
                {
                  "0": "FOT00071112",
                  "1": [
                    "S00000047VNI"
                  ],
                  "2": "2021-02-01 13:37:55",
                  "3": "2021-02-02 09:51:39",
                  "4": "0",
                  "5": "20.22888888888889",
                  "6": "1",
                  "7": "1",
                  "8": "2021-02-02"
                },
                {
                  "0": "FOT00071234",
                  "1": [
                    "S0000003LVQS"
                  ],
                  "2": "2020-10-31 13:43:35",
                  "3": "2020-11-02 14:08:23",
                  "4": "0",
                  "5": "48.413333333333334",
                  "6": "1",
                  "7": "1",
                  "8": "2020-11-02"
                },
                {
                  "0": "FOT00071572",
                  "1": [
                    "S0000004DZCN"
                  ],
                  "2": "2021-02-18 13:46:52",
                  "3": "2021-02-22 10:48:47",
                  "4": "0",
                  "5": "93.03194444444445",
                  "6": "1",
                  "7": "1",
                  "8": "2021-02-22"
                },
                {
                  "0": "FOT00071601",
                  "1": [
                    "S00000049L86"
                  ],
                  "2": "2021-02-04 21:54:34",
                  "3": "2021-02-08 09:44:23",
                  "4": "0",
                  "5": "83.83027777777778",
                  "6": "1",
                  "7": "1",
                  "8": "2021-02-08"
                },
                {
                  "0": "L0000000H12Y",
                  "1": [
                    "00390078710128380801"
                  ],
                  "2": "2019-10-17 06:10:42",
                  "3": "2019-10-21 10:30:28",
                  "4": "0",
                  "5": "100.32944444444445",
                  "6": "1",
                  "7": "1",
                  "8": "2019-10-21"
                },
                {
                  "0": "L0000000T8K3",
                  "1": [
                    "00390078720586343300"
                  ],
                  "2": "2020-07-14 22:25:34",
                  "3": "2020-07-24 13:45:44",
                  "4": "0",
                  "5": "231.3361111111111",
                  "6": "1",
                  "7": "1",
                  "8": "2020-07-24"
                },
                {
                  "0": "L0000001G469",
                  "1": [
                    "00390078720596699725"
                  ],
                  "2": "2021-09-30 10:03:35",
                  "3": "2021-10-01 13:57:08",
                  "4": "0",
                  "5": "27.8925",
                  "6": "1",
                  "7": "1",
                  "8": "2021-10-01"
                },
                {
                  "0": "L0000001H7Q3",
                  "1": [
                    "00390078720597797314"
                  ],
                  "2": "2021-10-20 22:10:35",
                  "3": "2021-10-22 11:25:54",
                  "4": "0",
                  "5": "37.25527777777778",
                  "6": "1",
                  "7": "1",
                  "8": "2021-10-22"
                },
                {
                  "0": "L0000001Q9WU",
                  "1": [
                    "00390078720602775443"
                  ],
                  "2": "2022-04-05 22:41:53",
                  "3": "2022-04-07 08:05:25",
                  "4": "0",
                  "5": "33.39222222222222",
                  "6": "1",
                  "7": "1",
                  "8": "2022-04-07"
                },
                {
                  "0": "FOT00004418",
                  "1": [
                    "S0000009BNWE"
                  ],
                  "2": "2022-04-06 22:06:05",
                  "3": "2022-04-07 12:05:39",
                  "4": "0",
                  "5": "13.992777777777778",
                  "6": "1",
                  "7": "1",
                  "8": "2022-04-07"
                },
                {
                  "0": "FOT00020856",
                  "1": [
                    "S0000002NVDP"
                  ],
                  "2": "2020-07-14 09:36:38",
                  "3": "2020-08-03 15:28:39",
                  "4": "0",
                  "5": "485.86694444444447",
                  "6": "1",
                  "7": "1",
                  "8": "2020-08-03"
                },
                {
                  "0": "FOT00037591",
                  "1": [
                    "S0000002FU4E"
                  ],
                  "2": "2020-05-14 08:55:10",
                  "3": "2020-05-15 14:59:38",
                  "4": "0",
                  "5": "30.074444444444445",
                  "6": "1",
                  "7": "1",
                  "8": "2020-05-15"
                },
                {
                  "0": "FOT00037930",
                  "1": [
                    "S0000002P8EC"
                  ],
                  "2": "2020-07-23 13:24:56",
                  "3": "2020-07-24 10:17:27",
                  "4": "0",
                  "5": "20.87527777777778",
                  "6": "1",
                  "7": "1",
                  "8": "2020-07-24"
                },
                {
                  "0": "FOT00038598",
                  "1": [
                    "S0000002RJSJ"
                  ],
                  "2": "2020-08-06 21:00:01",
                  "3": "2020-08-07 10:03:11",
                  "4": "0",
                  "5": "13.052777777777777",
                  "6": "1",
                  "7": "1",
                  "8": "2020-08-07"
                },
                {
                  "0": "FOT00038750",
                  "1": [
                    "S000000283QX"
                  ],
                  "2": "2020-02-28 22:02:06",
                  "3": "2020-03-02 09:13:14",
                  "4": "0",
                  "5": "59.18555555555555",
                  "6": "1",
                  "7": "1",
                  "8": "2020-03-02"
                },
                {
                  "0": "FOT00039146",
                  "1": [
                    "S00000052LP7",
                    "S00000052LP7"
                  ],
                  "2": "2021-04-14 21:24:26",
                  "3": "2021-04-15 13:44:41",
                  "4": "0",
                  "5": "16.3375",
                  "6": "2",
                  "7": "2",
                  "8": "2021-04-15"
                },
                {
                  "0": "FOT00039414",
                  "1": [
                    "S0000002TPYK"
                  ],
                  "2": "2020-08-20 19:52:37",
                  "3": "2020-08-21 10:47:37",
                  "4": "0",
                  "5": "14.916666666666666",
                  "6": "1",
                  "7": "1",
                  "8": "2020-08-21"
                },
                {
                  "0": "FOT00042410",
                  "1": [
                    "S0000002BHFE"
                  ],
                  "2": "2020-03-18 18:53:29",
                  "3": "2020-04-02 12:37:37",
                  "4": "0",
                  "5": "353.73555555555555",
                  "6": "1",
                  "7": "1",
                  "8": "2020-04-02"
                },
                {
                  "0": "FOT00042502",
                  "1": [
                    "S0000002LCIF"
                  ],
                  "2": "2020-06-24 17:56:38",
                  "3": "2020-07-10 10:20:25",
                  "4": "0",
                  "5": "376.3963888888889",
                  "6": "1",
                  "7": "1",
                  "8": "2020-07-10"
                },
                {
                  "0": "FOT00043829",
                  "1": [
                    "S000000259UO"
                  ],
                  "2": "2020-02-12 22:17:51",
                  "3": "2020-02-13 09:51:55",
                  "4": "0",
                  "5": "11.567777777777778",
                  "6": "1",
                  "7": "1",
                  "8": "2020-02-13"
                },
                {
                  "0": "FOT00044084",
                  "1": [
                    "S0000009GRU7"
                  ],
                  "2": "2022-04-19 22:15:26",
                  "3": "2022-04-20 08:58:12",
                  "4": "0",
                  "5": "10.712777777777777",
                  "6": "1",
                  "7": "1",
                  "8": "2022-04-20"
                },
                {
                  "0": "FOT00044325",
                  "1": [
                    "S00000070QN5"
                  ],
                  "2": "2021-09-22 22:11:59",
                  "3": "2021-09-23 09:35:46",
                  "4": "0",
                  "5": "11.39638888888889",
                  "6": "1",
                  "7": "1",
                  "8": "2021-09-23"
                },
                {
                  "0": "FOT00044998",
                  "1": [
                    "S00000085CH7"
                  ],
                  "2": "2021-12-17 21:30:17",
                  "3": "2021-12-20 13:01:11",
                  "4": "0",
                  "5": "63.515",
                  "6": "1",
                  "7": "1",
                  "8": "2021-12-20"
                },
                {
                  "0": "FOT00045921",
                  "1": [
                    "S0000008ZMDL"
                  ],
                  "2": "2022-03-15 12:18:07",
                  "3": "2022-03-16 08:15:17",
                  "4": "0",
                  "5": "19.95277777777778",
                  "6": "1",
                  "7": "1",
                  "8": "2022-03-16"
                },
                {
                  "0": "FOT00046804",
                  "1": [
                    "S0000007TF90"
                  ],
                  "2": "2021-11-16 13:30:24",
                  "3": "2021-11-19 11:29:50",
                  "4": "0",
                  "5": "69.99055555555556",
                  "6": "1",
                  "7": "1",
                  "8": "2021-11-19"
                },
                {
                  "0": "FOT00048281",
                  "1": [
                    "S00000025VKJ"
                  ],
                  "2": "2020-02-17 17:53:04",
                  "3": "2020-02-18 15:22:00",
                  "4": "0",
                  "5": "21.482222222222223",
                  "6": "1",
                  "7": "1",
                  "8": "2020-02-18"
                },
                {
                  "0": "FOT00061624",
                  "1": [
                    "S0000008X3K4"
                  ],
                  "2": "2022-03-10 00:14:08",
                  "3": "2022-03-10 06:26:36",
                  "4": "0",
                  "5": "6.207777777777777",
                  "6": "1",
                  "7": "1",
                  "8": "2022-03-10"
                },
                {
                  "0": "FOT00062051",
                  "1": [
                    "S0000008HZM8"
                  ],
                  "2": "2022-02-07 14:02:16",
                  "3": "2022-02-08 08:09:03",
                  "4": "0",
                  "5": "18.113055555555555",
                  "6": "1",
                  "7": "1",
                  "8": "2022-02-08"
                },
                {
                  "0": "FOT00063712",
                  "1": [
                    "S0000004TVMC"
                  ],
                  "2": "2021-03-25 21:03:49",
                  "3": "2021-03-26 11:53:25",
                  "4": "0",
                  "5": "14.826666666666666",
                  "6": "1",
                  "7": "1",
                  "8": "2021-03-26"
                },
                {
                  "0": "FOT00063829",
                  "1": [
                    "S0000004PRTL"
                  ],
                  "2": "2021-03-17 16:03:41",
                  "3": "2021-03-19 06:22:06",
                  "4": "0",
                  "5": "38.30694444444445",
                  "6": "1",
                  "7": "1",
                  "8": "2021-03-19"
                },
                {
                  "0": "FOT00064445",
                  "1": [
                    "S0000006UQVK"
                  ],
                  "2": "2021-09-08 22:11:20",
                  "3": "2021-09-10 09:58:12",
                  "4": "0",
                  "5": "35.78111111111111",
                  "6": "1",
                  "7": "1",
                  "8": "2021-09-10"
                },
                {
                  "0": "FOT00064913",
                  "1": [
                    "S0000006Q8F7"
                  ],
                  "2": "2021-08-30 21:58:48",
                  "3": "2021-09-07 07:33:59",
                  "4": "0",
                  "5": "177.58638888888888",
                  "6": "1",
                  "7": "1",
                  "8": "2021-09-07"
                },
                {
                  "0": "FOT00069974",
                  "1": [
                    "S0000004BL0A"
                  ],
                  "2": "2021-02-11 13:43:29",
                  "3": "2021-02-15 10:45:17",
                  "4": "0",
                  "5": "93.03",
                  "6": "1",
                  "7": "1",
                  "8": "2021-02-15"
                },
                {
                  "0": "FOT00070228",
                  "1": [
                    "S0000003LBXT"
                  ],
                  "2": "2020-10-30 13:10:13",
                  "3": "2020-11-02 15:10:43",
                  "4": "0",
                  "5": "74.00833333333334",
                  "6": "1",
                  "7": "1",
                  "8": "2020-11-02"
                },
                {
                  "0": "FOT00070658",
                  "1": [
                    "S00000047GOD"
                  ],
                  "2": "2021-01-28 20:45:15",
                  "3": "2021-01-29 11:56:19",
                  "4": "0",
                  "5": "15.184444444444445",
                  "6": "1",
                  "7": "1",
                  "8": "2021-01-29"
                },
                {
                  "0": "FOT00070979",
                  "1": [
                    "S0000003S1PP"
                  ],
                  "2": "2020-11-18 21:30:43",
                  "3": "2020-11-24 10:40:14",
                  "4": "0",
                  "5": "133.1586111111111",
                  "6": "1",
                  "7": "1",
                  "8": "2020-11-24"
                },
                {
                  "0": "FOT00071105",
                  "1": [
                    "S00000047X9E"
                  ],
                  "2": "2021-02-01 13:38:46",
                  "3": "2021-02-02 09:51:55",
                  "4": "0",
                  "5": "20.219166666666666",
                  "6": "1",
                  "7": "1",
                  "8": "2021-02-02"
                },
                {
                  "0": "L0000000DUP3",
                  "1": [
                    "00390078710127648094"
                  ],
                  "2": "2019-08-20 07:05:22",
                  "3": "2019-08-21 10:21:53",
                  "4": "0",
                  "5": "27.275277777777777",
                  "6": "1",
                  "7": "1",
                  "8": "2019-08-21"
                },
                {
                  "0": "L0000000DX0R",
                  "1": [
                    "00390078710127808580"
                  ],
                  "2": "2019-08-20 07:04:40",
                  "3": "2019-08-21 10:18:22",
                  "4": "0",
                  "5": "27.22833333333333",
                  "6": "1",
                  "7": "1",
                  "8": "2019-08-21"
                },
                {
                  "0": "L0000000EJ7S",
                  "1": [
                    "00390078710127620229"
                  ],
                  "2": "2019-08-31 09:49:41",
                  "3": "2019-09-03 08:49:48",
                  "4": "0",
                  "5": "71.00194444444445",
                  "6": "1",
                  "7": "1",
                  "8": "2019-09-03"
                },
                {
                  "0": "L0000000FDL0",
                  "1": [
                    "00390078720578517856"
                  ],
                  "2": "2019-09-13 22:05:04",
                  "3": "2019-09-17 11:18:46",
                  "4": "0",
                  "5": "85.22833333333334",
                  "6": "1",
                  "7": "1",
                  "8": "2019-09-17"
                },
                {
                  "0": "L0000000MRPI",
                  "1": [
                    "00390078720581634410"
                  ],
                  "2": "2020-02-04 22:11:54",
                  "3": "2020-02-07 11:27:24",
                  "4": "0",
                  "5": "61.25833333333333",
                  "6": "1",
                  "7": "1",
                  "8": "2020-02-07"
                },
                {
                  "0": "L0000001ECTB",
                  "1": [
                    "00390078710138131417"
                  ],
                  "2": "2021-09-07 07:18:55",
                  "3": "2021-09-09 07:10:51",
                  "4": "0",
                  "5": "47.86555555555555",
                  "6": "1",
                  "7": "1",
                  "8": "2021-09-09"
                },
                {
                  "0": "L0000001PM8Z",
                  "1": [
                    "00390078720600928520"
                  ],
                  "2": "2022-03-21 22:17:44",
                  "3": "2022-03-23 09:40:57",
                  "4": "0",
                  "5": "35.386944444444445",
                  "6": "1",
                  "7": "1",
                  "8": "2022-03-23"
                },
                {
                  "0": "FOT00004149",
                  "1": [
                    "S00000091S8V"
                  ],
                  "2": "2022-03-18 21:56:58",
                  "3": "2022-03-22 10:12:03",
                  "4": "48",
                  "5": "36.25138888888888",
                  "6": "1",
                  "7": "1",
                  "8": "2022-03-22"
                },
                {
                  "0": "FOT00004739",
                  "1": [
                    "S0000009AIXO"
                  ],
                  "2": "2022-04-04 22:12:43",
                  "3": "2022-04-05 10:14:06",
                  "4": "0",
                  "5": "12.023055555555555",
                  "6": "1",
                  "7": "1",
                  "8": "2022-04-05"
                },
                {
                  "0": "FOT00012500",
                  "1": [
                    "S00000089UIC"
                  ],
                  "2": "2022-01-10 21:39:59",
                  "3": "2022-01-12 07:18:32",
                  "4": "0",
                  "5": "33.6425",
                  "6": "1",
                  "7": "1",
                  "8": "2022-01-12"
                },
                {
                  "0": "FOT00037347",
                  "1": [
                    "S0000002I4ZR"
                  ],
                  "2": "2020-06-03 17:43:31",
                  "3": "2020-06-05 14:36:22",
                  "4": "0",
                  "5": "44.880833333333335",
                  "6": "1",
                  "7": "1",
                  "8": "2020-06-05"
                },
                {
                  "0": "FOT00038096",
                  "1": [
                    "S0000002NKHU"
                  ],
                  "2": "2020-07-11 13:47:22",
                  "3": "2020-07-17 10:42:56",
                  "4": "0",
                  "5": "140.9261111111111",
                  "6": "1",
                  "7": "1",
                  "8": "2020-07-17"
                },
                {
                  "0": "FOT00038721",
                  "1": [
                    "S0000002A4RZ"
                  ],
                  "2": "2020-03-10 21:56:49",
                  "3": "2020-03-11 12:59:03",
                  "4": "0",
                  "5": "15.037222222222223",
                  "6": "1",
                  "7": "1",
                  "8": "2020-03-11"
                },
                {
                  "0": "FOT00038774",
                  "1": [
                    "S00000046844"
                  ],
                  "2": "2021-01-25 06:19:39",
                  "3": "2021-01-29 10:12:24",
                  "4": "0",
                  "5": "99.87916666666666",
                  "6": "1",
                  "7": "1",
                  "8": "2021-01-29"
                },
                {
                  "0": "FOT00039336",
                  "1": [
                    "S0000002OIOE"
                  ],
                  "2": "2020-07-18 07:53:51",
                  "3": "2020-07-20 14:11:17",
                  "4": "0",
                  "5": "54.29055555555556",
                  "6": "1",
                  "7": "1",
                  "8": "2020-07-20"
                },
                {
                  "0": "FOT00041716",
                  "1": [
                    "S0000004VUZ5"
                  ],
                  "2": "2021-03-30 22:01:57",
                  "3": "2021-03-31 11:26:54",
                  "4": "0",
                  "5": "13.415833333333333",
                  "6": "1",
                  "7": "1",
                  "8": "2021-03-31"
                },
                {
                  "0": "FOT00041951",
                  "1": [
                    "S000000529WD"
                  ],
                  "2": "2021-04-14 13:39:30",
                  "3": "2021-04-15 11:18:17",
                  "4": "0",
                  "5": "21.64638888888889",
                  "6": "1",
                  "7": "1",
                  "8": "2021-04-15"
                },
                {
                  "0": "FOT00042598",
                  "1": [
                    "S000000221E0"
                  ],
                  "2": "2020-01-25 13:48:44",
                  "3": "2020-01-28 15:19:48",
                  "4": "0",
                  "5": "73.51777777777778",
                  "6": "1",
                  "7": "1",
                  "8": "2020-01-28"
                },
                {
                  "0": "FOT00042839",
                  "1": [
                    "S00000023BLM"
                  ],
                  "2": "2020-02-03 20:16:21",
                  "3": "2020-02-04 11:47:17",
                  "4": "0",
                  "5": "15.515555555555556",
                  "6": "1",
                  "7": "1",
                  "8": "2020-02-04"
                },
                {
                  "0": "FOT00043088",
                  "1": [
                    "S0000002BMBR"
                  ],
                  "2": "2020-03-19 17:51:48",
                  "3": "2020-03-24 14:26:23",
                  "4": "0",
                  "5": "116.57638888888889",
                  "6": "1",
                  "7": "1",
                  "8": "2020-03-24"
                },
                {
                  "0": "FOT00043131",
                  "1": [
                    "S0000002L0PF"
                  ],
                  "2": "2020-06-18 21:45:58",
                  "3": "2020-06-19 13:01:38",
                  "4": "0",
                  "5": "15.261111111111111",
                  "6": "1",
                  "7": "1",
                  "8": "2020-06-19"
                },
                {
                  "0": "FOT00043581",
                  "1": [
                    "S00000020ZKK"
                  ],
                  "2": "2020-01-20 13:31:16",
                  "3": "2020-01-21 18:54:22",
                  "4": "0",
                  "5": "29.385",
                  "6": "1",
                  "7": "1",
                  "8": "2020-01-21"
                },
                {
                  "0": "FOT00043901",
                  "1": [
                    "S0000001ZIPK"
                  ],
                  "2": "2020-01-09 17:08:10",
                  "3": "2020-01-13 08:28:49",
                  "4": "0",
                  "5": "87.34416666666667",
                  "6": "1",
                  "7": "1",
                  "8": "2020-01-13"
                },
                {
                  "0": "FOT00044752",
                  "1": [
                    "S00000079Z5T"
                  ],
                  "2": "2021-10-09 11:29:58",
                  "3": "2021-10-14 12:12:47",
                  "4": "0",
                  "5": "120.7136111111111",
                  "6": "1",
                  "7": "1",
                  "8": "2021-10-14"
                },
                {
                  "0": "FOT00044996",
                  "1": [
                    "S0000008G104"
                  ],
                  "2": "2022-01-31 07:52:12",
                  "3": "2022-01-31 08:52:55",
                  "4": "0",
                  "5": "1.0119444444444445",
                  "6": "1",
                  "7": "1",
                  "8": "2022-01-31"
                },
                {
                  "0": "FOT00048349",
                  "1": [
                    "S0000001CRVX"
                  ],
                  "2": "2019-07-29 22:08:43",
                  "3": "2019-08-01 12:57:00",
                  "4": "0",
                  "5": "62.804722222222225",
                  "6": "1",
                  "7": "1",
                  "8": "2019-08-01"
                },
                {
                  "0": "FOT00061781",
                  "1": [
                    "S00000092MTG"
                  ],
                  "2": "2022-03-21 22:11:17",
                  "3": "2022-03-23 13:35:17",
                  "4": "0",
                  "5": "39.4",
                  "6": "1",
                  "7": "1",
                  "8": "2022-03-23"
                },
                {
                  "0": "FOT00062032",
                  "1": [
                    "S00000091RIC",
                    "S00000091RIC"
                  ],
                  "2": "2022-03-18 21:56:33",
                  "3": "2022-03-22 10:12:06",
                  "4": "48",
                  "5": "36.25916666666667",
                  "6": "2",
                  "7": "2",
                  "8": "2022-03-22"
                },
                {
                  "0": "FOT00062810",
                  "1": [
                    "S0000005053R",
                    "S0000005053R"
                  ],
                  "2": "2021-04-09 09:48:28",
                  "3": "2021-04-12 11:15:15",
                  "4": "0",
                  "5": "73.44638888888889",
                  "6": "2",
                  "7": "2",
                  "8": "2021-04-12"
                },
                {
                  "0": "FOT00063279",
                  "1": [
                    "S00000067K2S"
                  ],
                  "2": "2021-07-15 07:32:11",
                  "3": "2021-07-20 08:32:01",
                  "4": "0",
                  "5": "120.99722222222222",
                  "6": "1",
                  "7": "1",
                  "8": "2021-07-20"
                },
                {
                  "0": "FOT00063302",
                  "1": [
                    "S00000052Y4Q"
                  ],
                  "2": "2021-04-15 22:05:55",
                  "3": "2021-04-16 08:51:47",
                  "4": "0",
                  "5": "10.764444444444445",
                  "6": "1",
                  "7": "1",
                  "8": "2021-04-16"
                },
                {
                  "0": "FOT00063650",
                  "1": [
                    "S0000008P3C3"
                  ],
                  "2": "2022-02-21 13:51:38",
                  "3": "2022-02-22 10:49:38",
                  "4": "0",
                  "5": "20.966666666666665",
                  "6": "1",
                  "7": "1",
                  "8": "2022-02-22"
                },
                {
                  "0": "FOT00063681",
                  "1": [
                    "S0000004RZWA"
                  ],
                  "2": "2021-03-22 21:34:52",
                  "3": "2021-03-23 09:03:57",
                  "4": "0",
                  "5": "11.484722222222222",
                  "6": "1",
                  "7": "1",
                  "8": "2021-03-23"
                },
                {
                  "0": "FOT00063755",
                  "1": [
                    "S0000006KXKQ"
                  ],
                  "2": "2021-08-16 17:05:19",
                  "3": "2021-08-18 08:18:51",
                  "4": "0",
                  "5": "39.22555555555556",
                  "6": "1",
                  "7": "1",
                  "8": "2021-08-18"
                },
                {
                  "0": "FOT00063807",
                  "1": [
                    "S0000004QTP2"
                  ],
                  "2": "2021-03-19 13:44:40",
                  "3": "2021-03-22 08:01:51",
                  "4": "0",
                  "5": "66.2863888888889",
                  "6": "1",
                  "7": "1",
                  "8": "2021-03-22"
                },
                {
                  "0": "FOT00064456",
                  "1": [
                    "S0000005K6VY"
                  ],
                  "2": "2021-05-25 13:32:49",
                  "3": "2021-05-28 13:19:15",
                  "4": "0",
                  "5": "71.77388888888889",
                  "6": "1",
                  "7": "1",
                  "8": "2021-05-28"
                },
                {
                  "0": "FOT00064823",
                  "1": [
                    "S0000006R132"
                  ],
                  "2": "2021-09-01 07:55:27",
                  "3": "2021-09-03 11:54:18",
                  "4": "0",
                  "5": "51.98083333333334",
                  "6": "1",
                  "7": "1",
                  "8": "2021-09-03"
                },
                {
                  "0": "FOT00069209",
                  "1": [
                    "S000000322NZ"
                  ],
                  "2": "2020-09-14 17:38:32",
                  "3": "2020-09-16 06:47:43",
                  "4": "0",
                  "5": "37.153055555555554",
                  "6": "1",
                  "7": "1",
                  "8": "2020-09-16"
                },
                {
                  "0": "FOT00069223",
                  "1": [
                    "S0000002VPOT"
                  ],
                  "2": "2020-08-26 13:51:36",
                  "3": "2020-09-04 08:14:26",
                  "4": "0",
                  "5": "210.38055555555556",
                  "6": "1",
                  "7": "1",
                  "8": "2020-09-04"
                },
                {
                  "0": "FOT00069443",
                  "1": [
                    "S0000003EA27"
                  ],
                  "2": "2020-10-15 13:26:04",
                  "3": "2020-10-22 09:37:31",
                  "4": "0",
                  "5": "164.19083333333333",
                  "6": "1",
                  "7": "1",
                  "8": "2020-10-22"
                },
                {
                  "0": "FOT00069497",
                  "1": [
                    "S0000002WMT0"
                  ],
                  "2": "2020-08-31 13:35:26",
                  "3": "2020-09-02 07:15:37",
                  "4": "0",
                  "5": "41.66972222222222",
                  "6": "1",
                  "7": "1",
                  "8": "2020-09-02"
                },
                {
                  "0": "FOT00069522",
                  "1": [
                    "S00000043CNH"
                  ],
                  "2": "2021-01-13 22:10:28",
                  "3": "2021-01-14 10:25:38",
                  "4": "0",
                  "5": "12.252777777777778",
                  "6": "1",
                  "7": "1",
                  "8": "2021-01-14"
                },
                {
                  "0": "FOT00069802",
                  "1": [
                    "S000000371PT"
                  ],
                  "2": "2020-09-27 14:03:41",
                  "3": "2020-09-29 16:38:32",
                  "4": "0",
                  "5": "50.58083333333333",
                  "6": "1",
                  "7": "1",
                  "8": "2020-09-29"
                },
                {
                  "0": "FOT00070106",
                  "1": [
                    "S00000044TIO"
                  ],
                  "2": "2021-01-19 13:35:49",
                  "3": "2021-01-20 09:16:26",
                  "4": "0",
                  "5": "19.676944444444445",
                  "6": "1",
                  "7": "1",
                  "8": "2021-01-20"
                },
                {
                  "0": "FOT00070176",
                  "1": [
                    "S000000442OY"
                  ],
                  "2": "2021-01-15 12:18:10",
                  "3": "2021-01-19 11:11:18",
                  "4": "0",
                  "5": "94.88555555555556",
                  "6": "1",
                  "7": "1",
                  "8": "2021-01-19"
                },
                {
                  "0": "FOT00070508",
                  "1": [
                    "S00000034KI4"
                  ],
                  "2": "2020-09-21 13:44:46",
                  "3": "2020-09-22 12:45:58",
                  "4": "0",
                  "5": "23.02",
                  "6": "1",
                  "7": "1",
                  "8": "2020-09-22"
                },
                {
                  "0": "FOT00070944",
                  "1": [
                    "S00000046AN6"
                  ],
                  "2": "2021-01-25 13:30:48",
                  "3": "2021-01-28 08:06:25",
                  "4": "0",
                  "5": "66.59361111111112",
                  "6": "1",
                  "7": "1",
                  "8": "2021-01-28"
                },
                {
                  "0": "FOT00071498",
                  "1": [
                    "S0000004IBIL"
                  ],
                  "2": "2021-03-02 13:41:48",
                  "3": "2021-03-04 06:12:54",
                  "4": "0",
                  "5": "40.51833333333333",
                  "6": "1",
                  "7": "1",
                  "8": "2021-03-04"
                },
                {
                  "0": "FOT00071520",
                  "1": [
                    "S0000004GT6J"
                  ],
                  "2": "2021-02-25 22:09:20",
                  "3": "2021-03-01 07:16:26",
                  "4": "0",
                  "5": "81.11833333333334",
                  "6": "1",
                  "7": "1",
                  "8": "2021-03-01"
                },
                {
                  "0": "L0000000F1EJ",
                  "1": [
                    "00390078710127566954"
                  ],
                  "2": "2019-09-05 19:21:41",
                  "3": "2019-09-10 10:54:22",
                  "4": "0",
                  "5": "111.54472222222222",
                  "6": "1",
                  "7": "1",
                  "8": "2019-09-10"
                },
                {
                  "0": "L0000000F7Z9",
                  "1": [
                    "00390078720578484240"
                  ],
                  "2": "2019-09-16 08:30:17",
                  "3": "2019-09-17 11:21:24",
                  "4": "0",
                  "5": "26.851944444444445",
                  "6": "1",
                  "7": "1",
                  "8": "2019-09-17"
                },
                {
                  "0": "L00000011EID",
                  "1": [
                    "00390078710136063406"
                  ],
                  "2": "2021-02-08 13:38:32",
                  "3": "2021-02-09 13:57:41",
                  "4": "0",
                  "5": "24.319166666666668",
                  "6": "1",
                  "7": "1",
                  "8": "2021-02-09"
                },
                {
                  "0": "L0000001IABI",
                  "1": [
                    "00390078710139134660"
                  ],
                  "2": "2021-11-05 21:53:17",
                  "3": "2021-11-08 10:43:06",
                  "4": "0",
                  "5": "60.83027777777778",
                  "6": "1",
                  "7": "1",
                  "8": "2021-11-08"
                },
                {
                  "0": "FOT00004859",
                  "1": [
                    "S0000009FQ52"
                  ],
                  "2": "2022-04-14 15:59:55",
                  "3": "2022-04-19 09:20:49",
                  "4": "96",
                  "5": "17.34833333333333",
                  "6": "1",
                  "7": "1",
                  "8": "2022-04-19"
                },
                {
                  "0": "FOT00020883",
                  "1": [
                    "S0000001GQMS"
                  ],
                  "2": "2019-08-16 21:42:27",
                  "3": "2019-08-20 11:03:39",
                  "4": "0",
                  "5": "85.35333333333334",
                  "6": "1",
                  "7": "1",
                  "8": "2019-08-20"
                },
                {
                  "0": "FOT00037134",
                  "1": [
                    "S0000002P1QI",
                    "S0000002P1QI"
                  ],
                  "2": "2020-07-22 21:43:10",
                  "3": "2020-08-03 14:07:25",
                  "4": "0",
                  "5": "280.40416666666664",
                  "6": "2",
                  "7": "2",
                  "8": "2020-08-03"
                },
                {
                  "0": "FOT00037284",
                  "1": [
                    "S0000002OQF3"
                  ],
                  "2": "2020-07-20 16:52:34",
                  "3": "2020-07-22 08:59:45",
                  "4": "0",
                  "5": "40.11972222222222",
                  "6": "1",
                  "7": "1",
                  "8": "2020-07-22"
                },
                {
                  "0": "FOT00037356",
                  "1": [
                    "S000000299T4"
                  ],
                  "2": "2020-03-05 16:04:19",
                  "3": "2020-03-06 10:38:12",
                  "4": "0",
                  "5": "18.564722222222223",
                  "6": "1",
                  "7": "1",
                  "8": "2020-03-06"
                },
                {
                  "0": "FOT00037400",
                  "1": [
                    "S0000002OR4Y"
                  ],
                  "2": "2020-07-20 19:35:15",
                  "3": "2020-08-03 15:30:33",
                  "4": "0",
                  "5": "331.9216666666667",
                  "6": "1",
                  "7": "1",
                  "8": "2020-08-03"
                },
                {
                  "0": "FOT00037544",
                  "1": [
                    "S0000002K57A"
                  ],
                  "2": "2020-06-12 13:49:41",
                  "3": "2020-06-19 08:56:13",
                  "4": "0",
                  "5": "163.10888888888888",
                  "6": "1",
                  "7": "1",
                  "8": "2020-06-19"
                },
                {
                  "0": "FOT00037979",
                  "1": [
                    "S0000002LAEI"
                  ],
                  "2": "2020-06-24 11:31:18",
                  "3": "2020-06-26 16:18:08",
                  "4": "0",
                  "5": "52.78055555555556",
                  "6": "1",
                  "7": "1",
                  "8": "2020-06-26"
                },
                {
                  "0": "FOT00038789",
                  "1": [
                    "S0000002ABJQ"
                  ],
                  "2": "2020-03-11 21:52:22",
                  "3": "2020-03-12 10:31:25",
                  "4": "0",
                  "5": "12.650833333333333",
                  "6": "1",
                  "7": "1",
                  "8": "2020-03-12"
                },
                {
                  "0": "FOT00038881",
                  "1": [
                    "S00000029GJ4"
                  ],
                  "2": "2020-03-06 14:00:56",
                  "3": "2020-03-20 14:41:09",
                  "4": "0",
                  "5": "336.67027777777776",
                  "6": "1",
                  "7": "1",
                  "8": "2020-03-20"
                },
                {
                  "0": "FOT00039002",
                  "1": [
                    "S00000027GM7"
                  ],
                  "2": "2020-02-26 14:04:33",
                  "3": "2020-02-28 08:31:10",
                  "4": "0",
                  "5": "42.44361111111111",
                  "6": "1",
                  "7": "1",
                  "8": "2020-02-28"
                },
                {
                  "0": "FOT00042331",
                  "1": [
                    "S0000002BM8U"
                  ],
                  "2": "2020-03-19 17:52:07",
                  "3": "2020-03-24 14:25:47",
                  "4": "0",
                  "5": "116.56111111111112",
                  "6": "1",
                  "7": "1",
                  "8": "2020-03-24"
                },
                {
                  "0": "FOT00042920",
                  "1": [
                    "S0000002SSPG"
                  ],
                  "2": "2020-08-17 11:58:53",
                  "3": "2020-08-19 08:38:52",
                  "4": "0",
                  "5": "44.66638888888889",
                  "6": "1",
                  "7": "1",
                  "8": "2020-08-19"
                },
                {
                  "0": "FOT00043222",
                  "1": [
                    "S0000001TS69"
                  ],
                  "2": "2019-11-11 22:06:25",
                  "3": "2019-11-14 10:52:23",
                  "4": "0",
                  "5": "60.76611111111111",
                  "6": "1",
                  "7": "1",
                  "8": "2019-11-14"
                },
                {
                  "0": "FOT00044342",
                  "1": [
                    "S00000073042"
                  ],
                  "2": "2021-09-25 13:25:20",
                  "3": "2021-09-30 11:40:43",
                  "4": "0",
                  "5": "118.25638888888889",
                  "6": "1",
                  "7": "1",
                  "8": "2021-09-30"
                },
                {
                  "0": "FOT00044888",
                  "1": [
                    "S00000075SGN",
                    "S00000075SGN"
                  ],
                  "2": "2021-10-01 07:13:04",
                  "3": "2021-10-04 09:52:14",
                  "4": "0",
                  "5": "74.65277777777777",
                  "6": "2",
                  "7": "2",
                  "8": "2021-10-04"
                },
                {
                  "0": "FOT00045638",
                  "1": [
                    "S0000007VYUB",
                    "S0000007VYUB"
                  ],
                  "2": "2021-11-22 20:11:22",
                  "3": "2021-11-26 12:41:59",
                  "4": "0",
                  "5": "88.51027777777777",
                  "6": "2",
                  "7": "2",
                  "8": "2021-11-26"
                },
                {
                  "0": "FOT00046676",
                  "1": [
                    "S0000005C494"
                  ],
                  "2": "2021-05-10 12:04:05",
                  "3": "2021-05-12 08:01:08",
                  "4": "0",
                  "5": "43.950833333333335",
                  "6": "1",
                  "7": "1",
                  "8": "2021-05-12"
                },
                {
                  "0": "FOT00048631",
                  "1": [
                    "S0000001D8K6"
                  ],
                  "2": "2019-07-31 10:25:07",
                  "3": "2019-08-01 11:15:46",
                  "4": "0",
                  "5": "24.844166666666666",
                  "6": "1",
                  "7": "1",
                  "8": "2019-08-01"
                },
                {
                  "0": "FOT00061955",
                  "1": [
                    "S0000008TWRB"
                  ],
                  "2": "2022-03-02 18:21:58",
                  "3": "2022-03-03 07:36:40",
                  "4": "0",
                  "5": "13.245",
                  "6": "1",
                  "7": "1",
                  "8": "2022-03-03"
                },
                {
                  "0": "FOT00061991",
                  "1": [
                    "S00000099FZN",
                    "S00000099FZN"
                  ],
                  "2": "2022-04-01 18:10:22",
                  "3": "2022-04-05 07:30:10",
                  "4": "48",
                  "5": "37.33",
                  "6": "2",
                  "7": "2",
                  "8": "2022-04-05"
                },
                {
                  "0": "FOT00062735",
                  "1": [
                    "S0000004YNEG"
                  ],
                  "2": "2021-04-06 22:11:37",
                  "3": "2021-04-07 10:44:04",
                  "4": "0",
                  "5": "12.540833333333333",
                  "6": "1",
                  "7": "1",
                  "8": "2021-04-07"
                },
                {
                  "0": "FOT00063690",
                  "1": [
                    "S0000004TEPO"
                  ],
                  "2": "2021-03-24 20:45:25",
                  "3": "2021-03-25 09:45:13",
                  "4": "0",
                  "5": "12.996666666666666",
                  "6": "1",
                  "7": "1",
                  "8": "2021-03-25"
                },
                {
                  "0": "FOT00063871",
                  "1": [
                    "S0000004UP79"
                  ],
                  "2": "2021-03-26 21:41:53",
                  "3": "2021-03-30 06:30:04",
                  "4": "0",
                  "5": "80.80305555555556",
                  "6": "1",
                  "7": "1",
                  "8": "2021-03-30"
                },
                {
                  "0": "FOT00064937",
                  "1": [
                    "S0000006JC45"
                  ],
                  "2": "2021-08-10 21:35:36",
                  "3": "2021-08-16 13:38:45",
                  "4": "0",
                  "5": "136.0525",
                  "6": "1",
                  "7": "1",
                  "8": "2021-08-16"
                },
                {
                  "0": "FOT00065129",
                  "1": [
                    "S00000062I7R"
                  ],
                  "2": "2021-07-01 12:14:18",
                  "3": "2021-07-08 11:34:27",
                  "4": "0",
                  "5": "167.33583333333334",
                  "6": "1",
                  "7": "1",
                  "8": "2021-07-08"
                },
                {
                  "0": "FOT00065240",
                  "1": [
                    "S0000006UJL4"
                  ],
                  "2": "2021-09-08 22:09:49",
                  "3": "2021-09-09 10:56:05",
                  "4": "0",
                  "5": "12.77111111111111",
                  "6": "1",
                  "7": "1",
                  "8": "2021-09-09"
                },
                {
                  "0": "FOT00065464",
                  "1": [
                    "S0000006DJ3D"
                  ],
                  "2": "2021-07-27 15:30:51",
                  "3": "2021-07-29 13:23:39",
                  "4": "0",
                  "5": "45.88",
                  "6": "1",
                  "7": "1",
                  "8": "2021-07-29"
                },
                {
                  "0": "FOT00069225",
                  "1": [
                    "S0000002VOPK"
                  ],
                  "2": "2020-08-26 12:46:53",
                  "3": "2020-08-28 06:10:22",
                  "4": "0",
                  "5": "41.39138888888889",
                  "6": "1",
                  "7": "1",
                  "8": "2020-08-28"
                },
                {
                  "0": "FOT00069646",
                  "1": [
                    "S00000043GJV"
                  ],
                  "2": "2021-01-13 22:10:38",
                  "3": "2021-01-15 06:55:25",
                  "4": "0",
                  "5": "32.74638888888889",
                  "6": "1",
                  "7": "1",
                  "8": "2021-01-15"
                },
                {
                  "0": "FOT00069741",
                  "1": [
                    "S00000046AZD"
                  ],
                  "2": "2021-01-25 13:33:56",
                  "3": "2021-01-26 09:46:08",
                  "4": "0",
                  "5": "20.203333333333333",
                  "6": "1",
                  "7": "1",
                  "8": "2021-01-26"
                },
                {
                  "0": "FOT00069916",
                  "1": [
                    "S0000003BCV1"
                  ],
                  "2": "2020-10-07 17:19:15",
                  "3": "2020-10-13 10:37:02",
                  "4": "0",
                  "5": "137.29638888888888",
                  "6": "1",
                  "7": "1",
                  "8": "2020-10-13"
                },
                {
                  "0": "FOT00070393",
                  "1": [
                    "S0000003EN8Q"
                  ],
                  "2": "2020-10-16 12:05:03",
                  "3": "2020-10-20 07:10:17",
                  "4": "0",
                  "5": "91.08722222222222",
                  "6": "1",
                  "7": "1",
                  "8": "2020-10-20"
                },
                {
                  "0": "FOT00070953",
                  "1": [
                    "S0000004LVD8"
                  ],
                  "2": "2021-03-09 22:04:32",
                  "3": "2021-03-12 07:55:11",
                  "4": "0",
                  "5": "57.844166666666666",
                  "6": "1",
                  "7": "1",
                  "8": "2021-03-12"
                },
                {
                  "0": "FOT00071098",
                  "1": [
                    "S00000049J0D"
                  ],
                  "2": "2021-02-04 16:39:10",
                  "3": "2021-02-08 09:45:11",
                  "4": "0",
                  "5": "89.10027777777778",
                  "6": "1",
                  "7": "1",
                  "8": "2021-02-08"
                },
                {
                  "0": "L0000000I3OM",
                  "1": [
                    "00390078720580634077"
                  ],
                  "2": "2019-11-12 08:20:01",
                  "3": "2019-11-14 08:07:24",
                  "4": "0",
                  "5": "47.789722222222224",
                  "6": "1",
                  "7": "1",
                  "8": "2019-11-14"
                },
                {
                  "0": "L0000000ORE3",
                  "1": [
                    "00390078720584784525",
                    "00390078720584784525"
                  ],
                  "2": "2020-03-10 17:31:17",
                  "3": "2020-03-11 09:43:02",
                  "4": "0",
                  "5": "16.195833333333333",
                  "6": "2",
                  "7": "2",
                  "8": "2020-03-11"
                },
                {
                  "0": "FOT00003846",
                  "1": [
                    "S0000009GKWT"
                  ],
                  "2": "2022-04-19 12:18:28",
                  "3": "2022-04-20 09:25:00",
                  "4": "0",
                  "5": "21.108888888888888",
                  "6": "1",
                  "7": "1",
                  "8": "2022-04-20"
                },
                {
                  "0": "FOT00004290",
                  "1": [
                    "S0000009GI4S"
                  ],
                  "2": "2022-04-19 10:31:11",
                  "3": "2022-04-20 09:26:13",
                  "4": "0",
                  "5": "22.91722222222222",
                  "6": "1",
                  "7": "1",
                  "8": "2022-04-20"
                },
                {
                  "0": "FOT00037185",
                  "1": [
                    "S0000002AKD5"
                  ],
                  "2": "2020-03-12 22:00:42",
                  "3": "2020-03-16 09:40:48",
                  "4": "0",
                  "5": "83.66833333333334",
                  "6": "1",
                  "7": "1",
                  "8": "2020-03-16"
                },
                {
                  "0": "FOT00037365",
                  "1": [
                    "S0000002BT7N"
                  ],
                  "2": "2020-03-20 19:29:32",
                  "3": "2020-03-24 14:27:09",
                  "4": "0",
                  "5": "90.96027777777778",
                  "6": "1",
                  "7": "1",
                  "8": "2020-03-24"
                },
                {
                  "0": "FOT00038182",
                  "1": [
                    "S0000002ARPT"
                  ],
                  "2": "2020-03-14 12:24:38",
                  "3": "2020-03-17 13:04:28",
                  "4": "0",
                  "5": "72.66388888888889",
                  "6": "1",
                  "7": "1",
                  "8": "2020-03-17"
                },
                {
                  "0": "FOT00039203",
                  "1": [
                    "S0000003YCZW"
                  ],
                  "2": "2020-12-16 22:02:22",
                  "3": "2021-01-05 10:59:11",
                  "4": "0",
                  "5": "468.94694444444445",
                  "6": "1",
                  "7": "1",
                  "8": "2021-01-05"
                },
                {
                  "0": "FOT00039224",
                  "1": [
                    "S0000002FROP"
                  ],
                  "2": "2020-05-13 17:52:14",
                  "3": "2020-05-15 07:43:18",
                  "4": "0",
                  "5": "37.85111111111111",
                  "6": "1",
                  "7": "1",
                  "8": "2020-05-15"
                },
                {
                  "0": "FOT00039965",
                  "1": [
                    "S0000001JHYJ"
                  ],
                  "2": "2019-09-09 20:07:26",
                  "3": "2019-09-20 16:35:04",
                  "4": "0",
                  "5": "260.4605555555556",
                  "6": "1",
                  "7": "1",
                  "8": "2019-09-20"
                },
                {
                  "0": "FOT00041221",
                  "1": [
                    "S0000001BFGR"
                  ],
                  "2": "2019-07-26 20:53:11",
                  "3": "2019-07-30 09:27:51",
                  "4": "0",
                  "5": "84.57777777777778",
                  "6": "1",
                  "7": "1",
                  "8": "2019-07-30"
                },
                {
                  "0": "FOT00043031",
                  "1": [
                    "S0000002SPH3"
                  ],
                  "2": "2020-08-14 22:06:16",
                  "3": "2020-08-18 08:48:51",
                  "4": "0",
                  "5": "82.70972222222223",
                  "6": "1",
                  "7": "1",
                  "8": "2020-08-18"
                },
                {
                  "0": "FOT00043433",
                  "1": [
                    "S00000021C8F"
                  ],
                  "2": "2020-01-22 13:52:55",
                  "3": "2020-01-28 16:48:23",
                  "4": "0",
                  "5": "146.92444444444445",
                  "6": "1",
                  "7": "1",
                  "8": "2020-01-28"
                },
                {
                  "0": "FOT00043552",
                  "1": [
                    "S000000200OU"
                  ],
                  "2": "2020-01-14 19:56:41",
                  "3": "2020-01-16 08:29:04",
                  "4": "0",
                  "5": "36.539722222222224",
                  "6": "1",
                  "7": "1",
                  "8": "2020-01-16"
                },
                {
                  "0": "FOT00043566",
                  "1": [
                    "S00000020JFJ"
                  ],
                  "2": "2020-01-16 21:55:16",
                  "3": "2020-01-17 11:05:13",
                  "4": "0",
                  "5": "13.165833333333333",
                  "6": "1",
                  "7": "1",
                  "8": "2020-01-17"
                },
                {
                  "0": "FOT00044334",
                  "1": [
                    "S00000076YGS"
                  ],
                  "2": "2021-10-04 09:22:42",
                  "3": "2021-10-04 11:37:22",
                  "4": "0",
                  "5": "2.2444444444444445",
                  "6": "1",
                  "7": "1",
                  "8": "2021-10-04"
                },
                {
                  "0": "FOT00044638",
                  "1": [
                    "S0000007P7VH"
                  ],
                  "2": "2021-11-08 14:57:12",
                  "3": "2021-11-12 07:55:20",
                  "4": "0",
                  "5": "88.96888888888888",
                  "6": "1",
                  "7": "1",
                  "8": "2021-11-12"
                },
                {
                  "0": "FOT00046151",
                  "1": [
                    "S0000008D8ZF"
                  ],
                  "2": "2022-01-20 17:18:02",
                  "3": "2022-01-21 07:29:48",
                  "4": "0",
                  "5": "14.196111111111112",
                  "6": "1",
                  "7": "1",
                  "8": "2022-01-21"
                },
                {
                  "0": "FOT00046705",
                  "1": [
                    "S0000003TD5V"
                  ],
                  "2": "2020-11-24 17:45:32",
                  "3": "2020-11-25 11:34:11",
                  "4": "0",
                  "5": "17.810833333333335",
                  "6": "1",
                  "7": "1",
                  "8": "2020-11-25"
                },
                {
                  "0": "FOT00047248",
                  "1": [
                    "S0000003NZZC"
                  ],
                  "2": "2020-11-05 13:29:44",
                  "3": "2020-11-06 10:45:56",
                  "4": "0",
                  "5": "21.27",
                  "6": "1",
                  "7": "1",
                  "8": "2020-11-06"
                },
                {
                  "0": "FOT00049538",
                  "1": [
                    "S0000003F24X"
                  ],
                  "2": "2020-10-16 20:48:49",
                  "3": "2020-10-20 07:09:54",
                  "4": "0",
                  "5": "82.35138888888889",
                  "6": "1",
                  "7": "1",
                  "8": "2020-10-20"
                },
                {
                  "0": "FOT00061929",
                  "1": [
                    "S0000008Z6IC",
                    "S0000008Z6I7"
                  ],
                  "2": "2022-03-14 21:17:46",
                  "3": "2022-03-15 08:17:51",
                  "4": "0",
                  "5": "11.001388888888888",
                  "6": "2",
                  "7": "4",
                  "8": "2022-03-15"
                },
                {
                  "0": "FOT00063203",
                  "1": [
                    "S0000006HUWX"
                  ],
                  "2": "2021-08-05 16:43:55",
                  "3": "2021-08-10 11:32:31",
                  "4": "0",
                  "5": "114.81",
                  "6": "1",
                  "7": "1",
                  "8": "2021-08-10"
                },
                {
                  "0": "FOT00063409",
                  "1": [
                    "S0000006JDWL"
                  ],
                  "2": "2021-08-10 22:12:15",
                  "3": "2021-08-13 06:32:05",
                  "4": "0",
                  "5": "56.330555555555556",
                  "6": "1",
                  "7": "1",
                  "8": "2021-08-13"
                },
                {
                  "0": "FOT00063821",
                  "1": [
                    "S0000004QEPG"
                  ],
                  "2": "2021-03-18 16:24:57",
                  "3": "2021-03-19 07:35:56",
                  "4": "0",
                  "5": "15.183055555555555",
                  "6": "1",
                  "7": "1",
                  "8": "2021-03-19"
                },
                {
                  "0": "FOT00065036",
                  "1": [
                    "S0000006YM16"
                  ],
                  "2": "2021-09-17 15:23:55",
                  "3": "2021-09-20 10:58:09",
                  "4": "0",
                  "5": "67.57055555555556",
                  "6": "1",
                  "7": "1",
                  "8": "2021-09-20"
                },
                {
                  "0": "FOT00065370",
                  "1": [
                    "S00000060RH1"
                  ],
                  "2": "2021-06-25 21:00:58",
                  "3": "2021-06-30 10:06:48",
                  "4": "0",
                  "5": "109.09722222222223",
                  "6": "1",
                  "7": "1",
                  "8": "2021-06-30"
                },
                {
                  "0": "FOT00065374",
                  "1": [
                    "S000000669P9"
                  ],
                  "2": "2021-07-13 10:04:33",
                  "3": "2021-07-15 10:33:04",
                  "4": "0",
                  "5": "48.47527777777778",
                  "6": "1",
                  "7": "1",
                  "8": "2021-07-15"
                },
                {
                  "0": "FOT00065525",
                  "1": [
                    "S0000006HLZW"
                  ],
                  "2": "2021-08-05 09:58:52",
                  "3": "2021-08-06 08:12:52",
                  "4": "0",
                  "5": "22.233333333333334",
                  "6": "1",
                  "7": "1",
                  "8": "2021-08-06"
                },
                {
                  "0": "FOT00065528",
                  "1": [
                    "S0000006HTRE"
                  ],
                  "2": "2021-08-05 17:04:20",
                  "3": "2021-08-10 11:32:35",
                  "4": "0",
                  "5": "114.47083333333333",
                  "6": "1",
                  "7": "1",
                  "8": "2021-08-10"
                },
                {
                  "0": "FOT00069373",
                  "1": [
                    "S0000004B0CB"
                  ],
                  "2": "2021-02-09 22:12:00",
                  "3": "2021-02-12 08:14:48",
                  "4": "0",
                  "5": "58.04666666666667",
                  "6": "1",
                  "7": "1",
                  "8": "2021-02-12"
                },
                {
                  "0": "FOT00071047",
                  "1": [
                    "S0000004IMKD"
                  ],
                  "2": "2021-03-03 13:20:57",
                  "3": "2021-03-04 09:54:13",
                  "4": "0",
                  "5": "20.554444444444446",
                  "6": "1",
                  "7": "1",
                  "8": "2021-03-04"
                },
                {
                  "0": "FOT00071470",
                  "1": [
                    "S0000004EZUQ"
                  ],
                  "2": "2021-02-22 14:10:51",
                  "3": "2021-02-23 10:23:18",
                  "4": "0",
                  "5": "20.2075",
                  "6": "1",
                  "7": "1",
                  "8": "2021-02-23"
                },
                {
                  "0": "IP00749168",
                  "1": [
                    "00390078710141578292"
                  ],
                  "2": "2022-03-21 21:59:13",
                  "3": "2022-03-23 09:30:07",
                  "4": "0",
                  "5": "35.515",
                  "6": "1",
                  "7": "1",
                  "8": "2022-03-23"
                },
                {
                  "0": "L0000000OW4Q",
                  "1": [
                    "00390078710131727976"
                  ],
                  "2": "2020-03-10 20:51:36",
                  "3": "2020-03-11 09:42:35",
                  "4": "0",
                  "5": "12.849722222222223",
                  "6": "1",
                  "7": "1",
                  "8": "2020-03-11"
                },
                {
                  "0": "L0000000V3YG",
                  "1": [
                    "00390078710133935867"
                  ],
                  "2": "2020-08-27 06:08:19",
                  "3": "2020-09-01 07:20:46",
                  "4": "0",
                  "5": "121.2075",
                  "6": "1",
                  "7": "1",
                  "8": "2020-09-01"
                },
                {
                  "0": "L0000001ON92",
                  "1": [
                    "00390078710140428048"
                  ],
                  "2": "2022-03-02 21:54:49",
                  "3": "2022-03-03 09:40:39",
                  "4": "0",
                  "5": "11.76388888888889",
                  "6": "1",
                  "7": "1",
                  "8": "2022-03-03"
                },
                {
                  "0": "FOT00001782",
                  "1": [
                    "S0000009D3SI"
                  ],
                  "2": "2022-04-08 19:17:40",
                  "3": "2022-04-12 12:06:34",
                  "4": "48",
                  "5": "40.815",
                  "6": "1",
                  "7": "1",
                  "8": "2022-04-12"
                },
                {
                  "0": "FOT00004136",
                  "1": [
                    "S0000009FIS5"
                  ],
                  "2": "2022-04-13 20:31:06",
                  "3": "2022-04-14 10:38:55",
                  "4": "0",
                  "5": "14.130277777777778",
                  "6": "1",
                  "7": "1",
                  "8": "2022-04-14"
                },
                {
                  "0": "FOT00004349",
                  "1": [
                    "S0000009H420"
                  ],
                  "2": "2022-04-20 08:28:41",
                  "3": "2022-04-20 10:10:45",
                  "4": "0",
                  "5": "1.701111111111111",
                  "6": "1",
                  "7": "1",
                  "8": "2022-04-20"
                },
                {
                  "0": "FOT00004658",
                  "1": [
                    "S0000009CNJ2"
                  ],
                  "2": "2022-04-07 21:28:24",
                  "3": "2022-04-08 14:45:49",
                  "4": "0",
                  "5": "17.290277777777778",
                  "6": "1",
                  "7": "1",
                  "8": "2022-04-08"
                },
                {
                  "0": "FOT00020254",
                  "1": [
                    "S0000001K6J5"
                  ],
                  "2": "2019-09-13 17:12:24",
                  "3": "2019-09-16 14:45:16",
                  "4": "0",
                  "5": "69.54777777777778",
                  "6": "1",
                  "7": "1",
                  "8": "2019-09-16"
                },
                {
                  "0": "FOT00020888",
                  "1": [
                    "S0000001HGIH"
                  ],
                  "2": "2019-08-23 13:11:30",
                  "3": "2019-08-27 08:16:22",
                  "4": "0",
                  "5": "91.08111111111111",
                  "6": "1",
                  "7": "1",
                  "8": "2019-08-27"
                },
                {
                  "0": "FOT00020921",
                  "1": [
                    "S0000001TW1W"
                  ],
                  "2": "2019-11-12 13:43:37",
                  "3": "2019-11-12 15:38:56",
                  "4": "0",
                  "5": "1.9219444444444445",
                  "6": "1",
                  "7": "1",
                  "8": "2019-11-12"
                },
                {
                  "0": "FOT00038034",
                  "1": [
                    "S0000002S920"
                  ],
                  "2": "2020-08-12 22:11:24",
                  "3": "2020-08-14 07:30:26",
                  "4": "0",
                  "5": "33.31722222222222",
                  "6": "1",
                  "7": "1",
                  "8": "2020-08-14"
                },
                {
                  "0": "FOT00038077",
                  "1": [
                    "S0000002MYA0"
                  ],
                  "2": "2020-07-07 13:56:50",
                  "3": "2020-07-13 08:15:30",
                  "4": "0",
                  "5": "138.3111111111111",
                  "6": "1",
                  "7": "1",
                  "8": "2020-07-13"
                },
                {
                  "0": "FOT00038673",
                  "1": [
                    "S0000004494J"
                  ],
                  "2": "2021-01-15 21:08:22",
                  "3": "2021-01-19 11:11:22",
                  "4": "0",
                  "5": "86.05",
                  "6": "1",
                  "7": "1",
                  "8": "2021-01-19"
                },
                {
                  "0": "FOT00041730",
                  "1": [
                    "S000000491HN"
                  ],
                  "2": "2021-02-03 13:33:40",
                  "3": "2021-02-05 07:38:52",
                  "4": "0",
                  "5": "42.086666666666666",
                  "6": "1",
                  "7": "1",
                  "8": "2021-02-05"
                },
                {
                  "0": "FOT00042134",
                  "1": [
                    "S0000001MNZ3"
                  ],
                  "2": "2019-10-02 18:44:29",
                  "3": "2019-10-03 11:06:42",
                  "4": "0",
                  "5": "16.370277777777776",
                  "6": "1",
                  "7": "1",
                  "8": "2019-10-03"
                },
                {
                  "0": "FOT00042662",
                  "1": [
                    "S00000020WWJ"
                  ],
                  "2": "2020-01-18 13:55:52",
                  "3": "2020-01-21 18:50:12",
                  "4": "0",
                  "5": "76.90555555555555",
                  "6": "1",
                  "7": "1",
                  "8": "2020-01-21"
                },
                {
                  "0": "FOT00042800",
                  "1": [
                    "S00000023X9S"
                  ],
                  "2": "2020-02-05 20:52:44",
                  "3": "2020-02-06 09:24:38",
                  "4": "0",
                  "5": "12.531666666666666",
                  "6": "1",
                  "7": "1",
                  "8": "2020-02-06"
                },
                {
                  "0": "FOT00042892",
                  "1": [
                    "S00000022GID"
                  ],
                  "2": "2020-01-28 21:11:56",
                  "3": "2020-01-30 11:26:00",
                  "4": "0",
                  "5": "38.23444444444444",
                  "6": "1",
                  "7": "1",
                  "8": "2020-01-30"
                },
                {
                  "0": "FOT00044282",
                  "1": [
                    "S00000098WOK"
                  ],
                  "2": "2022-03-31 20:38:00",
                  "3": "2022-04-04 09:56:23",
                  "4": "48",
                  "5": "37.30638888888889",
                  "6": "1",
                  "7": "1",
                  "8": "2022-04-04"
                },
                {
                  "0": "FOT00044805",
                  "1": [
                    "S0000009C1BR",
                    "S0000009C1BR"
                  ],
                  "2": "2022-04-07 07:52:44",
                  "3": "2022-04-07 10:46:25",
                  "4": "0",
                  "5": "2.894722222222222",
                  "6": "2",
                  "7": "2",
                  "8": "2022-04-07"
                },
                {
                  "0": "FOT00044887",
                  "1": [
                    "S0000008LZEJ"
                  ],
                  "2": "2022-02-15 19:39:05",
                  "3": "2022-02-16 07:52:52",
                  "4": "0",
                  "5": "12.229722222222222",
                  "6": "1",
                  "7": "1",
                  "8": "2022-02-16"
                },
                {
                  "0": "FOT00045127",
                  "1": [
                    "S00000077BH5"
                  ],
                  "2": "2021-10-04 16:11:46",
                  "3": "2021-10-05 16:21:14",
                  "4": "0",
                  "5": "24.157777777777778",
                  "6": "1",
                  "7": "1",
                  "8": "2021-10-05"
                },
                {
                  "0": "FOT00045141",
                  "1": [
                    "S0000007D8HQ"
                  ],
                  "2": "2021-10-16 12:26:38",
                  "3": "2021-10-19 15:05:14",
                  "4": "0",
                  "5": "74.64333333333333",
                  "6": "1",
                  "7": "1",
                  "8": "2021-10-19"
                },
                {
                  "0": "FOT00045245",
                  "1": [
                    "S0000007BEAC"
                  ],
                  "2": "2021-10-13 09:53:50",
                  "3": "2021-10-15 14:51:18",
                  "4": "0",
                  "5": "52.95777777777778",
                  "6": "1",
                  "7": "1",
                  "8": "2021-10-15"
                },
                {
                  "0": "FOT00045407",
                  "1": [
                    "S0000008P3N6"
                  ],
                  "2": "2022-02-21 13:49:53",
                  "3": "2022-02-22 10:47:41",
                  "4": "0",
                  "5": "20.963333333333335",
                  "6": "1",
                  "7": "1",
                  "8": "2022-02-22"
                },
                {
                  "0": "FOT00047811",
                  "1": [
                    "S0000001LE4G"
                  ],
                  "2": "2019-09-23 06:04:18",
                  "3": "2019-10-01 10:36:45",
                  "4": "0",
                  "5": "196.54083333333332",
                  "6": "1",
                  "7": "1",
                  "8": "2019-10-01"
                },
                {
                  "0": "FOT00047988",
                  "1": [
                    "S00000044UNL"
                  ],
                  "2": "2021-01-19 13:25:48",
                  "3": "2021-01-20 09:18:26",
                  "4": "0",
                  "5": "19.877222222222223",
                  "6": "1",
                  "7": "1",
                  "8": "2021-01-20"
                },
                {
                  "0": "FOT00048596",
                  "1": [
                    "S0000001D68G"
                  ],
                  "2": "2019-07-31 06:58:21",
                  "3": "2019-08-05 10:13:39",
                  "4": "0",
                  "5": "123.255",
                  "6": "1",
                  "7": "1",
                  "8": "2019-08-05"
                },
                {
                  "0": "FOT00061960",
                  "1": [
                    "S00000098HLP"
                  ],
                  "2": "2022-03-31 13:31:07",
                  "3": "2022-04-04 09:56:20",
                  "4": "48",
                  "5": "44.420277777777784",
                  "6": "1",
                  "7": "1",
                  "8": "2022-04-04"
                },
                {
                  "0": "FOT00062880",
                  "1": [
                    "S00000055B83"
                  ],
                  "2": "2021-04-21 22:07:56",
                  "3": "2021-04-22 10:35:21",
                  "4": "0",
                  "5": "12.456944444444444",
                  "6": "1",
                  "7": "1",
                  "8": "2021-04-22"
                },
                {
                  "0": "FOT00062980",
                  "1": [
                    "S0000006O80B"
                  ],
                  "2": "2021-08-25 09:49:54",
                  "3": "2021-08-26 06:35:08",
                  "4": "0",
                  "5": "20.753888888888888",
                  "6": "1",
                  "7": "1",
                  "8": "2021-08-26"
                },
                {
                  "0": "FOT00063179",
                  "1": [
                    "S0000005ZPA4"
                  ],
                  "2": "2021-06-23 22:03:34",
                  "3": "2021-06-28 06:17:54",
                  "4": "0",
                  "5": "104.2388888888889",
                  "6": "1",
                  "7": "1",
                  "8": "2021-06-28"
                },
                {
                  "0": "FOT00063492",
                  "1": [
                    "S0000005AZRR"
                  ],
                  "2": "2021-05-07 12:20:14",
                  "3": "2021-05-10 06:35:44",
                  "4": "0",
                  "5": "66.25833333333334",
                  "6": "1",
                  "7": "1",
                  "8": "2021-05-10"
                },
                {
                  "0": "FOT00063765",
                  "1": [
                    "S0000004TF5R"
                  ],
                  "2": "2021-03-24 22:14:51",
                  "3": "2021-03-25 08:48:57",
                  "4": "0",
                  "5": "10.568333333333333",
                  "6": "1",
                  "7": "1",
                  "8": "2021-03-25"
                },
                {
                  "0": "FOT00064369",
                  "1": [
                    "S0000006RV8Q"
                  ],
                  "2": "2021-09-02 11:00:43",
                  "3": "2021-09-03 14:04:00",
                  "4": "0",
                  "5": "27.05472222222222",
                  "6": "1",
                  "7": "1",
                  "8": "2021-09-03"
                },
                {
                  "0": "FOT00064900",
                  "1": [
                    "S0000006MESV",
                    "S0000006MESV"
                  ],
                  "2": "2021-08-19 16:54:38",
                  "3": "2021-08-20 13:13:09",
                  "4": "0",
                  "5": "20.308611111111112",
                  "6": "2",
                  "7": "2",
                  "8": "2021-08-20"
                },
                {
                  "0": "FOT00064956",
                  "1": [
                    "S0000006BED5"
                  ],
                  "2": "2021-07-22 13:21:25",
                  "3": "2021-07-23 10:38:18",
                  "4": "0",
                  "5": "21.281388888888888",
                  "6": "1",
                  "7": "1",
                  "8": "2021-07-23"
                },
                {
                  "0": "FOT00065087",
                  "1": [
                    "S0000006EHBV"
                  ],
                  "2": "2021-07-28 21:01:46",
                  "3": "2021-07-30 12:05:56",
                  "4": "0",
                  "5": "39.06944444444444",
                  "6": "1",
                  "7": "1",
                  "8": "2021-07-30"
                },
                {
                  "0": "FOT00069604",
                  "1": [
                    "S0000002YMMV"
                  ],
                  "2": "2020-09-04 13:46:00",
                  "3": "2020-09-07 11:08:26",
                  "4": "0",
                  "5": "69.37388888888889",
                  "6": "1",
                  "7": "1",
                  "8": "2020-09-07"
                },
                {
                  "0": "FOT00069764",
                  "1": [
                    "S0000004B356"
                  ],
                  "2": "2021-02-10 08:41:09",
                  "3": "2021-02-12 11:36:50",
                  "4": "0",
                  "5": "50.92805555555555",
                  "6": "1",
                  "7": "1",
                  "8": "2021-02-12"
                },
                {
                  "0": "FOT00069777",
                  "1": [
                    "S0000004O6FG"
                  ],
                  "2": "2021-03-15 13:42:59",
                  "3": "2021-03-17 06:43:57",
                  "4": "0",
                  "5": "41.01611111111111",
                  "6": "1",
                  "7": "1",
                  "8": "2021-03-17"
                },
                {
                  "0": "FOT00071143",
                  "1": [
                    "S0000004B2DC"
                  ],
                  "2": "2021-02-10 07:53:26",
                  "3": "2021-02-16 11:19:38",
                  "4": "0",
                  "5": "147.43666666666667",
                  "6": "1",
                  "7": "1",
                  "8": "2021-02-16"
                },
                {
                  "0": "FOT00071153",
                  "1": [
                    "S00000047M9P"
                  ],
                  "2": "2021-01-29 13:47:31",
                  "3": "2021-02-03 10:11:30",
                  "4": "0",
                  "5": "116.39972222222222",
                  "6": "1",
                  "7": "1",
                  "8": "2021-02-03"
                },
                {
                  "0": "L0000000ONQV",
                  "1": [
                    "00390078710131646826",
                    "00390078710131646826"
                  ],
                  "2": "2020-03-10 17:30:16",
                  "3": "2020-03-11 09:42:48",
                  "4": "0",
                  "5": "16.20888888888889",
                  "6": "2",
                  "7": "2",
                  "8": "2020-03-11"
                },
                {
                  "0": "FOT00004408",
                  "1": [
                    "S0000009BRIP"
                  ],
                  "2": "2022-04-06 22:06:15",
                  "3": "2022-04-07 09:08:36",
                  "4": "0",
                  "5": "11.039166666666667",
                  "6": "1",
                  "7": "1",
                  "8": "2022-04-07"
                },
                {
                  "0": "FOT00032716",
                  "1": [
                    "S0000001ET1G"
                  ],
                  "2": "2019-08-06 12:56:23",
                  "3": "2019-08-09 07:33:49",
                  "4": "0",
                  "5": "66.62388888888889",
                  "6": "1",
                  "7": "1",
                  "8": "2019-08-09"
                },
                {
                  "0": "FOT00037589",
                  "1": [
                    "S0000002FXAD"
                  ],
                  "2": "2020-05-14 13:16:57",
                  "3": "2020-05-15 14:59:24",
                  "4": "0",
                  "5": "25.7075",
                  "6": "1",
                  "7": "1",
                  "8": "2020-05-15"
                },
                {
                  "0": "FOT00038882",
                  "1": [
                    "S00000029GTI"
                  ],
                  "2": "2020-03-06 13:54:30",
                  "3": "2020-03-13 09:24:18",
                  "4": "0",
                  "5": "163.49666666666667",
                  "6": "1",
                  "7": "1",
                  "8": "2020-03-13"
                },
                {
                  "0": "FOT00042541",
                  "1": [
                    "S0000001Z2TR"
                  ],
                  "2": "2020-01-07 13:13:43",
                  "3": "2020-01-08 12:49:52",
                  "4": "0",
                  "5": "23.6025",
                  "6": "1",
                  "7": "1",
                  "8": "2020-01-08"
                },
                {
                  "0": "FOT00042625",
                  "1": [
                    "S0000001RGRU"
                  ],
                  "2": "2019-10-30 14:01:12",
                  "3": "2019-10-31 12:59:37",
                  "4": "0",
                  "5": "22.97361111111111",
                  "6": "1",
                  "7": "1",
                  "8": "2019-10-31"
                },
                {
                  "0": "FOT00042913",
                  "1": [
                    "S0000002STJ4"
                  ],
                  "2": "2020-08-18 10:58:31",
                  "3": "2020-08-21 08:16:38",
                  "4": "0",
                  "5": "69.30194444444444",
                  "6": "1",
                  "7": "1",
                  "8": "2020-08-21"
                },
                {
                  "0": "FOT00043157",
                  "1": [
                    "S0000002OKCB"
                  ],
                  "2": "2020-07-18 12:10:27",
                  "3": "2020-07-30 15:10:57",
                  "4": "0",
                  "5": "291.0083333333333",
                  "6": "1",
                  "7": "1",
                  "8": "2020-07-30"
                },
                {
                  "0": "FOT00043236",
                  "1": [
                    "S0000001QUWD"
                  ],
                  "2": "2019-10-24 20:29:44",
                  "3": "2019-11-08 13:11:05",
                  "4": "0",
                  "5": "352.68916666666667",
                  "6": "1",
                  "7": "1",
                  "8": "2019-11-08"
                },
                {
                  "0": "FOT00043565",
                  "1": [
                    "S00000020J58",
                    "S00000020J58"
                  ],
                  "2": "2020-01-16 21:55:06",
                  "3": "2020-01-17 11:05:23",
                  "4": "0",
                  "5": "13.171388888888888",
                  "6": "2",
                  "7": "2",
                  "8": "2020-01-17"
                },
                {
                  "0": "FOT00044834",
                  "1": [
                    "S000000776FR"
                  ],
                  "2": "2021-10-04 13:22:05",
                  "3": "2021-10-05 10:22:12",
                  "4": "0",
                  "5": "21.001944444444444",
                  "6": "1",
                  "7": "1",
                  "8": "2021-10-05"
                },
                {
                  "0": "FOT00044983",
                  "1": [
                    "S0000007U513"
                  ],
                  "2": "2021-11-18 13:49:08",
                  "3": "2021-11-19 09:43:24",
                  "4": "0",
                  "5": "19.904444444444444",
                  "6": "1",
                  "7": "1",
                  "8": "2021-11-19"
                },
                {
                  "0": "FOT00045639",
                  "1": [
                    "S0000007J854"
                  ],
                  "2": "2021-10-27 14:05:12",
                  "3": "2021-11-02 10:16:13",
                  "4": "0",
                  "5": "140.1836111111111",
                  "6": "1",
                  "7": "1",
                  "8": "2021-11-02"
                },
                {
                  "0": "FOT00045980",
                  "1": [
                    "S0000008DZYY",
                    "S0000008DZYY"
                  ],
                  "2": "2022-01-24 13:55:49",
                  "3": "2022-01-25 08:37:04",
                  "4": "0",
                  "5": "18.6875",
                  "6": "2",
                  "7": "2",
                  "8": "2022-01-25"
                },
                {
                  "0": "FOT00046889",
                  "1": [
                    "S0000001K35Y"
                  ],
                  "2": "2019-09-13 10:23:11",
                  "3": "2019-09-16 14:45:24",
                  "4": "0",
                  "5": "76.37027777777777",
                  "6": "1",
                  "7": "1",
                  "8": "2019-09-16"
                },
                {
                  "0": "FOT00046987",
                  "1": [
                    "S0000001J2YE",
                    "S0000001J2YE"
                  ],
                  "2": "2019-09-05 14:34:53",
                  "3": "2019-09-09 06:55:51",
                  "4": "0",
                  "5": "88.34944444444444",
                  "6": "2",
                  "7": "2",
                  "8": "2019-09-09"
                },
                {
                  "0": "FOT00047373",
                  "1": [
                    "S0000001QF3L"
                  ],
                  "2": "2019-10-23 19:11:15",
                  "3": "2019-10-29 07:59:10",
                  "4": "0",
                  "5": "132.79861111111111",
                  "6": "1",
                  "7": "1",
                  "8": "2019-10-29"
                },
                {
                  "0": "FOT00048500",
                  "1": [
                    "S0000001KB5F"
                  ],
                  "2": "2019-09-14 14:08:30",
                  "3": "2019-09-18 10:50:25",
                  "4": "0",
                  "5": "92.6986111111111",
                  "6": "1",
                  "7": "1",
                  "8": "2019-09-18"
                },
                {
                  "0": "FOT00049553",
                  "1": [
                    "S0000004KT62"
                  ],
                  "2": "2021-03-08 13:11:56",
                  "3": "2021-03-09 09:19:17",
                  "4": "0",
                  "5": "20.1225",
                  "6": "1",
                  "7": "1",
                  "8": "2021-03-09"
                },
                {
                  "0": "FOT00050042",
                  "1": [
                    "S0000002390K"
                  ],
                  "2": "2020-02-03 10:47:42",
                  "3": "2020-02-05 07:59:27",
                  "4": "0",
                  "5": "45.19583333333333",
                  "6": "1",
                  "7": "1",
                  "8": "2020-02-05"
                },
                {
                  "0": "FOT00061606",
                  "1": [
                    "S0000008PDRW"
                  ],
                  "2": "2022-02-21 18:53:18",
                  "3": "2022-02-22 07:23:14",
                  "4": "0",
                  "5": "12.498888888888889",
                  "6": "1",
                  "7": "1",
                  "8": "2022-02-22"
                },
                {
                  "0": "FOT00061909",
                  "1": [
                    "S0000008TX3V"
                  ],
                  "2": "2022-03-02 19:46:27",
                  "3": "2022-03-03 07:42:20",
                  "4": "0",
                  "5": "11.93138888888889",
                  "6": "1",
                  "7": "1",
                  "8": "2022-03-03"
                },
                {
                  "0": "FOT00061994",
                  "1": [
                    "S0000008TX7R"
                  ],
                  "2": "2022-03-02 19:42:35",
                  "3": "2022-03-03 07:39:01",
                  "4": "0",
                  "5": "11.940555555555555",
                  "6": "1",
                  "7": "1",
                  "8": "2022-03-03"
                },
                {
                  "0": "FOT00062003",
                  "1": [
                    "S00000099G7G",
                    "S00000099G7G"
                  ],
                  "2": "2022-04-01 18:09:41",
                  "3": "2022-04-05 07:30:25",
                  "4": "48",
                  "5": "37.34555555555555",
                  "6": "2",
                  "7": "2",
                  "8": "2022-04-05"
                },
                {
                  "0": "FOT00063272",
                  "1": [
                    "S00000052KXE"
                  ],
                  "2": "2021-04-14 20:43:25",
                  "3": "2021-04-15 13:44:46",
                  "4": "0",
                  "5": "17.0225",
                  "6": "1",
                  "7": "1",
                  "8": "2021-04-15"
                },
                {
                  "0": "FOT00063785",
                  "1": [
                    "S0000004QZPH"
                  ],
                  "2": "2021-03-19 17:26:37",
                  "3": "2021-03-22 08:22:30",
                  "4": "0",
                  "5": "62.93138888888889",
                  "6": "1",
                  "7": "1",
                  "8": "2021-03-22"
                },
                {
                  "0": "FOT00064480",
                  "1": [
                    "S0000006S1QN"
                  ],
                  "2": "2021-09-02 20:01:30",
                  "3": "2021-09-07 13:52:45",
                  "4": "0",
                  "5": "113.85416666666667",
                  "6": "1",
                  "7": "1",
                  "8": "2021-09-07"
                },
                {
                  "0": "FOT00064889",
                  "1": [
                    "S0000006R3V5"
                  ],
                  "2": "2021-09-01 07:55:24",
                  "3": "2021-09-03 11:38:39",
                  "4": "0",
                  "5": "51.72083333333333",
                  "6": "1",
                  "7": "1",
                  "8": "2021-09-03"
                },
                {
                  "0": "FOT00069658",
                  "1": [
                    "S00000045G1Y"
                  ],
                  "2": "2021-01-21 13:43:05",
                  "3": "2021-01-25 08:54:32",
                  "4": "0",
                  "5": "91.19083333333333",
                  "6": "1",
                  "7": "1",
                  "8": "2021-01-25"
                },
                {
                  "0": "FOT00070614",
                  "1": [
                    "S00000038953"
                  ],
                  "2": "2020-09-30 13:37:20",
                  "3": "2020-10-02 08:53:29",
                  "4": "0",
                  "5": "43.26916666666666",
                  "6": "1",
                  "7": "1",
                  "8": "2020-10-02"
                },
                {
                  "0": "FOT00070895",
                  "1": [
                    "S0000003GFN6"
                  ],
                  "2": "2020-10-20 12:33:59",
                  "3": "2020-10-21 13:29:25",
                  "4": "0",
                  "5": "24.92388888888889",
                  "6": "1",
                  "7": "1",
                  "8": "2020-10-21"
                },
                {
                  "0": "FOT00070936",
                  "1": [
                    "S0000003BHP1"
                  ],
                  "2": "2020-10-08 08:53:16",
                  "3": "2020-10-09 12:43:37",
                  "4": "0",
                  "5": "27.839166666666667",
                  "6": "1",
                  "7": "1",
                  "8": "2020-10-09"
                },
                {
                  "0": "FOT00071092",
                  "1": [
                    "S0000004ADAE"
                  ],
                  "2": "2021-02-08 21:59:07",
                  "3": "2021-02-09 10:10:43",
                  "4": "0",
                  "5": "12.193333333333333",
                  "6": "1",
                  "7": "1",
                  "8": "2021-02-09"
                },
                {
                  "0": "FOT00071592",
                  "1": [
                    "S0000004G952"
                  ],
                  "2": "2021-02-24 22:12:41",
                  "3": "2021-02-26 10:04:09",
                  "4": "0",
                  "5": "35.85777777777778",
                  "6": "1",
                  "7": "1",
                  "8": "2021-02-26"
                },
                {
                  "0": "IP00707605",
                  "1": [
                    "00390078710131298940"
                  ],
                  "2": "2020-01-16 20:15:57",
                  "3": "2020-01-21 08:25:21",
                  "4": "0",
                  "5": "108.15666666666667",
                  "6": "1",
                  "7": "1",
                  "8": "2020-01-21"
                },
                {
                  "0": "L0000000E0UH",
                  "1": [
                    "00390078710127107492"
                  ],
                  "2": "2019-08-22 06:35:57",
                  "3": "2019-08-27 08:21:16",
                  "4": "0",
                  "5": "121.75527777777778",
                  "6": "1",
                  "7": "1",
                  "8": "2019-08-27"
                },
                {
                  "0": "L0000000FY1A",
                  "1": [
                    "00390078710127983768"
                  ],
                  "2": "2019-09-19 21:44:36",
                  "3": "2019-09-20 10:44:00",
                  "4": "0",
                  "5": "12.99",
                  "6": "1",
                  "7": "1",
                  "8": "2019-09-20"
                },
                {
                  "0": "L0000001EI4S",
                  "1": [
                    "00390078720596293398"
                  ],
                  "2": "2021-09-08 13:13:02",
                  "3": "2021-09-09 13:22:57",
                  "4": "0",
                  "5": "24.165277777777778",
                  "6": "1",
                  "7": "1",
                  "8": "2021-09-09"
                },
                {
                  "0": "L0000001OLCJ",
                  "1": [
                    "00390078710139605214"
                  ],
                  "2": "2022-03-02 21:55:20",
                  "3": "2022-03-03 09:46:06",
                  "4": "0",
                  "5": "11.846111111111112",
                  "6": "1",
                  "7": "1",
                  "8": "2022-03-03"
                },
                {
                  "0": "L0000001OSJS",
                  "1": [
                    "00390078710139984500"
                  ],
                  "2": "2022-03-04 22:07:36",
                  "3": "2022-03-07 10:42:29",
                  "4": "48",
                  "5": "12.581388888888888",
                  "6": "1",
                  "7": "1",
                  "8": "2022-03-07"
                },
                {
                  "0": "FOT00001781",
                  "1": [
                    "S0000009D37P"
                  ],
                  "2": "2022-04-08 19:17:52",
                  "3": "2022-04-12 12:06:37",
                  "4": "48",
                  "5": "40.8125",
                  "6": "1",
                  "7": "1",
                  "8": "2022-04-12"
                },
                {
                  "0": "FOT00012551",
                  "1": [
                    "S0000001G0ST"
                  ],
                  "2": "2019-08-13 22:13:42",
                  "3": "2019-08-15 10:36:23",
                  "4": "0",
                  "5": "36.378055555555555",
                  "6": "1",
                  "7": "1",
                  "8": "2019-08-15"
                },
                {
                  "0": "FOT00020533",
                  "1": [
                    "S0000001LYLR"
                  ],
                  "2": "2019-09-26 09:06:30",
                  "3": "2019-10-10 14:04:01",
                  "4": "0",
                  "5": "340.9586111111111",
                  "6": "1",
                  "7": "1",
                  "8": "2019-10-10"
                },
                {
                  "0": "FOT00037174",
                  "1": [
                    "S0000002PKT5"
                  ],
                  "2": "2020-07-24 16:09:35",
                  "3": "2020-07-28 07:46:06",
                  "4": "0",
                  "5": "87.60861111111112",
                  "6": "1",
                  "7": "1",
                  "8": "2020-07-28"
                },
                {
                  "0": "FOT00037315",
                  "1": [
                    "S0000002OPJZ"
                  ],
                  "2": "2020-07-20 14:42:07",
                  "3": "2020-07-22 08:59:40",
                  "4": "0",
                  "5": "42.2925",
                  "6": "1",
                  "7": "1",
                  "8": "2020-07-22"
                },
                {
                  "0": "FOT00037491",
                  "1": [
                    "S0000004LIHJ"
                  ],
                  "2": "2021-03-09 12:32:38",
                  "3": "2021-03-12 09:23:41",
                  "4": "0",
                  "5": "68.85083333333333",
                  "6": "1",
                  "7": "1",
                  "8": "2021-03-12"
                },
                {
                  "0": "FOT00037530",
                  "1": [
                    "S0000002L0GM"
                  ],
                  "2": "2020-06-18 21:34:09",
                  "3": "2020-06-19 13:57:22",
                  "4": "0",
                  "5": "16.386944444444445",
                  "6": "1",
                  "7": "1",
                  "8": "2020-06-19"
                },
                {
                  "0": "FOT00037977",
                  "1": [
                    "S0000002M0WP"
                  ],
                  "2": "2020-06-30 22:00:51",
                  "3": "2020-07-02 13:59:27",
                  "4": "0",
                  "5": "39.97666666666667",
                  "6": "1",
                  "7": "1",
                  "8": "2020-07-02"
                },
                {
                  "0": "FOT00039052",
                  "1": [
                    "S00000026IH2"
                  ],
                  "2": "2020-02-20 16:11:45",
                  "3": "2020-03-10 09:00:15",
                  "4": "0",
                  "5": "448.80833333333334",
                  "6": "1",
                  "7": "1",
                  "8": "2020-03-10"
                },
                {
                  "0": "FOT00039349",
                  "1": [
                    "S0000004KKIY"
                  ],
                  "2": "2021-03-05 22:00:29",
                  "3": "2021-03-09 08:02:08",
                  "4": "0",
                  "5": "82.0275",
                  "6": "1",
                  "7": "1",
                  "8": "2021-03-09"
                },
                {
                  "0": "FOT00039562",
                  "1": [
                    "S0000003HHKE"
                  ],
                  "2": "2020-10-21 21:55:52",
                  "3": "2020-10-26 14:49:43",
                  "4": "0",
                  "5": "112.8975",
                  "6": "1",
                  "7": "1",
                  "8": "2020-10-26"
                },
                {
                  "0": "FOT00042493",
                  "1": [
                    "S0000002P2A5"
                  ],
                  "2": "2020-07-22 22:20:48",
                  "3": "2020-07-29 12:47:45",
                  "4": "0",
                  "5": "158.44916666666666",
                  "6": "1",
                  "7": "1",
                  "8": "2020-07-29"
                },
                {
                  "0": "FOT00043234",
                  "1": [
                    "S0000001R5Y6"
                  ],
                  "2": "2019-10-29 07:04:12",
                  "3": "2019-11-08 13:10:32",
                  "4": "0",
                  "5": "246.10555555555555",
                  "6": "1",
                  "7": "1",
                  "8": "2019-11-08"
                },
                {
                  "0": "FOT00043980",
                  "1": [
                    "S00000096WS5"
                  ],
                  "2": "2022-03-29 10:43:00",
                  "3": "2022-03-31 08:26:12",
                  "4": "0",
                  "5": "45.72",
                  "6": "1",
                  "7": "1",
                  "8": "2022-03-31"
                },
                {
                  "0": "FOT00043982",
                  "1": [
                    "S00000096WJL"
                  ],
                  "2": "2022-03-29 10:44:00",
                  "3": "2022-03-31 08:26:08",
                  "4": "0",
                  "5": "45.702222222222225",
                  "6": "1",
                  "7": "1",
                  "8": "2022-03-31"
                },
                {
                  "0": "FOT00044303",
                  "1": [
                    "S0000006ZT8M"
                  ],
                  "2": "2021-09-21 18:43:19",
                  "3": "2021-09-23 07:51:06",
                  "4": "0",
                  "5": "37.12972222222222",
                  "6": "1",
                  "7": "1",
                  "8": "2021-09-23"
                },
                {
                  "0": "FOT00045220",
                  "1": [
                    "S0000007BGW2"
                  ],
                  "2": "2021-10-13 12:12:46",
                  "3": "2021-10-15 14:51:11",
                  "4": "0",
                  "5": "50.640277777777776",
                  "6": "1",
                  "7": "1",
                  "8": "2021-10-15"
                },
                {
                  "0": "FOT00045596",
                  "1": [
                    "S0000008GJC8"
                  ],
                  "2": "2022-02-01 14:47:06",
                  "3": "2022-02-02 07:46:23",
                  "4": "0",
                  "5": "16.988055555555555",
                  "6": "1",
                  "7": "1",
                  "8": "2022-02-02"
                },
                {
                  "0": "FOT00045623",
                  "1": [
                    "S0000008QO89"
                  ],
                  "2": "2022-02-23 15:40:25",
                  "3": "2022-02-24 07:54:38",
                  "4": "0",
                  "5": "16.236944444444443",
                  "6": "1",
                  "7": "1",
                  "8": "2022-02-24"
                },
                {
                  "0": "FOT00046981",
                  "1": [
                    "S0000001JFA4"
                  ],
                  "2": "2019-09-09 11:23:41",
                  "3": "2019-09-25 09:29:55",
                  "4": "0",
                  "5": "382.1038888888889",
                  "6": "1",
                  "7": "1",
                  "8": "2019-09-25"
                },
                {
                  "0": "FOT00047138",
                  "1": [
                    "S00000025884"
                  ],
                  "2": "2020-02-12 17:07:39",
                  "3": "2020-02-13 09:54:32",
                  "4": "0",
                  "5": "16.781388888888888",
                  "6": "1",
                  "7": "1",
                  "8": "2020-02-13"
                },
                {
                  "0": "FOT00047825",
                  "1": [
                    "S0000001PKPH"
                  ],
                  "2": "2019-10-18 13:44:59",
                  "3": "2019-10-23 12:24:47",
                  "4": "0",
                  "5": "118.66333333333333",
                  "6": "1",
                  "7": "1",
                  "8": "2019-10-23"
                },
                {
                  "0": "FOT00047907",
                  "1": [
                    "S0000001N2G7"
                  ],
                  "2": "2019-10-04 13:53:28",
                  "3": "2019-10-08 07:59:06",
                  "4": "0",
                  "5": "90.09388888888888",
                  "6": "1",
                  "7": "1",
                  "8": "2019-10-08"
                },
                {
                  "0": "FOT00062536",
                  "1": [
                    "S00000091RTF"
                  ],
                  "2": "2022-03-18 21:57:15",
                  "3": "2022-03-22 10:11:59",
                  "4": "48",
                  "5": "36.245555555555555",
                  "6": "1",
                  "7": "1",
                  "8": "2022-03-22"
                },
                {
                  "0": "FOT00062887",
                  "1": [
                    "S00000051LSG"
                  ],
                  "2": "2021-04-12 21:35:08",
                  "3": "2021-04-13 10:15:05",
                  "4": "0",
                  "5": "12.665833333333333",
                  "6": "1",
                  "7": "1",
                  "8": "2021-04-13"
                },
                {
                  "0": "FOT00062997",
                  "1": [
                    "S0000005ETA5"
                  ],
                  "2": "2021-05-14 21:49:31",
                  "3": "2021-05-18 06:12:09",
                  "4": "0",
                  "5": "80.37722222222222",
                  "6": "1",
                  "7": "1",
                  "8": "2021-05-18"
                },
                {
                  "0": "FOT00063058",
                  "1": [
                    "S00000054XH3"
                  ],
                  "2": "2021-04-20 22:11:40",
                  "3": "2021-04-22 07:49:15",
                  "4": "0",
                  "5": "33.62638888888889",
                  "6": "1",
                  "7": "1",
                  "8": "2021-04-22"
                },
                {
                  "0": "FOT00063312",
                  "1": [
                    "S000000598EH"
                  ],
                  "2": "2021-05-04 13:52:36",
                  "3": "2021-05-06 09:14:18",
                  "4": "0",
                  "5": "43.361666666666665",
                  "6": "1",
                  "7": "1",
                  "8": "2021-05-06"
                },
                {
                  "0": "FOT00063934",
                  "1": [
                    "S0000004RCVU"
                  ],
                  "2": "2021-03-20 13:32:25",
                  "3": "2021-03-22 11:14:45",
                  "4": "0",
                  "5": "45.705555555555556",
                  "6": "1",
                  "7": "1",
                  "8": "2021-03-22"
                },
                {
                  "0": "FOT00064609",
                  "1": [
                    "S0000008U80Q"
                  ],
                  "2": "2022-03-03 13:12:29",
                  "3": "2022-03-03 13:19:44",
                  "4": "0",
                  "5": "0.12083333333333333",
                  "6": "1",
                  "7": "1",
                  "8": "2022-03-03"
                },
                {
                  "0": "FOT00064622",
                  "1": [
                    "S0000006S1FF"
                  ],
                  "2": "2021-09-02 20:01:46",
                  "3": "2021-09-07 13:50:44",
                  "4": "0",
                  "5": "113.81611111111111",
                  "6": "1",
                  "7": "1",
                  "8": "2021-09-07"
                },
                {
                  "0": "FOT00064708",
                  "1": [
                    "S0000008QE54"
                  ],
                  "2": "2022-02-23 10:01:44",
                  "3": "2022-02-24 07:51:16",
                  "4": "0",
                  "5": "21.825555555555557",
                  "6": "1",
                  "7": "1",
                  "8": "2022-02-24"
                },
                {
                  "0": "FOT00065202",
                  "1": [
                    "S0000006XHP6"
                  ],
                  "2": "2021-09-15 10:21:44",
                  "3": "2021-09-23 08:27:57",
                  "4": "0",
                  "5": "190.10361111111112",
                  "6": "1",
                  "7": "1",
                  "8": "2021-09-23"
                },
                {
                  "0": "FOT00065253",
                  "1": [
                    "S0000006KNYU"
                  ],
                  "2": "2021-08-13 22:02:19",
                  "3": "2021-08-17 10:04:09",
                  "4": "0",
                  "5": "84.03055555555555",
                  "6": "1",
                  "7": "1",
                  "8": "2021-08-17"
                },
                {
                  "0": "FOT00065526",
                  "1": [
                    "S0000006HSO9"
                  ],
                  "2": "2021-08-05 17:03:41",
                  "3": "2021-08-11 13:13:00",
                  "4": "0",
                  "5": "140.15527777777777",
                  "6": "1",
                  "7": "1",
                  "8": "2021-08-11"
                },
                {
                  "0": "FOT00069487",
                  "1": [
                    "S0000002Y3DH"
                  ],
                  "2": "2020-09-03 13:40:10",
                  "3": "2020-09-07 08:16:53",
                  "4": "0",
                  "5": "90.61194444444445",
                  "6": "1",
                  "7": "1",
                  "8": "2020-09-07"
                },
                {
                  "0": "FOT00069666",
                  "1": [
                    "S00000047864"
                  ],
                  "2": "2021-01-28 13:30:59",
                  "3": "2021-02-03 08:28:04",
                  "4": "0",
                  "5": "138.95138888888889",
                  "6": "1",
                  "7": "1",
                  "8": "2021-02-03"
                },
                {
                  "0": "FOT00070456",
                  "1": [
                    "S00000046VSJ"
                  ],
                  "2": "2021-01-26 21:59:16",
                  "3": "2021-01-27 10:43:30",
                  "4": "0",
                  "5": "12.737222222222222",
                  "6": "1",
                  "7": "1",
                  "8": "2021-01-27"
                },
                {
                  "0": "FOT00071051",
                  "1": [
                    "S0000004HFRP"
                  ],
                  "2": "2021-02-27 13:43:47",
                  "3": "2021-03-02 11:34:30",
                  "4": "0",
                  "5": "69.84527777777778",
                  "6": "1",
                  "7": "1",
                  "8": "2021-03-02"
                },
                {
                  "0": "FOT00071232",
                  "1": [
                    "S000000498NC"
                  ],
                  "2": "2021-02-03 15:41:09",
                  "3": "2021-02-05 07:35:58",
                  "4": "0",
                  "5": "39.91361111111111",
                  "6": "1",
                  "7": "1",
                  "8": "2021-02-05"
                },
                {
                  "0": "FOT00071526",
                  "1": [
                    "S0000004GT6O"
                  ],
                  "2": "2021-02-25 22:09:16",
                  "3": "2021-02-26 11:44:24",
                  "4": "0",
                  "5": "13.585555555555555",
                  "6": "1",
                  "7": "1",
                  "8": "2021-02-26"
                },
                {
                  "0": "IP00715470",
                  "1": [
                    "00390078710129574667",
                    "00390078710129574674",
                    "00390078710129574728"
                  ],
                  "2": "2019-10-21 08:57:49",
                  "3": "2019-10-21 10:31:09",
                  "4": "0",
                  "5": "1.5555555555555556",
                  "6": "3",
                  "7": "3",
                  "8": "2019-10-21"
                },
                {
                  "0": "IP00749169",
                  "1": [
                    "00390078710141586174"
                  ],
                  "2": "2022-03-21 21:59:06",
                  "3": "2022-03-23 09:31:49",
                  "4": "0",
                  "5": "35.54527777777778",
                  "6": "1",
                  "7": "1",
                  "8": "2022-03-23"
                },
                {
                  "0": "IP00768518",
                  "1": [
                    "00390078710140261010",
                    "00390078710140261010"
                  ],
                  "2": "2022-01-27 21:37:50",
                  "3": "2022-01-28 15:26:43",
                  "4": "0",
                  "5": "17.814722222222223",
                  "6": "2",
                  "7": "2",
                  "8": "2022-01-28"
                },
                {
                  "0": "L0000000CLNK",
                  "1": [
                    "00390078710129058495"
                  ],
                  "2": "2019-08-01 16:43:50",
                  "3": "2019-08-05 07:03:56",
                  "4": "0",
                  "5": "86.335",
                  "6": "1",
                  "7": "1",
                  "8": "2019-08-05"
                },
                {
                  "0": "L0000000PB40",
                  "1": [
                    "00390078720584701799"
                  ],
                  "2": "2020-03-18 06:38:02",
                  "3": "2020-03-20 11:49:21",
                  "4": "0",
                  "5": "53.18861111111111",
                  "6": "1",
                  "7": "1",
                  "8": "2020-03-20"
                },
                {
                  "0": "L0000000S9A9",
                  "1": [
                    "00390078710133482330"
                  ],
                  "2": "2020-06-19 13:50:53",
                  "3": "2020-06-24 14:34:06",
                  "4": "0",
                  "5": "120.72027777777778",
                  "6": "1",
                  "7": "1",
                  "8": "2020-06-24"
                },
                {
                  "0": "L0000000W7QT",
                  "1": [
                    "00390078710134153192"
                  ],
                  "2": "2020-09-18 21:45:52",
                  "3": "2020-09-21 09:24:40",
                  "4": "0",
                  "5": "59.64666666666667",
                  "6": "1",
                  "7": "1",
                  "8": "2020-09-21"
                },
                {
                  "0": "L0000001E4QA",
                  "1": [
                    "00390078710138859434"
                  ],
                  "2": "2021-09-07 07:19:06",
                  "3": "2021-09-09 07:11:07",
                  "4": "0",
                  "5": "47.86694444444444",
                  "6": "1",
                  "7": "1",
                  "8": "2021-09-09"
                },
                {
                  "0": "L0000001FN3A",
                  "1": [
                    "00390078710138816994"
                  ],
                  "2": "2021-09-21 21:21:00",
                  "3": "2021-09-24 12:55:09",
                  "4": "0",
                  "5": "63.56916666666667",
                  "6": "1",
                  "7": "1",
                  "8": "2021-09-24"
                },
                {
                  "0": "FOT00037218",
                  "1": [
                    "S0000002RW6T"
                  ],
                  "2": "2020-08-10 22:18:57",
                  "3": "2020-08-13 08:40:04",
                  "4": "0",
                  "5": "58.35194444444444",
                  "6": "1",
                  "7": "1",
                  "8": "2020-08-13"
                },
                {
                  "0": "FOT00037418",
                  "1": [
                    "S0000002HOH4"
                  ],
                  "2": "2020-05-29 13:49:11",
                  "3": "2020-06-02 07:42:06",
                  "4": "0",
                  "5": "89.88194444444444",
                  "6": "1",
                  "7": "1",
                  "8": "2020-06-02"
                },
                {
                  "0": "FOT00037525",
                  "1": [
                    "S0000002KSII"
                  ],
                  "2": "2020-06-17 21:11:21",
                  "3": "2020-06-19 08:56:35",
                  "4": "0",
                  "5": "35.75388888888889",
                  "6": "1",
                  "7": "1",
                  "8": "2020-06-19"
                },
                {
                  "0": "FOT00037535",
                  "1": [
                    "S0000002KIPR"
                  ],
                  "2": "2020-06-16 22:00:06",
                  "3": "2020-06-19 08:59:44",
                  "4": "0",
                  "5": "58.99388888888889",
                  "6": "1",
                  "7": "1",
                  "8": "2020-06-19"
                },
                {
                  "0": "FOT00037928",
                  "1": [
                    "S0000002LXQ0"
                  ],
                  "2": "2020-06-29 20:30:54",
                  "3": "2020-07-01 10:45:19",
                  "4": "0",
                  "5": "38.24027777777778",
                  "6": "1",
                  "7": "1",
                  "8": "2020-07-01"
                },
                {
                  "0": "FOT00038071",
                  "1": [
                    "S0000002L0HF"
                  ],
                  "2": "2020-06-18 21:34:02",
                  "3": "2020-06-19 13:34:11",
                  "4": "0",
                  "5": "16.0025",
                  "6": "1",
                  "7": "1",
                  "8": "2020-06-19"
                },
                {
                  "0": "FOT00042163",
                  "1": [
                    "S0000004GBWW"
                  ],
                  "2": "2021-02-24 21:11:36",
                  "3": "2021-02-26 11:44:43",
                  "4": "0",
                  "5": "38.551944444444445",
                  "6": "1",
                  "7": "1",
                  "8": "2021-02-26"
                },
                {
                  "0": "FOT00042447",
                  "1": [
                    "S0000001RZWD"
                  ],
                  "2": "2019-11-01 07:21:10",
                  "3": "2019-11-04 11:40:01",
                  "4": "0",
                  "5": "76.31416666666667",
                  "6": "1",
                  "7": "1",
                  "8": "2019-11-04"
                },
                {
                  "0": "FOT00043220",
                  "1": [
                    "S0000001YMMI"
                  ],
                  "2": "2019-12-20 11:04:10",
                  "3": "2020-01-02 16:03:34",
                  "4": "0",
                  "5": "316.99",
                  "6": "1",
                  "7": "1",
                  "8": "2020-01-02"
                },
                {
                  "0": "FOT00043270",
                  "1": [
                    "S0000001LXNS"
                  ],
                  "2": "2019-09-25 22:01:29",
                  "3": "2019-09-27 06:16:44",
                  "4": "0",
                  "5": "32.25416666666667",
                  "6": "1",
                  "7": "1",
                  "8": "2019-09-27"
                },
                {
                  "0": "FOT00043736",
                  "1": [
                    "S0000001ZOFT"
                  ],
                  "2": "2020-01-10 22:12:30",
                  "3": "2020-01-21 18:51:44",
                  "4": "0",
                  "5": "260.6538888888889",
                  "6": "1",
                  "7": "1",
                  "8": "2020-01-21"
                },
                {
                  "0": "FOT00043887",
                  "1": [
                    "S00000020L50",
                    "S00000020L50"
                  ],
                  "2": "2020-01-17 07:29:32",
                  "3": "2020-01-20 14:37:54",
                  "4": "0",
                  "5": "79.13944444444445",
                  "6": "2",
                  "7": "2",
                  "8": "2020-01-20"
                },
                {
                  "0": "FOT00043950",
                  "1": [
                    "S0000008WHMO"
                  ],
                  "2": "2022-03-09 06:41:59",
                  "3": "2022-03-09 08:28:28",
                  "4": "0",
                  "5": "1.7747222222222223",
                  "6": "1",
                  "7": "1",
                  "8": "2022-03-09"
                },
                {
                  "0": "FOT00044697",
                  "1": [
                    "S00000079CRU"
                  ],
                  "2": "2021-10-07 21:55:42",
                  "3": "2021-10-11 10:01:14",
                  "4": "0",
                  "5": "84.09222222222222",
                  "6": "1",
                  "7": "1",
                  "8": "2021-10-11"
                },
                {
                  "0": "FOT00044723",
                  "1": [
                    "S0000007J38F"
                  ],
                  "2": "2021-10-27 10:43:45",
                  "3": "2021-11-02 07:21:26",
                  "4": "0",
                  "5": "140.62805555555556",
                  "6": "1",
                  "7": "1",
                  "8": "2021-11-02"
                },
                {
                  "0": "FOT00044735",
                  "1": [
                    "S0000007AEDG"
                  ],
                  "2": "2021-10-11 17:53:00",
                  "3": "2021-10-18 08:36:55",
                  "4": "0",
                  "5": "158.73194444444445",
                  "6": "1",
                  "7": "1",
                  "8": "2021-10-18"
                },
                {
                  "0": "FOT00045416",
                  "1": [
                    "S0000008ARAD"
                  ],
                  "2": "2022-01-13 22:13:36",
                  "3": "2022-01-17 12:13:46",
                  "4": "48",
                  "5": "38.00277777777778",
                  "6": "1",
                  "7": "1",
                  "8": "2022-01-17"
                },
                {
                  "0": "FOT00045769",
                  "1": [
                    "S00000091X3S"
                  ],
                  "2": "2022-03-19 09:52:31",
                  "3": "2022-03-22 12:25:03",
                  "4": "48",
                  "5": "26.54222222222222",
                  "6": "1",
                  "7": "1",
                  "8": "2022-03-22"
                },
                {
                  "0": "FOT00045803",
                  "1": [
                    "S00000095LC3"
                  ],
                  "2": "2022-03-26 09:28:45",
                  "3": "2022-03-30 10:10:24",
                  "4": "48",
                  "5": "48.69416666666666",
                  "6": "1",
                  "7": "1",
                  "8": "2022-03-30"
                },
                {
                  "0": "FOT00046919",
                  "1": [
                    "S0000001F4G8"
                  ],
                  "2": "2019-08-07 17:52:37",
                  "3": "2019-08-14 11:45:05",
                  "4": "0",
                  "5": "161.87444444444444",
                  "6": "1",
                  "7": "1",
                  "8": "2019-08-14"
                },
                {
                  "0": "FOT00048295",
                  "1": [
                    "S00000041WFF"
                  ],
                  "2": "2021-01-07 15:51:33",
                  "3": "2021-01-13 09:48:34",
                  "4": "0",
                  "5": "137.95027777777779",
                  "6": "1",
                  "7": "1",
                  "8": "2021-01-13"
                },
                {
                  "0": "FOT00049721",
                  "1": [
                    "S0000002RC8Q"
                  ],
                  "2": "2020-08-06 13:22:53",
                  "3": "2020-08-07 09:44:05",
                  "4": "0",
                  "5": "20.35333333333333",
                  "6": "1",
                  "7": "1",
                  "8": "2020-08-07"
                },
                {
                  "0": "FOT00054187",
                  "1": [
                    "S0000001J4AJ"
                  ],
                  "2": "2019-09-05 17:59:18",
                  "3": "2019-09-06 10:52:04",
                  "4": "0",
                  "5": "16.879444444444445",
                  "6": "1",
                  "7": "1",
                  "8": "2019-09-06"
                },
                {
                  "0": "FOT00061747",
                  "1": [
                    "S0000008XNLZ"
                  ],
                  "2": "2022-03-10 22:17:31",
                  "3": "2022-03-11 07:28:43",
                  "4": "0",
                  "5": "9.186666666666667",
                  "6": "1",
                  "7": "1",
                  "8": "2022-03-11"
                },
                {
                  "0": "FOT00061967",
                  "1": [
                    "S000000942QX"
                  ],
                  "2": "2022-03-23 22:10:51",
                  "3": "2022-03-25 12:11:56",
                  "4": "0",
                  "5": "38.018055555555556",
                  "6": "1",
                  "7": "1",
                  "8": "2022-03-25"
                },
                {
                  "0": "FOT00062820",
                  "1": [
                    "S000000502JT",
                    "S000000502JT"
                  ],
                  "2": "2021-04-09 08:24:56",
                  "3": "2021-04-13 08:44:20",
                  "4": "0",
                  "5": "96.32333333333334",
                  "6": "2",
                  "7": "2",
                  "8": "2021-04-13"
                },
                {
                  "0": "FOT00062883",
                  "1": [
                    "S00000055QS5"
                  ],
                  "2": "2021-04-22 22:06:54",
                  "3": "2021-04-23 11:02:45",
                  "4": "0",
                  "5": "12.930833333333334",
                  "6": "1",
                  "7": "1",
                  "8": "2021-04-23"
                },
                {
                  "0": "FOT00063219",
                  "1": [
                    "S0000005N48Z"
                  ],
                  "2": "2021-05-31 09:25:04",
                  "3": "2021-06-03 11:38:30",
                  "4": "0",
                  "5": "74.2238888888889",
                  "6": "1",
                  "7": "1",
                  "8": "2021-06-03"
                },
                {
                  "0": "FOT00063470",
                  "1": [
                    "S00000058LBM"
                  ],
                  "2": "2021-05-03 11:17:26",
                  "3": "2021-05-07 07:04:01",
                  "4": "0",
                  "5": "91.77638888888889",
                  "6": "1",
                  "7": "1",
                  "8": "2021-05-07"
                },
                {
                  "0": "FOT00063774",
                  "1": [
                    "S0000004WB5Z"
                  ],
                  "2": "2021-03-31 14:36:49",
                  "3": "2021-04-09 08:10:16",
                  "4": "0",
                  "5": "209.5575",
                  "6": "1",
                  "7": "1",
                  "8": "2021-04-09"
                },
                {
                  "0": "FOT00063906",
                  "1": [
                    "S00000050FA4"
                  ],
                  "2": "2021-04-10 06:40:58",
                  "3": "2021-04-13 08:43:48",
                  "4": "0",
                  "5": "74.04722222222222",
                  "6": "1",
                  "7": "1",
                  "8": "2021-04-13"
                },
                {
                  "0": "FOT00063916",
                  "1": [
                    "S0000005LQDI"
                  ],
                  "2": "2021-05-27 11:21:11",
                  "3": "2021-06-02 07:45:00",
                  "4": "0",
                  "5": "140.39694444444444",
                  "6": "1",
                  "7": "1",
                  "8": "2021-06-02"
                },
                {
                  "0": "FOT00064278",
                  "1": [
                    "S0000006Y5K8"
                  ],
                  "2": "2021-09-16 20:29:46",
                  "3": "2021-09-20 08:59:08",
                  "4": "0",
                  "5": "84.48944444444444",
                  "6": "1",
                  "7": "1",
                  "8": "2021-09-20"
                },
                {
                  "0": "FOT00064735",
                  "1": [
                    "S0000006OEKO"
                  ],
                  "2": "2021-08-25 15:06:46",
                  "3": "2021-08-31 15:33:29",
                  "4": "0",
                  "5": "144.4452777777778",
                  "6": "1",
                  "7": "1",
                  "8": "2021-08-31"
                },
                {
                  "0": "FOT00064931",
                  "1": [
                    "S0000006OYXF"
                  ],
                  "2": "2021-08-26 20:53:53",
                  "3": "2021-08-27 13:42:39",
                  "4": "0",
                  "5": "16.81277777777778",
                  "6": "1",
                  "7": "1",
                  "8": "2021-08-27"
                },
                {
                  "0": "FOT00065111",
                  "1": [
                    "S00000070UKA"
                  ],
                  "2": "2021-09-22 19:14:05",
                  "3": "2021-09-30 11:33:03",
                  "4": "0",
                  "5": "184.3161111111111",
                  "6": "1",
                  "7": "1",
                  "8": "2021-09-30"
                },
                {
                  "0": "FOT00069558",
                  "1": [
                    "S00000042889"
                  ],
                  "2": "2021-01-08 13:32:50",
                  "3": "2021-01-12 07:26:56",
                  "4": "0",
                  "5": "89.90166666666667",
                  "6": "1",
                  "7": "1",
                  "8": "2021-01-12"
                },
                {
                  "0": "FOT00069568",
                  "1": [
                    "S000000370S7"
                  ],
                  "2": "2020-09-27 09:23:16",
                  "3": "2020-09-29 11:22:24",
                  "4": "0",
                  "5": "49.98555555555556",
                  "6": "1",
                  "7": "1",
                  "8": "2020-09-29"
                },
                {
                  "0": "FOT00069938",
                  "1": [
                    "S0000003TRRB"
                  ],
                  "2": "2020-11-26 10:51:43",
                  "3": "2020-11-26 11:33:24",
                  "4": "0",
                  "5": "0.6947222222222222",
                  "6": "1",
                  "7": "1",
                  "8": "2020-11-26"
                },
                {
                  "0": "FOT00069980",
                  "1": [
                    "S000000354JW",
                    "S000000354JW"
                  ],
                  "2": "2020-09-22 11:08:45",
                  "3": "2020-09-24 13:53:50",
                  "4": "0",
                  "5": "50.75138888888889",
                  "6": "2",
                  "7": "2",
                  "8": "2020-09-24"
                },
                {
                  "0": "FOT00070827",
                  "1": [
                    "S0000003OOXG"
                  ],
                  "2": "2020-11-06 22:03:01",
                  "3": "2020-11-20 14:57:57",
                  "4": "0",
                  "5": "328.91555555555556",
                  "6": "1",
                  "7": "1",
                  "8": "2020-11-20"
                },
                {
                  "0": "FOT00071046",
                  "1": [
                    "S0000004INJR"
                  ],
                  "2": "2021-03-03 13:21:05",
                  "3": "2021-03-04 09:54:21",
                  "4": "0",
                  "5": "20.554444444444446",
                  "6": "1",
                  "7": "1",
                  "8": "2021-03-04"
                },
                {
                  "0": "FOT00071267",
                  "1": [
                    "S0000004EGS4"
                  ],
                  "2": "2021-02-19 10:26:56",
                  "3": "2021-02-22 10:30:28",
                  "4": "0",
                  "5": "72.05888888888889",
                  "6": "1",
                  "7": "1",
                  "8": "2021-02-22"
                },
                {
                  "0": "FOT00071475",
                  "1": [
                    "S0000004KZ8E"
                  ],
                  "2": "2021-03-08 22:12:03",
                  "3": "2021-03-11 08:40:13",
                  "4": "0",
                  "5": "58.46944444444444",
                  "6": "1",
                  "7": "1",
                  "8": "2021-03-11"
                },
                {
                  "0": "FOT00073284",
                  "1": [
                    "S0000002Q7S8"
                  ],
                  "2": "2020-07-30 08:57:11",
                  "3": "2020-07-30 08:57:17",
                  "4": "0",
                  "5": "0.0016666666666666668",
                  "6": "1",
                  "7": "1",
                  "8": "2020-07-30"
                },
                {
                  "0": "L0000000D217",
                  "1": [
                    "00390078710128986690"
                  ],
                  "2": "2019-08-07 13:23:32",
                  "3": "2019-08-09 10:33:28",
                  "4": "0",
                  "5": "45.16555555555556",
                  "6": "1",
                  "7": "1",
                  "8": "2019-08-09"
                },
                {
                  "0": "L0000000F8HW",
                  "1": [
                    "00390078720578303237"
                  ],
                  "2": "2019-09-09 21:55:48",
                  "3": "2019-09-10 12:56:01",
                  "4": "0",
                  "5": "15.00361111111111",
                  "6": "1",
                  "7": "1",
                  "8": "2019-09-10"
                },
                {
                  "0": "L0000000GV5N",
                  "1": [
                    "00390078710127976654"
                  ],
                  "2": "2019-10-10 17:35:40",
                  "3": "2019-10-14 08:18:13",
                  "4": "0",
                  "5": "86.70916666666666",
                  "6": "1",
                  "7": "1",
                  "8": "2019-10-14"
                },
                {
                  "0": "L0000000KLHX",
                  "1": [
                    "00390078720581107754"
                  ],
                  "2": "2019-12-17 14:38:55",
                  "3": "2019-12-20 09:55:54",
                  "4": "0",
                  "5": "67.28305555555555",
                  "6": "1",
                  "7": "1",
                  "8": "2019-12-20"
                },
                {
                  "0": "L0000000SI6W",
                  "1": [
                    "00390078720585370888"
                  ],
                  "2": "2020-06-23 19:51:22",
                  "3": "2020-06-24 14:32:07",
                  "4": "0",
                  "5": "18.679166666666667",
                  "6": "1",
                  "7": "1",
                  "8": "2020-06-24"
                },
                {
                  "0": "L0000001CGNM",
                  "1": [
                    "00390078710137809317"
                  ],
                  "2": "2021-08-19 12:42:37",
                  "3": "2021-08-20 13:17:08",
                  "4": "0",
                  "5": "24.575277777777778",
                  "6": "1",
                  "7": "1",
                  "8": "2021-08-20"
                },
                {
                  "0": "FOT00004639",
                  "1": [
                    "S00000098DBW"
                  ],
                  "2": "2022-03-31 08:43:37",
                  "3": "2022-03-31 12:43:59",
                  "4": "0",
                  "5": "4.006111111111111",
                  "6": "1",
                  "7": "1",
                  "8": "2022-03-31"
                },
                {
                  "0": "FOT00020574",
                  "1": [
                    "S00000024UU6"
                  ],
                  "2": "2020-02-10 22:22:30",
                  "3": "2020-02-14 07:40:02",
                  "4": "0",
                  "5": "81.29222222222222",
                  "6": "1",
                  "7": "1",
                  "8": "2020-02-14"
                },
                {
                  "0": "FOT00037224",
                  "1": [
                    "S0000002PPLR"
                  ],
                  "2": "2020-07-25 13:47:31",
                  "3": "2020-08-03 13:59:34",
                  "4": "0",
                  "5": "216.20083333333332",
                  "6": "1",
                  "7": "1",
                  "8": "2020-08-03"
                },
                {
                  "0": "FOT00037420",
                  "1": [
                    "S0000002HPZ1"
                  ],
                  "2": "2020-05-29 13:49:03",
                  "3": "2020-06-02 07:42:49",
                  "4": "0",
                  "5": "89.89611111111111",
                  "6": "1",
                  "7": "1",
                  "8": "2020-06-02"
                },
                {
                  "0": "FOT00037548",
                  "1": [
                    "S0000002J0YE"
                  ],
                  "2": "2020-06-08 12:34:22",
                  "3": "2020-06-11 13:17:17",
                  "4": "0",
                  "5": "72.71527777777777",
                  "6": "1",
                  "7": "1",
                  "8": "2020-06-11"
                },
                {
                  "0": "FOT00037569",
                  "1": [
                    "S0000002HED1"
                  ],
                  "2": "2020-05-27 22:11:30",
                  "3": "2020-05-29 17:45:55",
                  "4": "0",
                  "5": "43.57361111111111",
                  "6": "1",
                  "7": "1",
                  "8": "2020-05-29"
                },
                {
                  "0": "FOT00037760",
                  "1": [
                    "S0000005IHU2"
                  ],
                  "2": "2021-05-21 21:55:31",
                  "3": "2021-05-26 09:06:17",
                  "4": "0",
                  "5": "107.17944444444444",
                  "6": "1",
                  "7": "1",
                  "8": "2021-05-26"
                },
                {
                  "0": "FOT00038097",
                  "1": [
                    "S0000002NO0J"
                  ],
                  "2": "2020-07-11 13:46:51",
                  "3": "2020-07-20 08:13:57",
                  "4": "0",
                  "5": "210.45166666666665",
                  "6": "1",
                  "7": "1",
                  "8": "2020-07-20"
                },
                {
                  "0": "FOT00041955",
                  "1": [
                    "S000000458DD"
                  ],
                  "2": "2021-01-20 12:46:21",
                  "3": "2021-01-21 12:46:04",
                  "4": "0",
                  "5": "23.995277777777776",
                  "6": "1",
                  "7": "1",
                  "8": "2021-01-21"
                },
                {
                  "0": "FOT00042222",
                  "1": [
                    "S0000001TUI1"
                  ],
                  "2": "2019-11-12 13:12:26",
                  "3": "2019-11-13 15:23:53",
                  "4": "0",
                  "5": "26.190833333333334",
                  "6": "1",
                  "7": "1",
                  "8": "2019-11-13"
                },
                {
                  "0": "FOT00042873",
                  "1": [
                    "S0000001LTPY"
                  ],
                  "2": "2019-09-25 22:08:39",
                  "3": "2019-09-27 06:19:17",
                  "4": "0",
                  "5": "32.17722222222222",
                  "6": "1",
                  "7": "1",
                  "8": "2019-09-27"
                },
                {
                  "0": "FOT00043238",
                  "1": [
                    "S0000001XZ3N"
                  ],
                  "2": "2019-12-16 16:00:19",
                  "3": "2019-12-17 13:02:05",
                  "4": "0",
                  "5": "21.029444444444444",
                  "6": "1",
                  "7": "1",
                  "8": "2019-12-17"
                },
                {
                  "0": "FOT00044338",
                  "1": [
                    "S00000076W9W"
                  ],
                  "2": "2021-10-04 09:23:44",
                  "3": "2021-10-04 11:36:40",
                  "4": "0",
                  "5": "2.2155555555555555",
                  "6": "1",
                  "7": "1",
                  "8": "2021-10-04"
                },
                {
                  "0": "FOT00044759",
                  "1": [
                    "S00000079ZFK"
                  ],
                  "2": "2021-10-09 12:58:28",
                  "3": "2021-10-15 13:49:43",
                  "4": "0",
                  "5": "144.85416666666666",
                  "6": "1",
                  "7": "1",
                  "8": "2021-10-15"
                },
                {
                  "0": "FOT00045471",
                  "1": [
                    "S0000007K49B"
                  ],
                  "2": "2021-10-29 17:52:37",
                  "3": "2021-11-02 09:28:27",
                  "4": "0",
                  "5": "87.59722222222223",
                  "6": "1",
                  "7": "1",
                  "8": "2021-11-02"
                },
                {
                  "0": "FOT00049728",
                  "1": [
                    "S0000002RETH"
                  ],
                  "2": "2020-08-06 13:22:45",
                  "3": "2020-08-07 09:43:01",
                  "4": "0",
                  "5": "20.337777777777777",
                  "6": "1",
                  "7": "1",
                  "8": "2020-08-07"
                },
                {
                  "0": "FOT00062368",
                  "1": [
                    "S0000008L5UY"
                  ],
                  "2": "2022-02-14 13:53:43",
                  "3": "2022-02-15 07:49:57",
                  "4": "0",
                  "5": "17.93722222222222",
                  "6": "1",
                  "7": "1",
                  "8": "2022-02-15"
                },
                {
                  "0": "FOT00062534",
                  "1": [
                    "S0000008NT9B"
                  ],
                  "2": "2022-02-17 22:01:18",
                  "3": "2022-02-18 07:46:47",
                  "4": "0",
                  "5": "9.758055555555556",
                  "6": "1",
                  "7": "1",
                  "8": "2022-02-18"
                },
                {
                  "0": "FOT00063161",
                  "1": [
                    "S0000005G4KX"
                  ],
                  "2": "2021-05-18 18:30:59",
                  "3": "2021-05-20 10:37:18",
                  "4": "0",
                  "5": "40.10527777777778",
                  "6": "1",
                  "7": "1",
                  "8": "2021-05-20"
                },
                {
                  "0": "FOT00063493",
                  "1": [
                    "S0000006KEYH"
                  ],
                  "2": "2021-08-13 13:34:47",
                  "3": "2021-08-16 13:58:15",
                  "4": "0",
                  "5": "72.39111111111112",
                  "6": "1",
                  "7": "1",
                  "8": "2021-08-16"
                },
                {
                  "0": "FOT00064655",
                  "1": [
                    "S0000006UH04"
                  ],
                  "2": "2021-09-08 12:55:50",
                  "3": "2021-09-23 09:49:45",
                  "4": "0",
                  "5": "356.8986111111111",
                  "6": "1",
                  "7": "1",
                  "8": "2021-09-23"
                },
                {
                  "0": "FOT00064818",
                  "1": [
                    "S0000006Z9SR"
                  ],
                  "2": "2021-09-20 21:50:15",
                  "3": "2021-09-24 13:37:25",
                  "4": "0",
                  "5": "87.78611111111111",
                  "6": "1",
                  "7": "1",
                  "8": "2021-09-24"
                },
                {
                  "0": "FOT00064893",
                  "1": [
                    "S0000006OKG6"
                  ],
                  "2": "2021-08-26 10:38:14",
                  "3": "2021-08-27 08:45:13",
                  "4": "0",
                  "5": "22.11638888888889",
                  "6": "1",
                  "7": "1",
                  "8": "2021-08-27"
                },
                {
                  "0": "FOT00065093",
                  "1": [
                    "S0000006D1PF"
                  ],
                  "2": "2021-07-26 20:42:57",
                  "3": "2021-07-27 09:40:56",
                  "4": "0",
                  "5": "12.966388888888888",
                  "6": "1",
                  "7": "1",
                  "8": "2021-07-27"
                },
                {
                  "0": "FOT00065751",
                  "1": [
                    "S00000038HGV"
                  ],
                  "2": "2020-09-30 22:02:47",
                  "3": "2020-10-08 07:36:00",
                  "4": "0",
                  "5": "177.5536111111111",
                  "6": "1",
                  "7": "1",
                  "8": "2020-10-08"
                },
                {
                  "0": "FOT00069271",
                  "1": [
                    "S0000003493P"
                  ],
                  "2": "2020-09-19 13:53:57",
                  "3": "2020-09-24 07:30:26",
                  "4": "0",
                  "5": "113.60805555555555",
                  "6": "1",
                  "7": "1",
                  "8": "2020-09-24"
                },
                {
                  "0": "FOT00069355",
                  "1": [
                    "S0000002XXIM"
                  ],
                  "2": "2020-09-02 20:36:51",
                  "3": "2020-09-04 07:49:23",
                  "4": "0",
                  "5": "35.208888888888886",
                  "6": "1",
                  "7": "1",
                  "8": "2020-09-04"
                },
                {
                  "0": "FOT00069439",
                  "1": [
                    "S0000003KN0V"
                  ],
                  "2": "2020-10-29 09:00:12",
                  "3": "2020-10-29 14:14:24",
                  "4": "0",
                  "5": "5.236666666666666",
                  "6": "1",
                  "7": "1",
                  "8": "2020-10-29"
                },
                {
                  "0": "FOT00070694",
                  "1": [
                    "S00000042JUP"
                  ],
                  "2": "2021-01-11 19:04:01",
                  "3": "2021-01-12 11:41:23",
                  "4": "0",
                  "5": "16.622777777777777",
                  "6": "1",
                  "7": "1",
                  "8": "2021-01-12"
                },
                {
                  "0": "L0000000OJPU",
                  "1": [
                    "00390078720584777329"
                  ],
                  "2": "2020-03-07 07:31:26",
                  "3": "2020-03-11 08:27:05",
                  "4": "0",
                  "5": "96.9275",
                  "6": "1",
                  "7": "1",
                  "8": "2020-03-11"
                },
                {
                  "0": "L0000000ST0B",
                  "1": [
                    "00390078720586933808"
                  ],
                  "2": "2020-07-03 21:12:38",
                  "3": "2020-07-10 08:59:18",
                  "4": "0",
                  "5": "155.77777777777777",
                  "6": "1",
                  "7": "1",
                  "8": "2020-07-10"
                },
                {
                  "0": "FOT00029767",
                  "1": [
                    "S0000001JX4E"
                  ],
                  "2": "2019-09-12 22:10:20",
                  "3": "2019-09-13 10:10:02",
                  "4": "0",
                  "5": "11.995",
                  "6": "1",
                  "7": "1",
                  "8": "2019-09-13"
                },
                {
                  "0": "FOT00037239",
                  "1": [
                    "S0000002EGMC"
                  ],
                  "2": "2020-04-30 22:01:41",
                  "3": "2020-05-05 14:20:48",
                  "4": "0",
                  "5": "112.31861111111111",
                  "6": "1",
                  "7": "1",
                  "8": "2020-05-05"
                },
                {
                  "0": "FOT00037611",
                  "1": [
                    "S0000002F60K",
                    "S0000002F60K"
                  ],
                  "2": "2020-05-07 18:24:52",
                  "3": "2020-05-11 15:35:58",
                  "4": "0",
                  "5": "93.185",
                  "6": "2",
                  "7": "2",
                  "8": "2020-05-11"
                },
                {
                  "0": "FOT00037628",
                  "1": [
                    "S0000002ESCP"
                  ],
                  "2": "2020-05-05 17:49:58",
                  "3": "2020-05-07 15:19:25",
                  "4": "0",
                  "5": "45.490833333333335",
                  "6": "1",
                  "7": "1",
                  "8": "2020-05-07"
                },
                {
                  "0": "FOT00038061",
                  "1": [
                    "S0000002OFEX"
                  ],
                  "2": "2020-07-17 10:35:50",
                  "3": "2020-07-22 12:40:13",
                  "4": "0",
                  "5": "122.07305555555556",
                  "6": "1",
                  "7": "1",
                  "8": "2020-07-22"
                },
                {
                  "0": "FOT00042427",
                  "1": [
                    "S000000236PX"
                  ],
                  "2": "2020-01-31 19:56:39",
                  "3": "2020-02-03 10:58:14",
                  "4": "0",
                  "5": "63.02638888888889",
                  "6": "1",
                  "7": "1",
                  "8": "2020-02-03"
                },
                {
                  "0": "FOT00042458",
                  "1": [
                    "S00000022X4G"
                  ],
                  "2": "2020-01-30 22:19:02",
                  "3": "2020-02-03 14:59:03",
                  "4": "0",
                  "5": "88.66694444444444",
                  "6": "1",
                  "7": "1",
                  "8": "2020-02-03"
                },
                {
                  "0": "FOT00042548",
                  "1": [
                    "S00000024UK3"
                  ],
                  "2": "2020-02-10 22:11:21",
                  "3": "2020-02-12 08:00:22",
                  "4": "0",
                  "5": "33.816944444444445",
                  "6": "1",
                  "7": "1",
                  "8": "2020-02-12"
                },
                {
                  "0": "FOT00043286",
                  "1": [
                    "S0000001WP9J"
                  ],
                  "2": "2019-12-02 20:02:01",
                  "3": "2019-12-10 13:32:19",
                  "4": "0",
                  "5": "185.505",
                  "6": "1",
                  "7": "1",
                  "8": "2019-12-10"
                },
                {
                  "0": "FOT00043414",
                  "1": [
                    "S00000028HKO"
                  ],
                  "2": "2020-03-02 20:17:43",
                  "3": "2020-03-10 13:19:34",
                  "4": "0",
                  "5": "185.03083333333333",
                  "6": "1",
                  "7": "1",
                  "8": "2020-03-10"
                },
                {
                  "0": "FOT00043498",
                  "1": [
                    "S0000001KWCF"
                  ],
                  "2": "2019-09-19 12:55:52",
                  "3": "2019-09-20 10:51:18",
                  "4": "0",
                  "5": "21.92388888888889",
                  "6": "1",
                  "7": "1",
                  "8": "2019-09-20"
                },
                {
                  "0": "FOT00044115",
                  "1": [
                    "S0000008KYN6"
                  ],
                  "2": "2022-02-12 13:31:39",
                  "3": "2022-02-14 07:49:46",
                  "4": "48",
                  "5": "-5.698055555555555",
                  "6": "1",
                  "7": "1",
                  "8": "2022-02-14"
                },
                {
                  "0": "FOT00044233",
                  "1": [
                    "S0000007IKQC"
                  ],
                  "2": "2021-10-26 19:27:51",
                  "3": "2021-11-02 12:22:43",
                  "4": "0",
                  "5": "160.91444444444446",
                  "6": "1",
                  "7": "1",
                  "8": "2021-11-02"
                },
                {
                  "0": "FOT00044499",
                  "1": [
                    "S00000078R8W"
                  ],
                  "2": "2021-10-06 21:28:01",
                  "3": "2021-10-07 11:28:18",
                  "4": "0",
                  "5": "14.004722222222222",
                  "6": "1",
                  "7": "1",
                  "8": "2021-10-07"
                },
                {
                  "0": "FOT00044657",
                  "1": [
                    "S00000090VQF"
                  ],
                  "2": "2022-03-17 13:49:07",
                  "3": "2022-03-18 09:22:45",
                  "4": "0",
                  "5": "19.560555555555556",
                  "6": "1",
                  "7": "1",
                  "8": "2022-03-18"
                },
                {
                  "0": "FOT00045497",
                  "1": [
                    "S0000007L892"
                  ],
                  "2": "2021-11-01 20:24:58",
                  "3": "2021-11-02 09:28:00",
                  "4": "0",
                  "5": "13.050555555555556",
                  "6": "1",
                  "7": "1",
                  "8": "2021-11-02"
                },
                {
                  "0": "FOT00045616",
                  "1": [
                    "S0000008D870"
                  ],
                  "2": "2022-01-20 17:18:16",
                  "3": "2022-01-21 07:24:49",
                  "4": "0",
                  "5": "14.109166666666667",
                  "6": "1",
                  "7": "1",
                  "8": "2022-01-21"
                },
                {
                  "0": "FOT00046036",
                  "1": [
                    "S0000008SLUT"
                  ],
                  "2": "2022-02-28 21:21:53",
                  "3": "2022-03-01 10:13:42",
                  "4": "0",
                  "5": "12.863611111111112",
                  "6": "1",
                  "7": "1",
                  "8": "2022-03-01"
                },
                {
                  "0": "FOT00046092",
                  "1": [
                    "S0000008Z2K1"
                  ],
                  "2": "2022-03-14 14:28:13",
                  "3": "2022-03-15 08:17:56",
                  "4": "0",
                  "5": "17.828611111111112",
                  "6": "1",
                  "7": "1",
                  "8": "2022-03-15"
                },
                {
                  "0": "FOT00046101",
                  "1": [
                    "S0000008G6A7"
                  ],
                  "2": "2022-01-31 22:10:03",
                  "3": "2022-02-01 08:01:33",
                  "4": "0",
                  "5": "9.858333333333333",
                  "6": "1",
                  "7": "1",
                  "8": "2022-02-01"
                },
                {
                  "0": "FOT00046814",
                  "1": [
                    "S0000001NSO3"
                  ],
                  "2": "2019-10-09 20:13:03",
                  "3": "2019-10-11 07:08:09",
                  "4": "0",
                  "5": "34.91833333333334",
                  "6": "1",
                  "7": "1",
                  "8": "2019-10-11"
                },
                {
                  "0": "FOT00046899",
                  "1": [
                    "S0000001GUUJ"
                  ],
                  "2": "2019-08-19 15:02:42",
                  "3": "2019-08-20 09:59:17",
                  "4": "0",
                  "5": "18.943055555555556",
                  "6": "1",
                  "7": "1",
                  "8": "2019-08-20"
                },
                {
                  "0": "FOT00048385",
                  "1": [
                    "S0000001EMPX"
                  ],
                  "2": "2019-08-05 13:35:21",
                  "3": "2019-08-06 13:19:19",
                  "4": "0",
                  "5": "23.732777777777777",
                  "6": "1",
                  "7": "1",
                  "8": "2019-08-06"
                },
                {
                  "0": "FOT00062007",
                  "1": [
                    "S00000099HXV",
                    "S00000099HXV",
                    "S00000099HXV"
                  ],
                  "2": "2022-04-01 18:09:52",
                  "3": "2022-04-05 07:24:13",
                  "4": "48",
                  "5": "37.23916666666666",
                  "6": "3",
                  "7": "3",
                  "8": "2022-04-05"
                },
                {
                  "0": "FOT00062399",
                  "1": [
                    "S0000008GGGA"
                  ],
                  "2": "2022-02-01 11:04:37",
                  "3": "2022-02-02 07:46:27",
                  "4": "0",
                  "5": "20.697222222222223",
                  "6": "1",
                  "7": "1",
                  "8": "2022-02-02"
                },
                {
                  "0": "FOT00062417",
                  "1": [
                    "S0000008TR2D"
                  ],
                  "2": "2022-03-02 13:56:54",
                  "3": "2022-03-03 07:50:56",
                  "4": "0",
                  "5": "17.900555555555556",
                  "6": "1",
                  "7": "1",
                  "8": "2022-03-03"
                },
                {
                  "0": "FOT00063123",
                  "1": [
                    "S00000067L84"
                  ],
                  "2": "2021-07-15 13:40:46",
                  "3": "2021-07-20 11:01:45",
                  "4": "0",
                  "5": "117.34972222222223",
                  "6": "1",
                  "7": "1",
                  "8": "2021-07-20"
                },
                {
                  "0": "FOT00064454",
                  "1": [
                    "S0000006S1KZ"
                  ],
                  "2": "2021-09-02 20:02:11",
                  "3": "2021-09-07 13:51:36",
                  "4": "0",
                  "5": "113.8236111111111",
                  "6": "1",
                  "7": "1",
                  "8": "2021-09-07"
                },
                {
                  "0": "FOT00064670",
                  "1": [
                    "S0000006HFP0",
                    "S0000006HFP0"
                  ],
                  "2": "2021-08-04 21:50:05",
                  "3": "2021-08-05 11:28:53",
                  "4": "0",
                  "5": "13.646666666666667",
                  "6": "2",
                  "7": "2",
                  "8": "2021-08-05"
                },
                {
                  "0": "FOT00065117",
                  "1": [
                    "S00000069ED8"
                  ],
                  "2": "2021-07-19 20:27:25",
                  "3": "2021-07-20 11:19:52",
                  "4": "0",
                  "5": "14.874166666666667",
                  "6": "1",
                  "7": "1",
                  "8": "2021-07-20"
                },
                {
                  "0": "FOT00065332",
                  "1": [
                    "S00000067TDF"
                  ],
                  "2": "2021-07-15 13:41:13",
                  "3": "2021-07-19 13:42:09",
                  "4": "0",
                  "5": "96.01555555555555",
                  "6": "1",
                  "7": "1",
                  "8": "2021-07-19"
                },
                {
                  "0": "FOT00065671",
                  "1": [
                    "S0000005X73C"
                  ],
                  "2": "2021-06-17 21:43:12",
                  "3": "2021-06-23 07:00:51",
                  "4": "0",
                  "5": "129.29416666666665",
                  "6": "1",
                  "7": "1",
                  "8": "2021-06-23"
                },
                {
                  "0": "FOT00069245",
                  "1": [
                    "S0000002VHXY",
                    "S0000002VHXY",
                    "S0000002VHXY"
                  ],
                  "2": "2020-08-26 06:32:14",
                  "3": "2020-09-04 08:14:21",
                  "4": "0",
                  "5": "217.70194444444445",
                  "6": "3",
                  "7": "3",
                  "8": "2020-09-04"
                },
                {
                  "0": "FOT00069265",
                  "1": [
                    "S000000367OW"
                  ],
                  "2": "2020-09-24 18:15:32",
                  "3": "2020-09-29 11:22:06",
                  "4": "0",
                  "5": "113.10944444444445",
                  "6": "1",
                  "7": "1",
                  "8": "2020-09-29"
                },
                {
                  "0": "FOT00069762",
                  "1": [
                    "S0000004B38U"
                  ],
                  "2": "2021-02-10 10:18:08",
                  "3": "2021-02-17 08:23:55",
                  "4": "0",
                  "5": "166.0963888888889",
                  "6": "1",
                  "7": "1",
                  "8": "2021-02-17"
                },
                {
                  "0": "FOT00070020",
                  "1": [
                    "S00000046I30"
                  ],
                  "2": "2021-01-25 21:48:27",
                  "3": "2021-01-27 10:10:17",
                  "4": "0",
                  "5": "36.36388888888889",
                  "6": "1",
                  "7": "1",
                  "8": "2021-01-27"
                },
                {
                  "0": "FOT00070048",
                  "1": [
                    "S00000045A8R"
                  ],
                  "2": "2021-01-20 21:37:29",
                  "3": "2021-01-21 12:46:25",
                  "4": "0",
                  "5": "15.148888888888889",
                  "6": "1",
                  "7": "1",
                  "8": "2021-01-21"
                },
                {
                  "0": "FOT00070083",
                  "1": [
                    "S000000451J3"
                  ],
                  "2": "2021-01-20 12:50:28",
                  "3": "2021-01-21 10:42:43",
                  "4": "0",
                  "5": "21.870833333333334",
                  "6": "1",
                  "7": "1",
                  "8": "2021-01-21"
                },
                {
                  "0": "FOT00070697",
                  "1": [
                    "S00000042SPF"
                  ],
                  "2": "2021-01-12 10:50:10",
                  "3": "2021-01-13 11:41:13",
                  "4": "0",
                  "5": "24.850833333333334",
                  "6": "1",
                  "7": "1",
                  "8": "2021-01-13"
                },
                {
                  "0": "FOT00071034",
                  "1": [
                    "S0000003K79F"
                  ],
                  "2": "2020-10-27 12:42:28",
                  "3": "2020-10-29 11:48:12",
                  "4": "0",
                  "5": "47.095555555555556",
                  "6": "1",
                  "7": "1",
                  "8": "2020-10-29"
                },
                {
                  "0": "FOT00071506",
                  "1": [
                    "S0000004HDHB"
                  ],
                  "2": "2021-02-27 13:43:29",
                  "3": "2021-03-01 09:06:24",
                  "4": "0",
                  "5": "43.38194444444444",
                  "6": "1",
                  "7": "1",
                  "8": "2021-03-01"
                },
                {
                  "0": "L0000000CWNW",
                  "1": [
                    "00390078710127630921"
                  ],
                  "2": "2019-08-06 06:11:38",
                  "3": "2019-08-07 08:30:56",
                  "4": "0",
                  "5": "26.321666666666665",
                  "6": "1",
                  "7": "1",
                  "8": "2019-08-07"
                },
                {
                  "0": "L0000000LM46",
                  "1": [
                    "00390078720581039642"
                  ],
                  "2": "2020-01-16 20:16:06",
                  "3": "2020-01-21 08:26:04",
                  "4": "0",
                  "5": "108.1661111111111",
                  "6": "1",
                  "7": "1",
                  "8": "2020-01-21"
                },
                {
                  "0": "L0000000TFIR",
                  "1": [],
                  "2": "2020-07-20 22:34:57",
                  "3": "2020-07-27 06:32:54",
                  "4": "0",
                  "5": "151.96583333333334",
                  "6": "0",
                  "8": "2020-07-27"
                },
                {
                  "0": "L0000001FP6F",
                  "1": [
                    "00390078710138571909"
                  ],
                  "2": "2021-09-22 17:52:37",
                  "3": "2021-09-23 11:03:25",
                  "4": "0",
                  "5": "17.18",
                  "6": "1",
                  "7": "1",
                  "8": "2021-09-23"
                },
                {
                  "0": "L0000001PLTJ",
                  "1": [
                    "00390078710140583983"
                  ],
                  "2": "2022-03-21 21:59:18",
                  "3": "2022-03-23 09:29:05",
                  "4": "0",
                  "5": "35.49638888888889",
                  "6": "1",
                  "7": "1",
                  "8": "2022-03-23"
                },
                {
                  "0": "FOT00004560",
                  "1": [
                    "S0000009D271"
                  ],
                  "2": "2022-04-08 22:05:52",
                  "3": "2022-04-12 08:02:25",
                  "4": "48",
                  "5": "33.942499999999995",
                  "6": "1",
                  "7": "1",
                  "8": "2022-04-12"
                },
                {
                  "0": "FOT00004866",
                  "1": [
                    "S0000009FOM2"
                  ],
                  "2": "2022-04-14 16:00:02",
                  "3": "2022-04-19 10:18:56",
                  "4": "96",
                  "5": "18.314999999999998",
                  "6": "1",
                  "7": "1",
                  "8": "2022-04-19"
                },
                {
                  "0": "FOT00020413",
                  "1": [
                    "S0000001QI46"
                  ],
                  "2": "2019-10-23 21:53:53",
                  "3": "2019-10-30 09:25:02",
                  "4": "0",
                  "5": "155.51916666666668",
                  "6": "1",
                  "7": "1",
                  "8": "2019-10-30"
                },
                {
                  "0": "FOT00037136",
                  "1": [
                    "S0000002PLT8"
                  ],
                  "2": "2020-07-24 17:59:09",
                  "3": "2020-08-04 11:33:19",
                  "4": "0",
                  "5": "257.56944444444446",
                  "6": "1",
                  "7": "1",
                  "8": "2020-08-04"
                },
                {
                  "0": "FOT00037313",
                  "1": [
                    "S0000002OPQI"
                  ],
                  "2": "2020-07-20 14:50:00",
                  "3": "2020-07-22 12:38:23",
                  "4": "0",
                  "5": "45.80638888888889",
                  "6": "1",
                  "7": "1",
                  "8": "2020-07-22"
                },
                {
                  "0": "FOT00037334",
                  "1": [
                    "S0000002I7PM"
                  ],
                  "2": "2020-06-03 17:51:06",
                  "3": "2020-06-05 14:35:19",
                  "4": "0",
                  "5": "44.73694444444445",
                  "6": "1",
                  "7": "1",
                  "8": "2020-06-05"
                },
                {
                  "0": "FOT00038198",
                  "1": [
                    "S0000002OD7J"
                  ],
                  "2": "2020-07-16 23:37:20",
                  "3": "2020-07-22 12:39:47",
                  "4": "0",
                  "5": "133.04083333333332",
                  "6": "1",
                  "7": "1",
                  "8": "2020-07-22"
                },
                {
                  "0": "FOT00038709",
                  "1": [
                    "S0000002YV1T"
                  ],
                  "2": "2020-09-04 15:24:15",
                  "3": "2020-09-08 07:07:44",
                  "4": "0",
                  "5": "87.72472222222223",
                  "6": "1",
                  "7": "1",
                  "8": "2020-09-08"
                },
                {
                  "0": "FOT00038902",
                  "1": [
                    "S0000002WGI5"
                  ],
                  "2": "2020-08-28 22:04:36",
                  "3": "2020-08-31 12:53:41",
                  "4": "0",
                  "5": "62.81805555555555",
                  "6": "1",
                  "7": "1",
                  "8": "2020-08-31"
                },
                {
                  "0": "FOT00039402",
                  "1": [
                    "S0000002B0DD"
                  ],
                  "2": "2020-03-16 17:56:58",
                  "3": "2020-03-17 13:21:14",
                  "4": "0",
                  "5": "19.404444444444444",
                  "6": "1",
                  "7": "1",
                  "8": "2020-03-17"
                },
                {
                  "0": "FOT00042269",
                  "1": [
                    "S0000002AJNO"
                  ],
                  "2": "2020-03-12 21:59:40",
                  "3": "2020-03-16 09:40:33",
                  "4": "0",
                  "5": "83.68138888888889",
                  "6": "1",
                  "7": "1",
                  "8": "2020-03-16"
                },
                {
                  "0": "FOT00042842",
                  "1": [
                    "S00000026UEK"
                  ],
                  "2": "2020-02-21 15:58:44",
                  "3": "2020-02-24 09:10:46",
                  "4": "0",
                  "5": "65.20055555555555",
                  "6": "1",
                  "7": "1",
                  "8": "2020-02-24"
                },
                {
                  "0": "FOT00043203",
                  "1": [
                    "S0000001YSAX"
                  ],
                  "2": "2020-01-02 13:44:35",
                  "3": "2020-01-06 08:58:39",
                  "4": "0",
                  "5": "91.23444444444445",
                  "6": "1",
                  "7": "1",
                  "8": "2020-01-06"
                },
                {
                  "0": "FOT00043497",
                  "1": [
                    "S0000001KX2M"
                  ],
                  "2": "2019-09-19 12:56:09",
                  "3": "2019-09-20 10:51:26",
                  "4": "0",
                  "5": "21.921388888888888",
                  "6": "1",
                  "7": "1",
                  "8": "2019-09-20"
                },
                {
                  "0": "FOT00044269",
                  "1": [
                    "S0000008LL0D"
                  ],
                  "2": "2022-02-14 22:07:24",
                  "3": "2022-02-15 07:48:22",
                  "4": "0",
                  "5": "9.682777777777778",
                  "6": "1",
                  "7": "1",
                  "8": "2022-02-15"
                },
                {
                  "0": "FOT00044873",
                  "1": [
                    "S0000007P7RM"
                  ],
                  "2": "2021-11-08 14:57:16",
                  "3": "2021-11-11 14:49:52",
                  "4": "0",
                  "5": "71.87666666666667",
                  "6": "1",
                  "7": "1",
                  "8": "2021-11-11"
                },
                {
                  "0": "FOT00045951",
                  "1": [
                    "S0000008R85G"
                  ],
                  "2": "2022-02-24 16:34:28",
                  "3": "2022-02-25 08:24:57",
                  "4": "0",
                  "5": "15.841388888888888",
                  "6": "1",
                  "7": "1",
                  "8": "2022-02-25"
                },
                {
                  "0": "FOT00046186",
                  "1": [
                    "S0000008ELHS"
                  ],
                  "2": "2022-01-25 22:12:35",
                  "3": "2022-01-26 08:15:50",
                  "4": "0",
                  "5": "10.054166666666667",
                  "6": "1",
                  "7": "1",
                  "8": "2022-01-26"
                },
                {
                  "0": "FOT00046527",
                  "1": [
                    "S0000002636M"
                  ],
                  "2": "2020-02-18 17:36:25",
                  "3": "2020-02-20 08:05:04",
                  "4": "0",
                  "5": "38.4775",
                  "6": "1",
                  "7": "1",
                  "8": "2020-02-20"
                },
                {
                  "0": "FOT00046876",
                  "1": [
                    "S0000001HHCZ"
                  ],
                  "2": "2019-08-23 14:29:13",
                  "3": "2019-08-27 08:13:11",
                  "4": "0",
                  "5": "89.73277777777778",
                  "6": "1",
                  "7": "1",
                  "8": "2019-08-27"
                },
                {
                  "0": "FOT00046902",
                  "1": [
                    "S0000001EV3T"
                  ],
                  "2": "2019-08-06 14:53:10",
                  "3": "2019-08-14 09:15:22",
                  "4": "0",
                  "5": "186.37",
                  "6": "1",
                  "7": "1",
                  "8": "2019-08-14"
                },
                {
                  "0": "FOT00048380",
                  "1": [
                    "S0000001ENQR"
                  ],
                  "2": "2019-08-05 13:36:24",
                  "3": "2019-08-12 10:46:39",
                  "4": "0",
                  "5": "165.17083333333332",
                  "6": "1",
                  "7": "1",
                  "8": "2019-08-12"
                },
                {
                  "0": "FOT00050607",
                  "1": [
                    "S0000001N59J"
                  ],
                  "2": "2019-10-04 22:11:17",
                  "3": "2019-10-10 13:48:24",
                  "4": "0",
                  "5": "135.6186111111111",
                  "6": "1",
                  "7": "1",
                  "8": "2019-10-10"
                },
                {
                  "0": "FOT00061638",
                  "1": [
                    "S0000009561H"
                  ],
                  "2": "2022-03-25 14:26:29",
                  "3": "2022-03-29 13:03:43",
                  "4": "48",
                  "5": "46.620555555555555",
                  "6": "1",
                  "7": "1",
                  "8": "2022-03-29"
                },
                {
                  "0": "FOT00062262",
                  "1": [
                    "S0000008SWMX"
                  ],
                  "2": "2022-03-01 13:55:46",
                  "3": "2022-03-02 07:33:53",
                  "4": "0",
                  "5": "17.635277777777777",
                  "6": "1",
                  "7": "1",
                  "8": "2022-03-02"
                },
                {
                  "0": "FOT00062331",
                  "1": [
                    "S0000008SRHB"
                  ],
                  "2": "2022-03-01 06:55:13",
                  "3": "2022-03-01 11:47:00",
                  "4": "0",
                  "5": "4.8630555555555555",
                  "6": "1",
                  "7": "1",
                  "8": "2022-03-01"
                },
                {
                  "0": "FOT00062388",
                  "1": [
                    "S0000008HOCK"
                  ],
                  "2": "2022-02-04 13:53:20",
                  "3": "2022-02-07 07:47:04",
                  "4": "48",
                  "5": "17.89555555555556",
                  "6": "1",
                  "7": "1",
                  "8": "2022-02-07"
                },
                {
                  "0": "FOT00062512",
                  "1": [
                    "S0000008O2HV"
                  ],
                  "2": "2022-02-18 11:17:56",
                  "3": "2022-02-18 12:57:40",
                  "4": "0",
                  "5": "1.6622222222222223",
                  "6": "1",
                  "7": "1",
                  "8": "2022-02-18"
                },
                {
                  "0": "FOT00063278",
                  "1": [
                    "S00000051XMH"
                  ],
                  "2": "2021-04-13 15:29:13",
                  "3": "2021-04-14 17:27:31",
                  "4": "0",
                  "5": "25.971666666666668",
                  "6": "1",
                  "7": "1",
                  "8": "2021-04-14"
                },
                {
                  "0": "FOT00063775",
                  "1": [
                    "S0000004UH32"
                  ],
                  "2": "2021-03-26 21:42:22",
                  "3": "2021-03-29 10:38:16",
                  "4": "0",
                  "5": "60.931666666666665",
                  "6": "1",
                  "7": "1",
                  "8": "2021-03-29"
                },
                {
                  "0": "FOT00064299",
                  "1": [
                    "S0000006WAYE"
                  ],
                  "2": "2021-09-13 21:30:27",
                  "3": "2021-09-20 11:15:01",
                  "4": "0",
                  "5": "157.74277777777777",
                  "6": "1",
                  "7": "1",
                  "8": "2021-09-20"
                },
                {
                  "0": "FOT00065096",
                  "1": [
                    "S0000006M0NO"
                  ],
                  "2": "2021-08-18 22:08:56",
                  "3": "2021-08-19 10:39:03",
                  "4": "0",
                  "5": "12.501944444444444",
                  "6": "1",
                  "7": "1",
                  "8": "2021-08-19"
                },
                {
                  "0": "FOT00069317",
                  "1": [
                    "S0000002WJIX"
                  ],
                  "2": "2020-08-29 07:07:05",
                  "3": "2020-08-31 12:53:15",
                  "4": "0",
                  "5": "53.769444444444446",
                  "6": "1",
                  "7": "1",
                  "8": "2020-08-31"
                },
                {
                  "0": "FOT00069639",
                  "1": [
                    "S0000004M0LV",
                    "S0000004M0LV"
                  ],
                  "2": "2021-03-10 11:14:15",
                  "3": "2021-03-11 10:08:47",
                  "4": "0",
                  "5": "22.90888888888889",
                  "6": "2",
                  "7": "2",
                  "8": "2021-03-11"
                },
                {
                  "0": "FOT00070019",
                  "1": [
                    "S00000046JBV"
                  ],
                  "2": "2021-01-25 21:48:41",
                  "3": "2021-01-27 11:37:32",
                  "4": "0",
                  "5": "37.814166666666665",
                  "6": "1",
                  "7": "1",
                  "8": "2021-01-27"
                },
                {
                  "0": "FOT00070022",
                  "1": [
                    "S00000046H2S"
                  ],
                  "2": "2021-01-25 21:48:33",
                  "3": "2021-01-27 10:10:13",
                  "4": "0",
                  "5": "36.361111111111114",
                  "6": "1",
                  "7": "1",
                  "8": "2021-01-27"
                },
                {
                  "0": "FOT00070340",
                  "1": [
                    "S00000049UM4"
                  ],
                  "2": "2021-02-05 13:31:41",
                  "3": "2021-02-08 12:29:07",
                  "4": "0",
                  "5": "70.95722222222223",
                  "6": "1",
                  "7": "1",
                  "8": "2021-02-08"
                },
                {
                  "0": "FOT00071074",
                  "1": [
                    "S0000004B2NG"
                  ],
                  "2": "2021-02-10 07:53:07",
                  "3": "2021-02-17 08:24:07",
                  "4": "0",
                  "5": "168.51666666666668",
                  "6": "1",
                  "7": "1",
                  "8": "2021-02-17"
                },
                {
                  "0": "IP00699037",
                  "1": [
                    "00390078710127360903"
                  ],
                  "2": "2019-08-20 07:05:34",
                  "3": "2019-08-21 10:19:55",
                  "4": "0",
                  "5": "27.239166666666666",
                  "6": "1",
                  "7": "1",
                  "8": "2019-08-21"
                },
                {
                  "0": "L0000000CBAA",
                  "1": [
                    "00390078710127228128",
                    "00390078710127228128"
                  ],
                  "2": "2019-07-26 06:46:50",
                  "3": "2019-07-31 09:19:18",
                  "4": "0",
                  "5": "122.5411111111111",
                  "6": "2",
                  "7": "2",
                  "8": "2019-07-31"
                },
                {
                  "0": "L0000000F8GB",
                  "1": [
                    "00390078720578305378"
                  ],
                  "2": "2019-09-09 21:55:25",
                  "3": "2019-09-10 12:56:30",
                  "4": "0",
                  "5": "15.018055555555556",
                  "6": "1",
                  "7": "1",
                  "8": "2019-09-10"
                },
                {
                  "0": "L0000000JJXI",
                  "1": [
                    "00390078720579301089"
                  ],
                  "2": "2019-11-29 14:26:46",
                  "3": "2019-12-03 08:36:02",
                  "4": "0",
                  "5": "90.15444444444445",
                  "6": "1",
                  "7": "1",
                  "8": "2019-12-03"
                },
                {
                  "0": "L0000000S9BD",
                  "1": [
                    "00390078710133654140"
                  ],
                  "2": "2020-06-19 13:51:10",
                  "3": "2020-06-24 14:35:31",
                  "4": "0",
                  "5": "120.73916666666666",
                  "6": "1",
                  "7": "1",
                  "8": "2020-06-24"
                },
                {
                  "0": "L0000001ERB7",
                  "1": [
                    "00390078720596657411",
                    "00390078720596657411"
                  ],
                  "2": "2021-09-09 08:33:15",
                  "3": "2021-09-14 08:45:58",
                  "4": "0",
                  "5": "120.21194444444444",
                  "6": "2",
                  "7": "2",
                  "8": "2021-09-14"
                },
                {
                  "0": "FOT00003983",
                  "1": [
                    "S0000009157C"
                  ],
                  "2": "2022-03-17 21:16:19",
                  "3": "2022-03-18 09:25:37",
                  "4": "0",
                  "5": "12.155",
                  "6": "1",
                  "7": "1",
                  "8": "2022-03-18"
                },
                {
                  "0": "FOT00020447",
                  "1": [
                    "S0000001JQIL"
                  ],
                  "2": "2019-09-11 20:17:13",
                  "3": "2019-09-13 10:57:11",
                  "4": "0",
                  "5": "38.666111111111114",
                  "6": "1",
                  "7": "1",
                  "8": "2019-09-13"
                },
                {
                  "0": "FOT00037608",
                  "1": [
                    "S0000002F73O",
                    "S0000002F73O"
                  ],
                  "2": "2020-05-07 18:25:07",
                  "3": "2020-05-11 15:35:33",
                  "4": "0",
                  "5": "93.17388888888888",
                  "6": "2",
                  "7": "2",
                  "8": "2020-05-11"
                },
                {
                  "0": "FOT00038089",
                  "1": [
                    "S0000002N6K6"
                  ],
                  "2": "2020-07-08 13:48:24",
                  "3": "2020-07-13 08:16:04",
                  "4": "0",
                  "5": "114.46111111111111",
                  "6": "1",
                  "7": "1",
                  "8": "2020-07-13"
                },
                {
                  "0": "FOT00038201",
                  "1": [
                    "S0000002Q28L"
                  ],
                  "2": "2020-07-29 21:58:14",
                  "3": "2020-07-30 11:25:53",
                  "4": "0",
                  "5": "13.460833333333333",
                  "6": "1",
                  "7": "1",
                  "8": "2020-07-30"
                },
                {
                  "0": "FOT00041710",
                  "1": [
                    "S0000004HK9O"
                  ],
                  "2": "2021-03-01 13:37:28",
                  "3": "2021-03-04 07:46:44",
                  "4": "0",
                  "5": "66.15444444444445",
                  "6": "1",
                  "7": "1",
                  "8": "2021-03-04"
                },
                {
                  "0": "FOT00042318",
                  "1": [
                    "S00000025DMQ"
                  ],
                  "2": "2020-02-13 09:05:20",
                  "3": "2020-02-14 09:27:12",
                  "4": "0",
                  "5": "24.364444444444445",
                  "6": "1",
                  "7": "1",
                  "8": "2020-02-14"
                },
                {
                  "0": "FOT00042673",
                  "1": [
                    "S00000023JW2"
                  ],
                  "2": "2020-02-04 17:40:55",
                  "3": "2020-02-05 11:02:38",
                  "4": "0",
                  "5": "17.361944444444443",
                  "6": "1",
                  "7": "1",
                  "8": "2020-02-05"
                },
                {
                  "0": "FOT00042856",
                  "1": [
                    "S0000001UUES"
                  ],
                  "2": "2019-11-19 14:04:08",
                  "3": "2019-11-22 13:06:40",
                  "4": "0",
                  "5": "71.04222222222222",
                  "6": "1",
                  "7": "1",
                  "8": "2019-11-22"
                },
                {
                  "0": "FOT00042893",
                  "1": [
                    "S0000001UUQF"
                  ],
                  "2": "2019-11-19 17:31:38",
                  "3": "2019-11-21 10:24:55",
                  "4": "0",
                  "5": "40.88805555555555",
                  "6": "1",
                  "7": "1",
                  "8": "2019-11-21"
                },
                {
                  "0": "FOT00043517",
                  "1": [
                    "S0000002517A"
                  ],
                  "2": "2020-02-11 22:19:03",
                  "3": "2020-02-12 13:41:18",
                  "4": "0",
                  "5": "15.370833333333334",
                  "6": "1",
                  "7": "1",
                  "8": "2020-02-12"
                },
                {
                  "0": "FOT00043828",
                  "1": [
                    "S000000259KK"
                  ],
                  "2": "2020-02-12 22:17:49",
                  "3": "2020-02-14 07:38:04",
                  "4": "0",
                  "5": "33.3375",
                  "6": "1",
                  "7": "1",
                  "8": "2020-02-14"
                },
                {
                  "0": "FOT00046635",
                  "1": [
                    "S0000001IMNR"
                  ],
                  "2": "2019-09-03 12:12:03",
                  "3": "2019-09-04 09:57:40",
                  "4": "0",
                  "5": "21.760277777777777",
                  "6": "1",
                  "7": "1",
                  "8": "2019-09-04"
                },
                {
                  "0": "FOT00046895",
                  "1": [
                    "S0000001GMFH"
                  ],
                  "2": "2019-08-16 11:12:45",
                  "3": "2019-08-20 09:57:20",
                  "4": "0",
                  "5": "94.74305555555556",
                  "6": "1",
                  "7": "1",
                  "8": "2019-08-20"
                },
                {
                  "0": "FOT00046936",
                  "1": [
                    "S0000001GD10"
                  ],
                  "2": "2019-08-15 08:56:19",
                  "3": "2019-08-22 16:35:08",
                  "4": "0",
                  "5": "175.64694444444444",
                  "6": "1",
                  "7": "1",
                  "8": "2019-08-22"
                },
                {
                  "0": "FOT00046996",
                  "1": [
                    "S0000001IAFH"
                  ],
                  "2": "2019-08-30 09:18:17",
                  "3": "2019-09-02 13:16:02",
                  "4": "0",
                  "5": "75.9625",
                  "6": "1",
                  "7": "1",
                  "8": "2019-09-02"
                },
                {
                  "0": "FOT00047926",
                  "1": [
                    "S0000001GBGE"
                  ],
                  "2": "2019-08-14 22:12:06",
                  "3": "2019-08-15 09:40:09",
                  "4": "0",
                  "5": "11.4675",
                  "6": "1",
                  "7": "1",
                  "8": "2019-08-15"
                },
                {
                  "0": "FOT00048298",
                  "1": [
                    "S0000001J7YQ"
                  ],
                  "2": "2019-09-06 12:02:04",
                  "3": "2019-09-25 09:30:27",
                  "4": "0",
                  "5": "453.47305555555556",
                  "6": "1",
                  "7": "1",
                  "8": "2019-09-25"
                },
                {
                  "0": "FOT00061778",
                  "1": [
                    "S00000092HJF"
                  ],
                  "2": "2022-03-21 13:03:27",
                  "3": "2022-03-24 08:50:27",
                  "4": "0",
                  "5": "67.78333333333333",
                  "6": "1",
                  "7": "1",
                  "8": "2022-03-24"
                },
                {
                  "0": "FOT00061881",
                  "1": [
                    "S0000008QPC9"
                  ],
                  "2": "2022-02-23 15:38:49",
                  "3": "2022-02-24 07:51:06",
                  "4": "0",
                  "5": "16.204722222222223",
                  "6": "1",
                  "7": "1",
                  "8": "2022-02-24"
                },
                {
                  "0": "FOT00061889",
                  "1": [
                    "S00000090UKE"
                  ],
                  "2": "2022-03-17 13:49:18",
                  "3": "2022-03-18 09:19:42",
                  "4": "0",
                  "5": "19.506666666666668",
                  "6": "1",
                  "7": "1",
                  "8": "2022-03-18"
                },
                {
                  "0": "FOT00061905",
                  "1": [
                    "S0000008SP4K"
                  ],
                  "2": "2022-02-28 21:24:16",
                  "3": "2022-03-01 10:12:47",
                  "4": "0",
                  "5": "12.80861111111111",
                  "6": "1",
                  "7": "1",
                  "8": "2022-03-01"
                },
                {
                  "0": "FOT00062836",
                  "1": [
                    "S00000051OK3"
                  ],
                  "2": "2021-04-13 15:29:32",
                  "3": "2021-04-14 09:16:00",
                  "4": "0",
                  "5": "17.774444444444445",
                  "6": "1",
                  "7": "1",
                  "8": "2021-04-14"
                },
                {
                  "0": "FOT00063147",
                  "1": [
                    "S0000005FAH7"
                  ],
                  "2": "2021-05-17 21:34:28",
                  "3": "2021-05-18 10:22:11",
                  "4": "0",
                  "5": "12.795277777777779",
                  "6": "1",
                  "7": "1",
                  "8": "2021-05-18"
                },
                {
                  "0": "FOT00063533",
                  "1": [
                    "S0000006FN5M"
                  ],
                  "2": "2021-07-30 11:57:50",
                  "3": "2021-08-02 15:59:57",
                  "4": "0",
                  "5": "76.03527777777778",
                  "6": "1",
                  "7": "1",
                  "8": "2021-08-02"
                },
                {
                  "0": "FOT00064329",
                  "1": [
                    "S0000006TYW4"
                  ],
                  "2": "2021-09-07 15:37:33",
                  "3": "2021-09-08 10:26:01",
                  "4": "0",
                  "5": "18.807777777777776",
                  "6": "1",
                  "7": "1",
                  "8": "2021-09-08"
                },
                {
                  "0": "FOT00064856",
                  "1": [
                    "S0000006ZCKY"
                  ],
                  "2": "2021-09-20 21:16:58",
                  "3": "2021-09-21 10:15:25",
                  "4": "0",
                  "5": "12.974166666666667",
                  "6": "1",
                  "7": "1",
                  "8": "2021-09-21"
                },
                {
                  "0": "FOT00065378",
                  "1": [
                    "S0000006HT3C"
                  ],
                  "2": "2021-08-05 17:03:47",
                  "3": "2021-08-09 08:21:09",
                  "4": "0",
                  "5": "87.28944444444444",
                  "6": "1",
                  "7": "1",
                  "8": "2021-08-09"
                },
                {
                  "0": "FOT00065637",
                  "1": [
                    "S0000006T9BH"
                  ],
                  "2": "2021-09-06 15:59:12",
                  "3": "2021-09-08 09:58:30",
                  "4": "0",
                  "5": "41.98833333333334",
                  "6": "1",
                  "7": "1",
                  "8": "2021-09-08"
                },
                {
                  "0": "FOT00065686",
                  "1": [
                    "S00000060R2A"
                  ],
                  "2": "2021-06-25 21:01:14",
                  "3": "2021-07-01 14:29:37",
                  "4": "0",
                  "5": "137.47305555555556",
                  "6": "1",
                  "7": "1",
                  "8": "2021-07-01"
                },
                {
                  "0": "FOT00069349",
                  "1": [
                    "S0000002YHLI"
                  ],
                  "2": "2020-09-03 20:22:34",
                  "3": "2020-09-04 10:49:54",
                  "4": "0",
                  "5": "14.455555555555556",
                  "6": "1",
                  "7": "1",
                  "8": "2020-09-04"
                },
                {
                  "0": "FOT00069363",
                  "1": [
                    "S0000002XYJM"
                  ],
                  "2": "2020-09-02 20:39:14",
                  "3": "2020-09-04 07:52:21",
                  "4": "0",
                  "5": "35.21861111111111",
                  "6": "1",
                  "7": "1",
                  "8": "2020-09-04"
                },
                {
                  "0": "FOT00069468",
                  "1": [
                    "S00000032440"
                  ],
                  "2": "2020-09-14 18:47:11",
                  "3": "2020-09-23 07:59:35",
                  "4": "0",
                  "5": "205.20666666666668",
                  "6": "1",
                  "7": "1",
                  "8": "2020-09-23"
                },
                {
                  "0": "FOT00071039",
                  "1": [
                    "S0000004KJSY"
                  ],
                  "2": "2021-03-05 20:10:02",
                  "3": "2021-03-09 08:02:12",
                  "4": "0",
                  "5": "83.86944444444444",
                  "6": "1",
                  "7": "1",
                  "8": "2021-03-09"
                },
                {
                  "0": "FOT00071280",
                  "1": [
                    "S0000003IQB6"
                  ],
                  "2": "2020-10-23 22:04:31",
                  "3": "2020-10-26 10:16:13",
                  "4": "0",
                  "5": "60.195",
                  "6": "1",
                  "7": "1",
                  "8": "2020-10-26"
                },
                {
                  "0": "FOT00071435",
                  "1": [
                    "S0000004JMWT"
                  ],
                  "2": "2021-03-04 13:48:38",
                  "3": "2021-03-09 08:07:37",
                  "4": "0",
                  "5": "114.3163888888889",
                  "6": "1",
                  "7": "1",
                  "8": "2021-03-09"
                },
                {
                  "0": "FOT00071631",
                  "1": [
                    "S0000004G68O"
                  ],
                  "2": "2021-02-24 22:12:36",
                  "3": "2021-02-26 08:42:43",
                  "4": "0",
                  "5": "34.50194444444445",
                  "6": "1",
                  "7": "1",
                  "8": "2021-02-26"
                },
                {
                  "0": "L0000000F3IA",
                  "1": [
                    "00390078710127968277"
                  ],
                  "2": "2019-09-07 12:17:54",
                  "3": "2019-09-10 10:53:49",
                  "4": "0",
                  "5": "70.59861111111111",
                  "6": "1",
                  "7": "1",
                  "8": "2019-09-10"
                },
                {
                  "0": "L0000001AX72",
                  "1": [
                    "00390078710138777127"
                  ],
                  "2": "2021-08-03 21:45:49",
                  "3": "2021-08-06 08:26:52",
                  "4": "0",
                  "5": "58.68416666666667",
                  "6": "1",
                  "7": "1",
                  "8": "2021-08-06"
                },
                {
                  "0": "L0000001NFHF",
                  "1": [
                    "00390078720600010034"
                  ],
                  "2": "2022-02-02 22:18:12",
                  "3": "2022-02-03 09:59:13",
                  "4": "0",
                  "5": "11.68361111111111",
                  "6": "1",
                  "7": "1",
                  "8": "2022-02-03"
                },
                {
                  "0": "FOT00037180",
                  "1": [
                    "S00000028BWB"
                  ],
                  "2": "2020-02-29 13:55:57",
                  "3": "2020-03-06 10:12:25",
                  "4": "0",
                  "5": "140.27444444444444",
                  "6": "1",
                  "7": "1",
                  "8": "2020-03-06"
                },
                {
                  "0": "FOT00038337",
                  "1": [
                    "S00000027NUV"
                  ],
                  "2": "2020-02-27 10:35:28",
                  "3": "2020-03-03 11:30:39",
                  "4": "0",
                  "5": "120.91972222222222",
                  "6": "1",
                  "7": "1",
                  "8": "2020-03-03"
                },
                {
                  "0": "FOT00042787",
                  "1": [
                    "S0000002496Y"
                  ],
                  "2": "2020-02-07 13:00:29",
                  "3": "2020-02-11 08:05:27",
                  "4": "0",
                  "5": "91.08277777777778",
                  "6": "1",
                  "7": "1",
                  "8": "2020-02-11"
                },
                {
                  "0": "FOT00042795",
                  "1": [
                    "S0000002456I"
                  ],
                  "2": "2020-02-06 15:48:11",
                  "3": "2020-02-10 09:24:44",
                  "4": "0",
                  "5": "89.60916666666667",
                  "6": "1",
                  "7": "1",
                  "8": "2020-02-10"
                },
                {
                  "0": "FOT00042902",
                  "1": [
                    "S00000022PQ1"
                  ],
                  "2": "2020-01-29 22:15:43",
                  "3": "2020-01-30 11:25:48",
                  "4": "0",
                  "5": "13.168055555555556",
                  "6": "1",
                  "7": "1",
                  "8": "2020-01-30"
                },
                {
                  "0": "FOT00042914",
                  "1": [
                    "S0000002SSRJ"
                  ],
                  "2": "2020-08-17 12:09:21",
                  "3": "2020-08-21 13:43:55",
                  "4": "0",
                  "5": "97.57611111111112",
                  "6": "1",
                  "7": "1",
                  "8": "2020-08-21"
                },
                {
                  "0": "FOT00043080",
                  "1": [
                    "S00000020JHE"
                  ],
                  "2": "2020-01-16 22:00:27",
                  "3": "2020-01-17 11:06:25",
                  "4": "0",
                  "5": "13.099444444444444",
                  "6": "1",
                  "7": "1",
                  "8": "2020-01-17"
                },
                {
                  "0": "FOT00043261",
                  "1": [
                    "S00000020BTF"
                  ],
                  "2": "2020-01-16 10:04:15",
                  "3": "2020-01-17 06:04:21",
                  "4": "0",
                  "5": "20.001666666666665",
                  "6": "1",
                  "7": "1",
                  "8": "2020-01-17"
                },
                {
                  "0": "FOT00043583",
                  "1": [
                    "S0000001ZI36"
                  ],
                  "2": "2020-01-09 16:10:16",
                  "3": "2020-01-14 05:56:10",
                  "4": "0",
                  "5": "109.765",
                  "6": "1",
                  "7": "1",
                  "8": "2020-01-14"
                },
                {
                  "0": "FOT00043609",
                  "1": [
                    "S00000028GZX"
                  ],
                  "2": "2020-03-02 19:41:14",
                  "3": "2020-03-09 09:09:32",
                  "4": "0",
                  "5": "157.47166666666666",
                  "6": "1",
                  "7": "1",
                  "8": "2020-03-09"
                },
                {
                  "0": "FOT00043678",
                  "1": [
                    "S00000022KSP"
                  ],
                  "2": "2020-01-29 10:21:03",
                  "3": "2020-01-30 14:37:43",
                  "4": "0",
                  "5": "28.27777777777778",
                  "6": "1",
                  "7": "1",
                  "8": "2020-01-30"
                },
                {
                  "0": "FOT00044278",
                  "1": [
                    "S00000095AGL"
                  ],
                  "2": "2022-03-25 18:28:35",
                  "3": "2022-03-30 07:44:23",
                  "4": "48",
                  "5": "61.263333333333335",
                  "6": "1",
                  "7": "1",
                  "8": "2022-03-30"
                },
                {
                  "0": "FOT00044306",
                  "1": [
                    "S0000006ZVFR"
                  ],
                  "2": "2021-09-21 18:43:09",
                  "3": "2021-09-22 11:39:07",
                  "4": "0",
                  "5": "16.932777777777776",
                  "6": "1",
                  "7": "1",
                  "8": "2021-09-22"
                },
                {
                  "0": "FOT00044846",
                  "1": [
                    "S0000007LBKO",
                    "S0000007LBKO"
                  ],
                  "2": "2021-11-02 06:25:28",
                  "3": "2021-11-03 06:36:21",
                  "4": "0",
                  "5": "24.18138888888889",
                  "6": "2",
                  "7": "2",
                  "8": "2021-11-03"
                },
                {
                  "0": "FOT00044852",
                  "1": [
                    "S0000008ERIU"
                  ],
                  "2": "2022-01-26 12:12:24",
                  "3": "2022-01-27 08:07:03",
                  "4": "0",
                  "5": "19.910833333333333",
                  "6": "1",
                  "7": "1",
                  "8": "2022-01-27"
                },
                {
                  "0": "FOT00046541",
                  "1": [
                    "S0000008PDVQ"
                  ],
                  "2": "2022-02-21 19:03:38",
                  "3": "2022-02-22 07:22:33",
                  "4": "0",
                  "5": "12.315277777777778",
                  "6": "1",
                  "7": "1",
                  "8": "2022-02-22"
                },
                {
                  "0": "FOT00046849",
                  "1": [
                    "S0000001FKI6"
                  ],
                  "2": "2019-08-09 14:03:16",
                  "3": "2019-08-15 10:36:14",
                  "4": "0",
                  "5": "140.54944444444445",
                  "6": "1",
                  "7": "1",
                  "8": "2019-08-15"
                },
                {
                  "0": "FOT00046854",
                  "1": [
                    "S0000001FBT4"
                  ],
                  "2": "2019-08-08 13:33:28",
                  "3": "2019-08-09 11:55:03",
                  "4": "0",
                  "5": "22.35972222222222",
                  "6": "1",
                  "7": "1",
                  "8": "2019-08-09"
                },
                {
                  "0": "FOT00046938",
                  "1": [
                    "S0000001EQJH"
                  ],
                  "2": "2019-08-05 19:28:08",
                  "3": "2019-08-12 15:23:25",
                  "4": "0",
                  "5": "163.92138888888888",
                  "6": "1",
                  "7": "1",
                  "8": "2019-08-12"
                },
                {
                  "0": "FOT00048657",
                  "1": [
                    "S0000001CO6I"
                  ],
                  "2": "2019-07-29 14:09:14",
                  "3": "2019-08-02 15:38:09",
                  "4": "0",
                  "5": "97.48194444444445",
                  "6": "1",
                  "7": "1",
                  "8": "2019-08-02"
                },
                {
                  "0": "FOT00049683",
                  "1": [
                    "S000000370YE"
                  ],
                  "2": "2020-09-27 09:22:59",
                  "3": "2020-09-29 11:22:18",
                  "4": "0",
                  "5": "49.98861111111111",
                  "6": "1",
                  "7": "1",
                  "8": "2020-09-29"
                },
                {
                  "0": "FOT00061823",
                  "1": [
                    "S00000092SVO"
                  ],
                  "2": "2022-03-21 22:11:37",
                  "3": "2022-03-23 10:31:32",
                  "4": "0",
                  "5": "36.331944444444446",
                  "6": "1",
                  "7": "1",
                  "8": "2022-03-23"
                },
                {
                  "0": "FOT00061891",
                  "1": [
                    "S00000090UMT"
                  ],
                  "2": "2022-03-17 13:49:40",
                  "3": "2022-03-18 09:26:27",
                  "4": "0",
                  "5": "19.613055555555555",
                  "6": "1",
                  "7": "1",
                  "8": "2022-03-18"
                },
                {
                  "0": "FOT00062294",
                  "1": [
                    "S0000008U821"
                  ],
                  "2": "2022-03-03 13:52:55",
                  "3": "2022-03-04 09:16:52",
                  "4": "0",
                  "5": "19.399166666666666",
                  "6": "1",
                  "7": "1",
                  "8": "2022-03-04"
                },
                {
                  "0": "FOT00062528",
                  "1": [
                    "S0000008PDR9"
                  ],
                  "2": "2022-02-21 18:53:16",
                  "3": "2022-02-22 07:23:19",
                  "4": "0",
                  "5": "12.500833333333333",
                  "6": "1",
                  "7": "1",
                  "8": "2022-02-22"
                },
                {
                  "0": "FOT00062822",
                  "1": [
                    "S00000051LW0"
                  ],
                  "2": "2021-04-12 21:35:07",
                  "3": "2021-04-14 17:52:04",
                  "4": "0",
                  "5": "44.2825",
                  "6": "1",
                  "7": "1",
                  "8": "2021-04-14"
                },
                {
                  "0": "FOT00063248",
                  "1": [
                    "S000000524TB"
                  ],
                  "2": "2021-04-13 18:48:45",
                  "3": "2021-04-14 09:15:51",
                  "4": "0",
                  "5": "14.451666666666666",
                  "6": "1",
                  "7": "1",
                  "8": "2021-04-14"
                },
                {
                  "0": "FOT00064587",
                  "1": [
                    "S00000079BFB"
                  ],
                  "2": "2021-10-07 21:55:45",
                  "3": "2021-10-08 09:13:41",
                  "4": "0",
                  "5": "11.29888888888889",
                  "6": "1",
                  "7": "1",
                  "8": "2021-10-08"
                },
                {
                  "0": "FOT00065078",
                  "1": [
                    "S0000006NFCX"
                  ],
                  "2": "2021-08-23 17:19:17",
                  "3": "2021-08-26 06:47:41",
                  "4": "0",
                  "5": "61.473333333333336",
                  "6": "1",
                  "7": "1",
                  "8": "2021-08-26"
                },
                {
                  "0": "FOT00070427",
                  "1": [
                    "S0000004JT0F"
                  ],
                  "2": "2021-03-04 22:00:13",
                  "3": "2021-03-08 11:03:16",
                  "4": "0",
                  "5": "85.05083333333333",
                  "6": "1",
                  "7": "1",
                  "8": "2021-03-08"
                },
                {
                  "0": "FOT00071009",
                  "1": [
                    "S0000004852F"
                  ],
                  "2": "2021-02-01 21:47:25",
                  "3": "2021-02-02 09:52:26",
                  "4": "0",
                  "5": "12.08361111111111",
                  "6": "1",
                  "7": "1",
                  "8": "2021-02-02"
                },
                {
                  "0": "FOT00071222",
                  "1": [
                    "S0000004LVW9"
                  ],
                  "2": "2021-03-09 22:04:11",
                  "3": "2021-03-12 09:23:33",
                  "4": "0",
                  "5": "59.32277777777778",
                  "6": "1",
                  "7": "1",
                  "8": "2021-03-12"
                },
                {
                  "0": "L0000000OFZT",
                  "1": [
                    "00390078720584134405"
                  ],
                  "2": "2020-03-05 13:35:19",
                  "3": "2020-03-11 08:25:08",
                  "4": "0",
                  "5": "138.83027777777778",
                  "6": "1",
                  "7": "1",
                  "8": "2020-03-11"
                },
                {
                  "0": "L0000000ORVC",
                  "1": [
                    "00390078720584375815",
                    "00390078720584375815"
                  ],
                  "2": "2020-03-10 17:29:55",
                  "3": "2020-03-11 09:43:13",
                  "4": "0",
                  "5": "16.221666666666668",
                  "6": "2",
                  "7": "2",
                  "8": "2020-03-11"
                },
                {
                  "0": "L0000000STQL",
                  "1": [
                    "00390078710133113753"
                  ],
                  "2": "2020-07-03 21:13:04",
                  "3": "2020-07-10 08:57:41",
                  "4": "0",
                  "5": "155.7436111111111",
                  "6": "1",
                  "7": "1",
                  "8": "2020-07-10"
                },
                {
                  "0": "L0000000TIV2",
                  "1": [
                    "00390078710134573624"
                  ],
                  "2": "2020-07-23 21:16:29",
                  "3": "2020-07-29 07:33:54",
                  "4": "0",
                  "5": "130.2902777777778",
                  "6": "1",
                  "7": "1",
                  "8": "2020-07-29"
                },
                {
                  "0": "L0000001GO7R",
                  "1": [
                    "00390078720597310223"
                  ],
                  "2": "2021-10-11 21:48:46",
                  "3": "2021-10-12 13:10:01",
                  "4": "0",
                  "5": "15.354166666666666",
                  "6": "1",
                  "7": "1",
                  "8": "2021-10-12"
                },
                {
                  "0": "L0000001OLTN",
                  "1": [
                    "00390078720599823837"
                  ],
                  "2": "2022-03-02 21:57:29",
                  "3": "2022-03-03 09:47:58",
                  "4": "0",
                  "5": "11.841388888888888",
                  "6": "1",
                  "7": "1",
                  "8": "2022-03-03"
                },
                {
                  "0": "FOT00004242",
                  "1": [
                    "S00000099UHL"
                  ],
                  "2": "2022-04-02 12:23:42",
                  "3": "2022-04-05 07:24:16",
                  "4": "48",
                  "5": "19.00944444444444",
                  "6": "1",
                  "7": "1",
                  "8": "2022-04-05"
                },
                {
                  "0": "FOT00030659",
                  "1": [
                    "S0000001G0Y8"
                  ],
                  "2": "2019-08-13 22:13:23",
                  "3": "2019-08-16 09:53:08",
                  "4": "0",
                  "5": "59.6625",
                  "6": "1",
                  "7": "1",
                  "8": "2019-08-16"
                },
                {
                  "0": "FOT00037331",
                  "1": [
                    "S0000002O0SN"
                  ],
                  "2": "2020-07-15 22:05:32",
                  "3": "2020-07-24 10:30:22",
                  "4": "0",
                  "5": "204.4138888888889",
                  "6": "1",
                  "7": "1",
                  "8": "2020-07-24"
                },
                {
                  "0": "FOT00037693",
                  "1": [
                    "S0000002OIQX"
                  ],
                  "2": "2020-07-18 08:30:53",
                  "3": "2020-07-20 08:24:03",
                  "4": "0",
                  "5": "47.88611111111111",
                  "6": "1",
                  "7": "1",
                  "8": "2020-07-20"
                },
                {
                  "0": "FOT00042187",
                  "1": [
                    "S0000002M1P5"
                  ],
                  "2": "2020-06-30 15:54:51",
                  "3": "2020-07-02 13:52:58",
                  "4": "0",
                  "5": "45.96861111111111",
                  "6": "1",
                  "7": "1",
                  "8": "2020-07-02"
                },
                {
                  "0": "FOT00042675",
                  "1": [
                    "S000000263UA"
                  ],
                  "2": "2020-02-18 13:58:45",
                  "3": "2020-02-20 08:06:08",
                  "4": "0",
                  "5": "42.12305555555555",
                  "6": "1",
                  "7": "1",
                  "8": "2020-02-20"
                },
                {
                  "0": "FOT00043048",
                  "1": [
                    "S0000002S6MC"
                  ],
                  "2": "2020-08-12 10:29:42",
                  "3": "2020-08-19 17:12:31",
                  "4": "0",
                  "5": "174.7136111111111",
                  "6": "1",
                  "7": "1",
                  "8": "2020-08-19"
                },
                {
                  "0": "FOT00043555",
                  "1": [
                    "S0000002018X"
                  ],
                  "2": "2020-01-14 19:59:27",
                  "3": "2020-01-16 08:27:03",
                  "4": "0",
                  "5": "36.46",
                  "6": "1",
                  "7": "1",
                  "8": "2020-01-16"
                },
                {
                  "0": "FOT00044343",
                  "1": [
                    "S00000072ZD5"
                  ],
                  "2": "2021-09-25 13:25:22",
                  "3": "2021-09-30 11:32:59",
                  "4": "0",
                  "5": "118.12694444444445",
                  "6": "1",
                  "7": "1",
                  "8": "2021-09-30"
                },
                {
                  "0": "FOT00044363",
                  "1": [
                    "S00000070XRC"
                  ],
                  "2": "2021-09-22 22:13:21",
                  "3": "2021-09-23 10:57:57",
                  "4": "0",
                  "5": "12.743333333333334",
                  "6": "1",
                  "7": "1",
                  "8": "2021-09-23"
                },
                {
                  "0": "FOT00044456",
                  "1": [
                    "S000000759XT"
                  ],
                  "2": "2021-09-30 12:37:09",
                  "3": "2021-10-01 10:32:29",
                  "4": "0",
                  "5": "21.92222222222222",
                  "6": "1",
                  "7": "1",
                  "8": "2021-10-01"
                },
                {
                  "0": "FOT00044543",
                  "1": [
                    "S00000075CY8"
                  ],
                  "2": "2021-09-30 13:17:13",
                  "3": "2021-10-01 10:20:57",
                  "4": "0",
                  "5": "21.06222222222222",
                  "6": "1",
                  "7": "1",
                  "8": "2021-10-01"
                },
                {
                  "0": "FOT00044854",
                  "1": [
                    "S0000008EF54"
                  ],
                  "2": "2022-01-25 13:07:08",
                  "3": "2022-01-26 08:15:39",
                  "4": "0",
                  "5": "19.141944444444444",
                  "6": "1",
                  "7": "1",
                  "8": "2022-01-26"
                },
                {
                  "0": "FOT00045096",
                  "1": [
                    "S0000007AUCP"
                  ],
                  "2": "2021-10-12 12:17:59",
                  "3": "2021-10-15 13:14:21",
                  "4": "0",
                  "5": "72.93944444444445",
                  "6": "1",
                  "7": "1",
                  "8": "2021-10-15"
                },
                {
                  "0": "FOT00045184",
                  "1": [
                    "S0000007G6L2",
                    "S0000007G6L2"
                  ],
                  "2": "2021-10-22 13:58:43",
                  "3": "2021-10-25 15:47:29",
                  "4": "0",
                  "5": "73.81277777777778",
                  "6": "2",
                  "7": "2",
                  "8": "2021-10-25"
                },
                {
                  "0": "FOT00045209",
                  "1": [
                    "S0000009EOU3"
                  ],
                  "2": "2022-04-12 14:59:57",
                  "3": "2022-04-13 13:28:49",
                  "4": "0",
                  "5": "22.48111111111111",
                  "6": "1",
                  "7": "1",
                  "8": "2022-04-13"
                },
                {
                  "0": "FOT00045434",
                  "1": [
                    "S0000007HI94"
                  ],
                  "2": "2021-10-25 16:50:57",
                  "3": "2021-10-26 17:29:30",
                  "4": "0",
                  "5": "24.6425",
                  "6": "1",
                  "7": "1",
                  "8": "2021-10-26"
                },
                {
                  "0": "FOT00045973",
                  "1": [
                    "S0000008SLY5"
                  ],
                  "2": "2022-02-28 21:20:33",
                  "3": "2022-03-01 10:12:59",
                  "4": "0",
                  "5": "12.873888888888889",
                  "6": "1",
                  "7": "1",
                  "8": "2022-03-01"
                },
                {
                  "0": "FOT00047114",
                  "1": [
                    "S0000001GCE5"
                  ],
                  "2": "2019-08-15 07:15:05",
                  "3": "2019-08-21 11:08:37",
                  "4": "0",
                  "5": "147.89222222222222",
                  "6": "1",
                  "7": "1",
                  "8": "2019-08-21"
                },
                {
                  "0": "FOT00054929",
                  "1": [
                    "S0000002969I"
                  ],
                  "2": "2020-03-05 13:31:41",
                  "3": "2020-03-10 08:43:32",
                  "4": "0",
                  "5": "115.1975",
                  "6": "1",
                  "7": "1",
                  "8": "2020-03-10"
                },
                {
                  "0": "FOT00061693",
                  "1": [
                    "S0000008XMXQ"
                  ],
                  "2": "2022-03-10 22:17:51",
                  "3": "2022-03-11 07:32:37",
                  "4": "0",
                  "5": "9.24611111111111",
                  "6": "1",
                  "7": "1",
                  "8": "2022-03-11"
                },
                {
                  "0": "FOT00062330",
                  "1": [
                    "S0000008GYU9"
                  ],
                  "2": "2022-02-02 13:59:31",
                  "3": "2022-02-03 08:26:58",
                  "4": "0",
                  "5": "18.4575",
                  "6": "1",
                  "7": "1",
                  "8": "2022-02-03"
                },
                {
                  "0": "FOT00063991",
                  "1": [
                    "S0000004R68E"
                  ],
                  "2": "2021-03-20 13:29:14",
                  "3": "2021-03-22 11:14:50",
                  "4": "0",
                  "5": "45.76",
                  "6": "1",
                  "7": "1",
                  "8": "2021-03-22"
                },
                {
                  "0": "FOT00064464",
                  "1": [
                    "S0000005K9FJ",
                    "S0000005K9FJ"
                  ],
                  "2": "2021-05-25 13:26:17",
                  "3": "2021-05-28 13:17:16",
                  "4": "0",
                  "5": "71.84972222222223",
                  "6": "2",
                  "7": "2",
                  "8": "2021-05-28"
                },
                {
                  "0": "FOT00064845",
                  "1": [
                    "S0000008APIN"
                  ],
                  "2": "2022-01-13 22:13:41",
                  "3": "2022-01-17 12:13:52",
                  "4": "48",
                  "5": "38.00305555555556",
                  "6": "1",
                  "7": "1",
                  "8": "2022-01-17"
                },
                {
                  "0": "FOT00065238",
                  "1": [
                    "S00000067W4F"
                  ],
                  "2": "2021-07-15 14:51:15",
                  "3": "2021-07-21 09:13:52",
                  "4": "0",
                  "5": "138.37694444444443",
                  "6": "1",
                  "7": "1",
                  "8": "2021-07-21"
                },
                {
                  "0": "FOT00065327",
                  "1": [
                    "S0000006AOQJ"
                  ],
                  "2": "2021-07-21 15:20:07",
                  "3": "2021-07-23 09:57:39",
                  "4": "0",
                  "5": "42.62555555555556",
                  "6": "1",
                  "7": "1",
                  "8": "2021-07-23"
                },
                {
                  "0": "FOT00069405",
                  "1": [
                    "S0000004NTSE"
                  ],
                  "2": "2021-03-15 13:42:45",
                  "3": "2021-03-17 06:46:54",
                  "4": "0",
                  "5": "41.06916666666667",
                  "6": "1",
                  "7": "1",
                  "8": "2021-03-17"
                },
                {
                  "0": "FOT00070347",
                  "1": [
                    "S0000003K6XF"
                  ],
                  "2": "2020-10-27 12:41:43",
                  "3": "2020-10-29 11:49:01",
                  "4": "0",
                  "5": "47.12166666666667",
                  "6": "1",
                  "7": "1",
                  "8": "2020-10-29"
                },
                {
                  "0": "FOT00070489",
                  "1": [
                    "S0000003XX3X"
                  ],
                  "2": "2020-12-15 12:24:58",
                  "3": "2020-12-17 08:26:09",
                  "4": "0",
                  "5": "44.01972222222222",
                  "6": "1",
                  "7": "1",
                  "8": "2020-12-17"
                },
                {
                  "0": "FOT00070524",
                  "1": [
                    "S000000310HI"
                  ],
                  "2": "2020-09-10 21:55:40",
                  "3": "2020-09-24 08:49:59",
                  "4": "0",
                  "5": "322.90527777777777",
                  "6": "1",
                  "7": "1",
                  "8": "2020-09-24"
                },
                {
                  "0": "L0000000FHE9",
                  "1": [
                    "00390078710127970683"
                  ],
                  "2": "2019-09-13 22:06:42",
                  "3": "2019-09-18 10:57:15",
                  "4": "0",
                  "5": "108.8425",
                  "6": "1",
                  "7": "1",
                  "8": "2019-09-18"
                },
                {
                  "0": "L0000000VFZN",
                  "1": [
                    "00390078720587721992"
                  ],
                  "2": "2020-09-03 21:58:02",
                  "3": "2020-09-07 10:22:38",
                  "4": "0",
                  "5": "84.41",
                  "6": "1",
                  "7": "1",
                  "8": "2020-09-07"
                },
                {
                  "0": "L0000001NZ8C",
                  "1": [
                    "00390078720601009921"
                  ],
                  "2": "2022-02-14 06:09:28",
                  "3": "2022-02-14 08:26:03",
                  "4": "0",
                  "5": "2.276388888888889",
                  "6": "1",
                  "7": "1",
                  "8": "2022-02-14"
                },
                {
                  "0": "FOT00020393",
                  "1": [
                    "S0000001H29I"
                  ],
                  "2": "2019-08-21 13:49:39",
                  "3": "2019-08-27 08:16:28",
                  "4": "0",
                  "5": "138.44694444444445",
                  "6": "1",
                  "7": "1",
                  "8": "2019-08-27"
                },
                {
                  "0": "FOT00021730",
                  "1": [
                    "S0000001G11H"
                  ],
                  "2": "2019-08-13 22:13:55",
                  "3": "2019-08-15 10:35:25",
                  "4": "0",
                  "5": "36.358333333333334",
                  "6": "1",
                  "7": "1",
                  "8": "2019-08-15"
                },
                {
                  "0": "FOT00037135",
                  "1": [
                    "S0000002IPH3"
                  ],
                  "2": "2020-06-05 09:56:31",
                  "3": "2020-06-05 14:35:33",
                  "4": "0",
                  "5": "4.650555555555556",
                  "6": "1",
                  "7": "1",
                  "8": "2020-06-05"
                },
                {
                  "0": "FOT00037190",
                  "1": [
                    "S0000002AL10"
                  ],
                  "2": "2020-03-12 22:00:17",
                  "3": "2020-03-16 09:41:34",
                  "4": "0",
                  "5": "83.68805555555555",
                  "6": "1",
                  "7": "1",
                  "8": "2020-03-16"
                },
                {
                  "0": "FOT00037270",
                  "1": [
                    "S0000002TE91",
                    "S0000002TE91"
                  ],
                  "2": "2020-08-19 16:04:56",
                  "3": "2020-08-21 08:11:25",
                  "4": "0",
                  "5": "40.10805555555555",
                  "6": "2",
                  "7": "2",
                  "8": "2020-08-21"
                },
                {
                  "0": "FOT00037751",
                  "1": [
                    "S0000002P1UQ"
                  ],
                  "2": "2020-07-22 21:16:52",
                  "3": "2020-07-23 11:21:31",
                  "4": "0",
                  "5": "14.0775",
                  "6": "1",
                  "7": "1",
                  "8": "2020-07-23"
                },
                {
                  "0": "FOT00037976",
                  "1": [
                    "S0000002MHWG"
                  ],
                  "2": "2020-07-02 12:38:36",
                  "3": "2020-07-03 10:54:14",
                  "4": "0",
                  "5": "22.260555555555555",
                  "6": "1",
                  "7": "1",
                  "8": "2020-07-03"
                },
                {
                  "0": "FOT00038049",
                  "1": [
                    "S0000002L0M7"
                  ],
                  "2": "2020-06-18 21:33:56",
                  "3": "2020-06-19 13:33:58",
                  "4": "0",
                  "5": "16.000555555555554",
                  "6": "1",
                  "7": "1",
                  "8": "2020-06-19"
                },
                {
                  "0": "FOT00038104",
                  "1": [
                    "S0000002NPL1"
                  ],
                  "2": "2020-07-13 09:49:07",
                  "3": "2020-07-20 09:23:08",
                  "4": "0",
                  "5": "167.56694444444443",
                  "6": "1",
                  "7": "1",
                  "8": "2020-07-20"
                },
                {
                  "0": "FOT00038202",
                  "1": [
                    "S0000002ODR8"
                  ],
                  "2": "2020-07-16 23:38:06",
                  "3": "2020-07-22 12:39:55",
                  "4": "0",
                  "5": "133.03027777777777",
                  "6": "1",
                  "7": "1",
                  "8": "2020-07-22"
                },
                {
                  "0": "FOT00041721",
                  "1": [
                    "S0000004HKLW"
                  ],
                  "2": "2021-03-01 13:37:05",
                  "3": "2021-03-04 07:46:27",
                  "4": "0",
                  "5": "66.15611111111112",
                  "6": "1",
                  "7": "1",
                  "8": "2021-03-04"
                },
                {
                  "0": "FOT00042599",
                  "1": [
                    "S000000221N4"
                  ],
                  "2": "2020-01-25 13:48:57",
                  "3": "2020-01-28 15:20:57",
                  "4": "0",
                  "5": "73.53333333333333",
                  "6": "1",
                  "7": "1",
                  "8": "2020-01-28"
                },
                {
                  "0": "FOT00043612",
                  "1": [
                    "S0000002V9WY"
                  ],
                  "2": "2020-08-25 13:56:56",
                  "3": "2020-08-27 07:00:41",
                  "4": "0",
                  "5": "41.0625",
                  "6": "1",
                  "7": "1",
                  "8": "2020-08-27"
                },
                {
                  "0": "FOT00043775",
                  "1": [
                    "S00000026P99"
                  ],
                  "2": "2020-02-20 22:19:42",
                  "3": "2020-02-25 11:26:19",
                  "4": "0",
                  "5": "109.11027777777778",
                  "6": "1",
                  "7": "1",
                  "8": "2020-02-25"
                },
                {
                  "0": "FOT00044745",
                  "1": [
                    "S0000007VVL9",
                    "S0000007VVL9"
                  ],
                  "2": "2021-11-22 17:05:48",
                  "3": "2021-11-25 08:41:48",
                  "4": "0",
                  "5": "63.6",
                  "6": "2",
                  "7": "2",
                  "8": "2021-11-25"
                },
                {
                  "0": "FOT00046665",
                  "1": [
                    "S0000001L79Z"
                  ],
                  "2": "2019-09-20 13:46:08",
                  "3": "2019-09-23 10:21:58",
                  "4": "0",
                  "5": "68.59722222222223",
                  "6": "1",
                  "7": "1",
                  "8": "2019-09-23"
                },
                {
                  "0": "FOT00047004",
                  "1": [
                    "S0000001I35K"
                  ],
                  "2": "2019-08-29 10:21:39",
                  "3": "2019-08-30 14:15:10",
                  "4": "0",
                  "5": "27.891944444444444",
                  "6": "1",
                  "7": "1",
                  "8": "2019-08-30"
                },
                {
                  "0": "FOT00047087",
                  "1": [
                    "S0000001EPHT"
                  ],
                  "2": "2019-08-05 17:05:19",
                  "3": "2019-08-12 09:51:25",
                  "4": "0",
                  "5": "160.76833333333335",
                  "6": "1",
                  "7": "1",
                  "8": "2019-08-12"
                },
                {
                  "0": "FOT00059230",
                  "1": [
                    "S0000004ERCR"
                  ],
                  "2": "2021-02-19 19:36:14",
                  "3": "2021-02-22 10:41:46",
                  "4": "0",
                  "5": "63.09222222222222",
                  "6": "1",
                  "7": "1",
                  "8": "2021-02-22"
                },
                {
                  "0": "FOT00062127",
                  "1": [
                    "S0000008I25X"
                  ],
                  "2": "2022-02-07 14:02:00",
                  "3": "2022-02-08 08:07:13",
                  "4": "0",
                  "5": "18.086944444444445",
                  "6": "1",
                  "7": "1",
                  "8": "2022-02-08"
                },
                {
                  "0": "FOT00062209",
                  "1": [
                    "S0000008J16Z"
                  ],
                  "2": "2022-02-09 10:20:30",
                  "3": "2022-02-10 08:28:27",
                  "4": "0",
                  "5": "22.1325",
                  "6": "1",
                  "7": "1",
                  "8": "2022-02-10"
                },
                {
                  "0": "FOT00062277",
                  "1": [
                    "S0000008T4KO"
                  ],
                  "2": "2022-03-01 13:55:36",
                  "3": "2022-03-02 07:35:37",
                  "4": "0",
                  "5": "17.666944444444443",
                  "6": "1",
                  "7": "1",
                  "8": "2022-03-02"
                },
                {
                  "0": "FOT00062594",
                  "1": [
                    "S0000008VLI4"
                  ],
                  "2": "2022-03-07 22:11:47",
                  "3": "2022-03-08 07:20:27",
                  "4": "0",
                  "5": "9.144444444444444",
                  "6": "1",
                  "7": "1",
                  "8": "2022-03-08"
                },
                {
                  "0": "FOT00062730",
                  "1": [
                    "S0000004YJXC"
                  ],
                  "2": "2021-04-06 22:12:11",
                  "3": "2021-04-07 14:13:39",
                  "4": "0",
                  "5": "16.024444444444445",
                  "6": "1",
                  "7": "1",
                  "8": "2021-04-07"
                },
                {
                  "0": "FOT00063390",
                  "1": [
                    "S00000052FT4"
                  ],
                  "2": "2021-04-14 21:25:18",
                  "3": "2021-04-15 13:44:07",
                  "4": "0",
                  "5": "16.31361111111111",
                  "6": "1",
                  "7": "1",
                  "8": "2021-04-15"
                },
                {
                  "0": "FOT00063446",
                  "1": [
                    "S0000005F8V5"
                  ],
                  "2": "2021-05-17 21:34:13",
                  "3": "2021-05-19 09:20:51",
                  "4": "0",
                  "5": "35.77722222222222",
                  "6": "1",
                  "7": "1",
                  "8": "2021-05-19"
                },
                {
                  "0": "FOT00063719",
                  "1": [
                    "S00000076J5X"
                  ],
                  "2": "2021-10-02 07:13:05",
                  "3": "2021-10-04 11:36:35",
                  "4": "0",
                  "5": "52.391666666666666",
                  "6": "1",
                  "7": "1",
                  "8": "2021-10-04"
                },
                {
                  "0": "FOT00063823",
                  "1": [
                    "S0000004QFLY"
                  ],
                  "2": "2021-03-18 17:03:12",
                  "3": "2021-03-19 07:35:15",
                  "4": "0",
                  "5": "14.534166666666666",
                  "6": "1",
                  "7": "1",
                  "8": "2021-03-19"
                },
                {
                  "0": "FOT00064478",
                  "1": [
                    "S0000006S81W"
                  ],
                  "2": "2021-09-02 20:00:47",
                  "3": "2021-09-09 10:54:12",
                  "4": "0",
                  "5": "158.89027777777778",
                  "6": "1",
                  "7": "1",
                  "8": "2021-09-09"
                },
                {
                  "0": "FOT00064486",
                  "1": [
                    "S0000005K651"
                  ],
                  "2": "2021-05-25 13:32:53",
                  "3": "2021-05-28 13:17:03",
                  "4": "0",
                  "5": "71.73611111111111",
                  "6": "1",
                  "7": "1",
                  "8": "2021-05-28"
                },
                {
                  "0": "FOT00064547",
                  "1": [
                    "S0000006VOZK"
                  ],
                  "2": "2021-09-10 21:52:29",
                  "3": "2021-09-14 11:36:59",
                  "4": "0",
                  "5": "85.74166666666666",
                  "6": "1",
                  "7": "1",
                  "8": "2021-09-14"
                },
                {
                  "0": "FOT00064700",
                  "1": [
                    "S0000006I40L"
                  ],
                  "2": "2021-08-06 13:44:19",
                  "3": "2021-08-13 06:31:47",
                  "4": "0",
                  "5": "160.79111111111112",
                  "6": "1",
                  "7": "1",
                  "8": "2021-08-13"
                },
                {
                  "0": "FOT00065471",
                  "1": [
                    "S0000006GBQ4",
                    "S0000006GBQ4"
                  ],
                  "2": "2021-08-02 18:18:10",
                  "3": "2021-08-03 11:31:39",
                  "4": "0",
                  "5": "17.224722222222223",
                  "6": "2",
                  "7": "2",
                  "8": "2021-08-03"
                },
                {
                  "0": "FOT00069239",
                  "1": [
                    "S0000002TMI6"
                  ],
                  "2": "2020-08-20 13:49:28",
                  "3": "2020-08-21 10:44:58",
                  "4": "0",
                  "5": "20.925",
                  "6": "1",
                  "7": "1",
                  "8": "2020-08-21"
                },
                {
                  "0": "FOT00069403",
                  "1": [
                    "S0000004NIH2"
                  ],
                  "2": "2021-03-12 22:06:06",
                  "3": "2021-03-18 09:01:23",
                  "4": "0",
                  "5": "130.92138888888888",
                  "6": "1",
                  "7": "1",
                  "8": "2021-03-18"
                },
                {
                  "0": "FOT00069501",
                  "1": [
                    "S00000048O48",
                    "S00000048O48"
                  ],
                  "2": "2021-02-02 19:13:50",
                  "3": "2021-02-03 09:44:03",
                  "4": "0",
                  "5": "14.50361111111111",
                  "6": "2",
                  "7": "2",
                  "8": "2021-02-03"
                },
                {
                  "0": "FOT00069709",
                  "1": [
                    "S0000003JJ6G"
                  ],
                  "2": "2020-10-26 13:38:42",
                  "3": "2020-10-29 08:29:31",
                  "4": "0",
                  "5": "66.84694444444445",
                  "6": "1",
                  "7": "1",
                  "8": "2020-10-29"
                },
                {
                  "0": "FOT00069787",
                  "1": [
                    "S0000004NKEY"
                  ],
                  "2": "2021-03-12 22:06:46",
                  "3": "2021-03-15 14:42:17",
                  "4": "0",
                  "5": "64.59194444444445",
                  "6": "1",
                  "7": "1",
                  "8": "2021-03-15"
                },
                {
                  "0": "FOT00070373",
                  "1": [
                    "S00000045TDQ"
                  ],
                  "2": "2021-01-21 19:49:42",
                  "3": "2021-01-25 08:54:49",
                  "4": "0",
                  "5": "85.08527777777778",
                  "6": "1",
                  "7": "1",
                  "8": "2021-01-25"
                },
                {
                  "0": "FOT00070440",
                  "1": [
                    "S00000034NLV"
                  ],
                  "2": "2020-09-22 00:05:52",
                  "3": "2020-09-22 12:40:06",
                  "4": "0",
                  "5": "12.570555555555556",
                  "6": "1",
                  "7": "1",
                  "8": "2020-09-22"
                },
                {
                  "0": "FOT00070668",
                  "1": [
                    "S0000003PWRQ"
                  ],
                  "2": "2020-11-10 19:34:58",
                  "3": "2020-11-12 10:15:34",
                  "4": "0",
                  "5": "38.67666666666667",
                  "6": "1",
                  "7": "1",
                  "8": "2020-11-12"
                },
                {
                  "0": "FOT00070795",
                  "1": [
                    "S0000003FXBE"
                  ],
                  "2": "2020-10-19 21:56:18",
                  "3": "2020-10-20 10:04:30",
                  "4": "0",
                  "5": "12.136666666666667",
                  "6": "1",
                  "7": "1",
                  "8": "2020-10-20"
                },
                {
                  "0": "FOT00070863",
                  "1": [
                    "S0000003OOR2"
                  ],
                  "2": "2020-11-06 22:02:36",
                  "3": "2020-11-12 13:55:10",
                  "4": "0",
                  "5": "135.8761111111111",
                  "6": "1",
                  "7": "1",
                  "8": "2020-11-12"
                },
                {
                  "0": "FOT00071026",
                  "1": [
                    "S0000003K86D"
                  ],
                  "2": "2020-10-27 12:40:31",
                  "3": "2020-10-29 11:45:38",
                  "4": "0",
                  "5": "47.085277777777776",
                  "6": "1",
                  "7": "1",
                  "8": "2020-10-29"
                },
                {
                  "0": "FOT00071378",
                  "1": [
                    "S0000004L3ZF"
                  ],
                  "2": "2021-03-08 22:11:50",
                  "3": "2021-03-10 07:29:37",
                  "4": "0",
                  "5": "33.29638888888889",
                  "6": "1",
                  "7": "1",
                  "8": "2021-03-10"
                },
                {
                  "0": "FOT00071647",
                  "1": [
                    "S0000006XRMS"
                  ],
                  "2": "2021-09-15 21:58:23",
                  "3": "2021-09-16 10:55:52",
                  "4": "0",
                  "5": "12.958055555555555",
                  "6": "1",
                  "7": "1",
                  "8": "2021-09-16"
                },
                {
                  "0": "L0000000F47M",
                  "1": [
                    "00390078710129093670"
                  ],
                  "2": "2019-09-07 12:18:25",
                  "3": "2019-09-10 12:54:32",
                  "4": "0",
                  "5": "72.60194444444444",
                  "6": "1",
                  "7": "1",
                  "8": "2019-09-10"
                },
                {
                  "0": "L0000000NP92",
                  "1": [
                    "00390078720584030882"
                  ],
                  "2": "2020-02-19 16:54:15",
                  "3": "2020-02-26 08:05:58",
                  "4": "0",
                  "5": "159.1952777777778",
                  "6": "1",
                  "7": "1",
                  "8": "2020-02-26"
                },
                {
                  "0": "L0000000OJH6",
                  "1": [
                    "00390078720584782149"
                  ],
                  "2": "2020-03-07 07:32:56",
                  "3": "2020-03-11 08:28:00",
                  "4": "0",
                  "5": "96.91777777777777",
                  "6": "1",
                  "7": "1",
                  "8": "2020-03-11"
                },
                {
                  "0": "L0000000T15G",
                  "1": [
                    "00390078710133800141"
                  ],
                  "2": "2020-07-14 22:25:53",
                  "3": "2020-07-24 13:48:57",
                  "4": "0",
                  "5": "231.38444444444445",
                  "6": "1",
                  "7": "1",
                  "8": "2020-07-24"
                },
                {
                  "0": "L0000000VFVX",
                  "1": [
                    "00390078710134391105"
                  ],
                  "2": "2020-09-03 21:58:40",
                  "3": "2020-09-07 10:24:06",
                  "4": "0",
                  "5": "84.42388888888888",
                  "6": "1",
                  "7": "1",
                  "8": "2020-09-07"
                },
                {
                  "0": "L0000001NGX6",
                  "1": [
                    "00390078710140257464"
                  ],
                  "2": "2022-02-03 21:53:15",
                  "3": "2022-02-04 11:23:53",
                  "4": "0",
                  "5": "13.510555555555555",
                  "6": "1",
                  "7": "1",
                  "8": "2022-02-04"
                },
                {
                  "0": "00390078710128668886",
                  "1": [
                    "00390078710128668886"
                  ],
                  "2": "2019-09-05 19:21:46",
                  "3": "2019-09-10 12:52:26",
                  "4": "0",
                  "5": "113.5111111111111",
                  "6": "1",
                  "7": "1",
                  "8": "2019-09-10"
                },
                {
                  "0": "FOT00004416",
                  "1": [
                    "S0000009BPDO"
                  ],
                  "2": "2022-04-06 22:05:20",
                  "3": "2022-04-08 12:45:06",
                  "4": "0",
                  "5": "38.66277777777778",
                  "6": "1",
                  "7": "1",
                  "8": "2022-04-08"
                },
                {
                  "0": "FOT00004936",
                  "1": [
                    "S0000009G33Z"
                  ],
                  "2": "2022-04-14 16:00:37",
                  "3": "2022-04-19 10:01:46",
                  "4": "96",
                  "5": "18.019166666666663",
                  "6": "1",
                  "7": "1",
                  "8": "2022-04-19"
                },
                {
                  "0": "FOT00020889",
                  "1": [
                    "S0000001HGQI"
                  ],
                  "2": "2019-08-23 13:11:37",
                  "3": "2019-08-27 08:16:17",
                  "4": "0",
                  "5": "91.07777777777778",
                  "6": "1",
                  "7": "1",
                  "8": "2019-08-27"
                },
                {
                  "0": "FOT00037324",
                  "1": [
                    "S0000002O7IB"
                  ],
                  "2": "2020-07-16 08:41:00",
                  "3": "2020-07-22 12:40:26",
                  "4": "0",
                  "5": "147.99055555555555",
                  "6": "1",
                  "7": "1",
                  "8": "2020-07-22"
                },
                {
                  "0": "FOT00037572",
                  "1": [
                    "S0000002HAZR"
                  ],
                  "2": "2020-05-27 10:53:10",
                  "3": "2020-05-27 11:32:43",
                  "4": "0",
                  "5": "0.6591666666666667",
                  "6": "1",
                  "7": "1",
                  "8": "2020-05-27"
                },
                {
                  "0": "FOT00037581",
                  "1": [
                    "S0000002G8NR"
                  ],
                  "2": "2020-05-15 20:44:15",
                  "3": "2020-05-18 15:28:19",
                  "4": "0",
                  "5": "66.73444444444445",
                  "6": "1",
                  "7": "1",
                  "8": "2020-05-18"
                },
                {
                  "0": "FOT00037587",
                  "1": [
                    "S0000002G5W4"
                  ],
                  "2": "2020-05-15 11:00:47",
                  "3": "2020-05-15 15:00:13",
                  "4": "0",
                  "5": "3.9905555555555554",
                  "6": "1",
                  "7": "1",
                  "8": "2020-05-15"
                },
                {
                  "0": "FOT00037809",
                  "1": [
                    "S0000002QN10"
                  ],
                  "2": "2020-08-03 13:46:20",
                  "3": "2020-08-04 12:53:31",
                  "4": "0",
                  "5": "23.119722222222222",
                  "6": "1",
                  "7": "1",
                  "8": "2020-08-04"
                },
                {
                  "0": "FOT00037998",
                  "1": [
                    "S0000002PR3I"
                  ],
                  "2": "2020-07-25 13:47:00",
                  "3": "2020-08-03 13:59:44",
                  "4": "0",
                  "5": "216.2122222222222",
                  "6": "1",
                  "7": "1",
                  "8": "2020-08-03"
                },
                {
                  "0": "FOT00038116",
                  "1": [
                    "S0000002QMVA"
                  ],
                  "2": "2020-08-03 13:46:23",
                  "3": "2020-08-04 09:51:34",
                  "4": "0",
                  "5": "20.086388888888887",
                  "6": "1",
                  "7": "1",
                  "8": "2020-08-04"
                },
                {
                  "0": "FOT00038142",
                  "1": [
                    "S0000002BOR5"
                  ],
                  "2": "2020-03-20 12:34:54",
                  "3": "2020-03-24 08:01:32",
                  "4": "0",
                  "5": "91.44388888888889",
                  "6": "1",
                  "7": "1",
                  "8": "2020-03-24"
                },
                {
                  "0": "FOT00038323",
                  "1": [
                    "S00000027JGU"
                  ],
                  "2": "2020-02-26 21:52:36",
                  "3": "2020-02-28 08:31:16",
                  "4": "0",
                  "5": "34.644444444444446",
                  "6": "1",
                  "7": "1",
                  "8": "2020-02-28"
                },
                {
                  "0": "FOT00039509",
                  "1": [
                    "S000000271J1",
                    "S000000271J1"
                  ],
                  "2": "2020-02-22 13:40:32",
                  "3": "2020-02-24 11:51:21",
                  "4": "0",
                  "5": "46.180277777777775",
                  "6": "2",
                  "7": "2",
                  "8": "2020-02-24"
                },
                {
                  "0": "FOT00041661",
                  "1": [
                    "S0000004XHZE"
                  ],
                  "2": "2021-04-02 13:40:09",
                  "3": "2021-04-06 11:44:20",
                  "4": "0",
                  "5": "94.06972222222223",
                  "6": "1",
                  "7": "1",
                  "8": "2021-04-06"
                },
                {
                  "0": "FOT00042544",
                  "1": [
                    "S0000001Z2SM",
                    "S0000001Z2SM"
                  ],
                  "2": "2020-01-07 13:12:13",
                  "3": "2020-01-09 09:11:08",
                  "4": "0",
                  "5": "43.981944444444444",
                  "6": "2",
                  "7": "2",
                  "8": "2020-01-09"
                },
                {
                  "0": "FOT00042868",
                  "1": [
                    "S0000001R5Z4"
                  ],
                  "2": "2019-10-29 07:03:53",
                  "3": "2019-11-08 13:11:20",
                  "4": "0",
                  "5": "246.12416666666667",
                  "6": "1",
                  "7": "1",
                  "8": "2019-11-08"
                },
                {
                  "0": "FOT00043471",
                  "1": [
                    "S0000001TD8S"
                  ],
                  "2": "2019-11-08 13:06:28",
                  "3": "2019-11-13 15:24:54",
                  "4": "0",
                  "5": "122.30722222222222",
                  "6": "1",
                  "7": "1",
                  "8": "2019-11-13"
                },
                {
                  "0": "FOT00043491",
                  "1": [
                    "S0000002O0GA"
                  ],
                  "2": "2020-07-15 22:06:18",
                  "3": "2020-08-03 15:29:24",
                  "4": "0",
                  "5": "449.385",
                  "6": "1",
                  "7": "1",
                  "8": "2020-08-03"
                },
                {
                  "0": "FOT00044366",
                  "1": [
                    "S00000070MPZ"
                  ],
                  "2": "2021-09-22 22:12:06",
                  "3": "2021-09-23 09:38:58",
                  "4": "0",
                  "5": "11.447777777777778",
                  "6": "1",
                  "7": "1",
                  "8": "2021-09-23"
                },
                {
                  "0": "FOT00045136",
                  "1": [
                    "S0000007D23N"
                  ],
                  "2": "2021-10-16 06:48:35",
                  "3": "2021-10-19 06:36:58",
                  "4": "0",
                  "5": "71.80638888888889",
                  "6": "1",
                  "7": "1",
                  "8": "2021-10-19"
                },
                {
                  "0": "FOT00046893",
                  "1": [
                    "S0000001F5NF"
                  ],
                  "2": "2019-08-07 19:13:47",
                  "3": "2019-08-15 10:36:29",
                  "4": "0",
                  "5": "183.37833333333333",
                  "6": "1",
                  "7": "1",
                  "8": "2019-08-15"
                },
                {
                  "0": "FOT00061625",
                  "1": [
                    "S0000008X3JZ"
                  ],
                  "2": "2022-03-10 00:13:41",
                  "3": "2022-03-10 06:39:25",
                  "4": "0",
                  "5": "6.428888888888889",
                  "6": "1",
                  "7": "1",
                  "8": "2022-03-10"
                },
                {
                  "0": "FOT00061924",
                  "1": [
                    "S0000008YFYX"
                  ],
                  "2": "2022-03-12 07:09:22",
                  "3": "2022-03-14 07:57:31",
                  "4": "48",
                  "5": "0.802500000000002",
                  "6": "1",
                  "7": "1",
                  "8": "2022-03-14"
                },
                {
                  "0": "FOT00062016",
                  "1": [
                    "S0000008UZR4"
                  ],
                  "2": "2022-03-04 21:54:38",
                  "3": "2022-03-07 07:09:55",
                  "4": "48",
                  "5": "9.25472222222222",
                  "6": "1",
                  "7": "1",
                  "8": "2022-03-07"
                }
              ],
              "schema": [
                {
                  "key": "0",
                  "name": "LODNUM",
                  "type": "string"
                },
                {
                  "key": "1",
                  "name": "DW_SUBNUM_SET",
                  "type": "ArrayType(StringType,false)"
                },
                {
                  "key": "2",
                  "name": "DW_START_DATE",
                  "type": "timestamp"
                },
                {
                  "key": "3",
                  "name": "DW_END_DATE",
                  "type": "timestamp"
                },
                {
                  "key": "4",
                  "name": "DW_EXCLUDE_DURATION",
                  "type": "int"
                },
                {
                  "key": "5",
                  "name": "DW_ADJ_DURATION",
                  "type": "double"
                },
                {
                  "key": "6",
                  "name": "DW_NBR_ITEMS",
                  "type": "bigint"
                },
                {
                  "key": "7",
                  "name": "DW_MOVED_QNTY",
                  "type": "bigint"
                },
                {
                  "key": "8",
                  "name": "REFERRENCE_DTE",
                  "type": "date"
                }
              ],
              "truncated": false
            },
            "isSummary": false,
            "language": "scala"
          },
          "persist_state": {
            "view": {
              "type": "details",
              "tableOptions": {},
              "chartOptions": {
                "chartType": "bar",
                "aggregationType": "sum",
                "categoryFieldKeys": [
                  "0"
                ],
                "seriesFieldKeys": [
                  "4"
                ],
                "isStacked": false
              }
            }
          }
        }
      }
    }
  },
  "nbformat": 4,
  "nbformat_minor": 2
}